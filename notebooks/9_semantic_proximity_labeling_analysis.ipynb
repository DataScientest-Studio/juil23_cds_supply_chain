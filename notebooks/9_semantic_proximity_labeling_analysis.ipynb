{
 "cells": [
  {
   "cell_type": "code",
   "execution_count": null,
   "metadata": {},
   "outputs": [],
   "source": [
    "import pandas as pd\n",
    "import spacy\n",
    "from sklearn.metrics import make_scorer, classification_report, make_scorer, recall_score, f1_score, accuracy_score, confusion_matrix\n",
    "import time\n",
    "\n",
    "\n",
    "df = pd.read_csv(\"../data/avis/train_noYC_lemma_sent_equil.csv\", index_col= 0)\n"
   ]
  },
  {
   "cell_type": "code",
   "execution_count": null,
   "metadata": {},
   "outputs": [],
   "source": [
    "# essai sur l'ensemble de la base d'entrainement pour la variable inefficacité\n",
    "\n",
    "\n",
    "df_messages = df.text_total\n",
    "\n",
    "f1_scores = []\n",
    "thresh = 0.83 # as per our grid search results\n",
    "\n",
    "y_pred = []\n",
    "round_count = 0\n",
    "t0 = time.time()\n",
    "for message in df_messages:\n",
    "    round_count+=1\n",
    "    sim_score= []\n",
    "    #print(\"message entier : \",message)\n",
    "    message = nlp(message)\n",
    "    sentences = message.sents\n",
    "    sentences_exemples = bag_innefficace_nlp.sents\n",
    "    for sentence in sentences:\n",
    "        for sentence_exemple in sentences_exemples:\n",
    "            #print(\"phrase: \",sentence)\n",
    "            temp_sim_score = round(sentence_exemple.similarity(sentence),2)\n",
    "            #print(temp_sim_score)\n",
    "            sim_score.append(temp_sim_score)\n",
    "    #print(\"-------------\")\n",
    "    allocate_lab(sim_score,y_pred,thresh)\n",
    "    if round_count % 100 == 0:\n",
    "        print(round_count, \" messages labelled\")\n",
    "t1 = time.time()\n",
    "delais = round((t1-t0)/60,2)\n",
    "df['var_bad:inefficace'] = y_pred\n",
    "\n",
    "print(f\"{delais} minutes to compete similarity labelling\")\n",
    "df['var_bad:inefficace'].value_counts()"
   ]
  }
 ],
 "metadata": {
  "kernelspec": {
   "display_name": "Python 3",
   "language": "python",
   "name": "python3"
  },
  "language_info": {
   "name": "python",
   "version": "3.9.5"
  },
  "orig_nbformat": 4,
  "vscode": {
   "interpreter": {
    "hash": "aee8b7b246df8f9039afb4144a1f6fd8d2ca17a180786b69acc140d282b71a49"
   }
  }
 },
 "nbformat": 4,
 "nbformat_minor": 2
}
