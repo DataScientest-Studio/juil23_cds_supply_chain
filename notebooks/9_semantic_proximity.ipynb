{
 "cells": [
  {
   "cell_type": "code",
   "execution_count": null,
   "metadata": {},
   "outputs": [],
   "source": [
    "import pandas as pd\n",
    "import spacy\n",
    "from sklearn.metrics import make_scorer, classification_report, make_scorer, recall_score, f1_score, accuracy_score, confusion_matrix\n",
    "df = pd.read_excel('../data/avis/general_df_clean_sent_15k_manual_code.xlsx')\n",
    "\n",
    "nlp = spacy.load(\"fr_core_news_lg\")\n",
    "df.head()"
   ]
  },
  {
   "cell_type": "code",
   "execution_count": null,
   "metadata": {},
   "outputs": [],
   "source": [
    "theme_frais= [row['text_avis'] for index, row in df.iterrows() if pd.notna(row['var_frais'])]\n",
    "theme_efficacite = [row['text_avis'] for index, row in df.iterrows() if pd.notna(row['var_efficacité'])]\n",
    "theme_discrimination = [row['text_avis'] for index, row in df.iterrows() if pd.notna(row['var_discrimination'])]\n",
    "theme_protexction = [row['text_avis'] for index, row in df.iterrows() if pd.notna(row['var_protection'])]\n",
    "theme_cloture = [row['text_avis'] for index, row in df.iterrows() if pd.notna(row['var_clôture'])]\n",
    "theme_prets = [row['text_avis'] for index, row in df.iterrows() if pd.notna(row['var_prêts'])]\n",
    "theme_virements = [row['text_avis'] for index, row in df.iterrows() if pd.notna(row['var_virements'])]\n",
    "theme_communication = [row['text_avis'] for index, row in df.iterrows() if pd.notna(row['var_communication'])]\n"
   ]
  },
  {
   "cell_type": "code",
   "execution_count": null,
   "metadata": {},
   "outputs": [],
   "source": [
    "nuggets_efficacité = pd.read_excel(\"../data/avis/general_df_clean_sent_15k_manual_code.xlsx\",\n",
    "                                   sheet_name = \"curation_efficacité\", index_col= 0)\n",
    "nuggets_efficacité.head(1)"
   ]
  },
  {
   "cell_type": "code",
   "execution_count": null,
   "metadata": {},
   "outputs": [],
   "source": [
    "# tout\n",
    "list_exemples_tout = df.text_avis\n",
    "\n",
    "# efficace \n",
    "list_exemples_efficace = nuggets_efficacité.curated_efficace\n",
    "list_exemples_efficace = list_exemples_efficace.dropna()\n",
    "bag_efficace = \" \".join([message for message in list_exemples_efficace])\n",
    "\n",
    "# innefficace\n",
    "list_exemples_innefficace = nuggets_efficacité.curated_inneficace\n",
    "list_exemples_innefficace = list_exemples_innefficace.dropna()\n",
    "bag_innefficace = \" \".join([message for message in list_exemples_innefficace])\n",
    "bag_innefficace_nlp =nlp(bag_innefficace)\n"
   ]
  },
  {
   "cell_type": "code",
   "execution_count": null,
   "metadata": {},
   "outputs": [],
   "source": [
    "# fonctions et liste de seuils de similarité à tester\n",
    "\n",
    "import numpy as np\n",
    "test_thresh = np.arange(0.59,1.01, 0.01)\n",
    "#thresh_bench = pd.DataFrame(columns=[\"thresh\", \"f1-score\"])\n",
    "f1_scores = []\n",
    "\n",
    "def allocate_lab(sim_score, y_pred, sim_thresh):\n",
    "    if max(sim_score) > sim_thresh:\n",
    "        y_pred.append(1)\n",
    "    else:\n",
    "        y_pred.append(0)\n",
    "\n",
    "def similarity_report(y,y_pred):\n",
    "    report =classification_report(y, y_pred, output_dict=True)  \n",
    "    macro_f1 = round(report['macro avg']['f1-score'],2)\n",
    "    #print(report)\n",
    "    f1_scores.append(macro_f1)\n"
   ]
  },
  {
   "cell_type": "code",
   "execution_count": null,
   "metadata": {},
   "outputs": [],
   "source": [
    "# [message] to [bag of exemples] ->> f1 =0.7 avec thresh de 0.84\n",
    "f1_scores = []\n",
    "\n",
    "for thresh in test_thresh:\n",
    "    y_pred = []\n",
    "    for message in list_exemples_tout:\n",
    "        sim_score = []\n",
    "        #print(\"message entier : \",message)\n",
    "        message = nlp(message)\n",
    "        sim_score.append(round(bag_innefficace_nlp.similarity(message),2))\n",
    "        #print(sim_score)\n",
    "        #print(\"-------------\")\n",
    "        allocate_lab(sim_score,y_pred,thresh)\n",
    "    similarity_report(y,y_pred)\n",
    "best_score = max(f1_scores)\n",
    "best_thresh = test_thresh[f1_scores.index(best_score)]\n",
    "print(f\"best score: {best_score} using similarity thresh of {best_thresh}\")"
   ]
  },
  {
   "cell_type": "code",
   "execution_count": null,
   "metadata": {},
   "outputs": [],
   "source": [
    "# [sentence of messages] vs [bag of exemples] --> score f1 : 0.73 avec thresh de 0.84\n",
    "f1_scores = []\n",
    "\n",
    "for thresh in test_thresh:\n",
    "    y_pred = []\n",
    "    for message in list_exemples_tout:\n",
    "        sim_score= []\n",
    "        #print(\"message entier : \",message)\n",
    "        message = nlp(message)\n",
    "        sentences = message.sents\n",
    "        for sentence in sentences:\n",
    "            #print(\"phrase: \",sentence)\n",
    "            temp_sim_score = round(bag_innefficace_nlp.similarity(sentence),2)\n",
    "            #print(temp_sim_score)\n",
    "            sim_score.append(temp_sim_score)\n",
    "        #print(\"-------------\")\n",
    "        allocate_lab(sim_score,y_pred,thresh)\n",
    "    similarity_report(y,y_pred)\n",
    "\n",
    "best_score = max(f1_scores)\n",
    "best_thresh = test_thresh[f1_scores.index(best_score)]\n",
    "print(f\"best score: {best_score} using similarity thresh of {best_thresh}\")"
   ]
  },
  {
   "cell_type": "code",
   "execution_count": 227,
   "metadata": {},
   "outputs": [
    {
     "data": {
      "text/html": [
       "<div>\n",
       "<style scoped>\n",
       "    .dataframe tbody tr th:only-of-type {\n",
       "        vertical-align: middle;\n",
       "    }\n",
       "\n",
       "    .dataframe tbody tr th {\n",
       "        vertical-align: top;\n",
       "    }\n",
       "\n",
       "    .dataframe thead th {\n",
       "        text-align: right;\n",
       "    }\n",
       "</style>\n",
       "<table border=\"1\" class=\"dataframe\">\n",
       "  <thead>\n",
       "    <tr style=\"text-align: right;\">\n",
       "      <th></th>\n",
       "      <th>Unnamed: 0</th>\n",
       "      <th>user</th>\n",
       "      <th>etoiles</th>\n",
       "      <th>n_avis</th>\n",
       "      <th>date_avis</th>\n",
       "      <th>date_experience</th>\n",
       "      <th>Société</th>\n",
       "      <th>text_total</th>\n",
       "      <th>jour_avis</th>\n",
       "      <th>mois_avis</th>\n",
       "      <th>...</th>\n",
       "      <th>heure_experience</th>\n",
       "      <th>annee_experience</th>\n",
       "      <th>periode_avis</th>\n",
       "      <th>longueur_texte</th>\n",
       "      <th>text_stop</th>\n",
       "      <th>text_lemma</th>\n",
       "      <th>label</th>\n",
       "      <th>score</th>\n",
       "      <th>sentiment_norm</th>\n",
       "      <th>var_bad:inefficace</th>\n",
       "    </tr>\n",
       "  </thead>\n",
       "  <tbody>\n",
       "    <tr>\n",
       "      <th>5529</th>\n",
       "      <td>5529</td>\n",
       "      <td>Benjamin Danneville</td>\n",
       "      <td>5</td>\n",
       "      <td>1.0</td>\n",
       "      <td>2021-04-26</td>\n",
       "      <td>2021-04-26</td>\n",
       "      <td>Shine</td>\n",
       "      <td>Permet de faire des factures et des…Permet de ...</td>\n",
       "      <td>26</td>\n",
       "      <td>4</td>\n",
       "      <td>...</td>\n",
       "      <td>0</td>\n",
       "      <td>2021</td>\n",
       "      <td>nuit</td>\n",
       "      <td>95</td>\n",
       "      <td>Permet faire factures … Permet faire factures ...</td>\n",
       "      <td>permettre faire facture … permettre faire fact...</td>\n",
       "      <td>1</td>\n",
       "      <td>0.804014</td>\n",
       "      <td>0.804014</td>\n",
       "      <td>0</td>\n",
       "    </tr>\n",
       "    <tr>\n",
       "      <th>57109</th>\n",
       "      <td>120764</td>\n",
       "      <td>Gillot Frederic</td>\n",
       "      <td>5</td>\n",
       "      <td>1.0</td>\n",
       "      <td>2022-01-16</td>\n",
       "      <td>2022-01-16</td>\n",
       "      <td>Immoprt</td>\n",
       "      <td>Bien accompagnéBien accompagné, sympathique, p...</td>\n",
       "      <td>16</td>\n",
       "      <td>1</td>\n",
       "      <td>...</td>\n",
       "      <td>0</td>\n",
       "      <td>2022</td>\n",
       "      <td>nuit</td>\n",
       "      <td>73</td>\n",
       "      <td>Bien accompagnéBien accompagné , sympathique ,...</td>\n",
       "      <td>bien accompagnébien accompagner , sympathique ...</td>\n",
       "      <td>1</td>\n",
       "      <td>0.974431</td>\n",
       "      <td>0.974431</td>\n",
       "      <td>0</td>\n",
       "    </tr>\n",
       "  </tbody>\n",
       "</table>\n",
       "<p>2 rows × 24 columns</p>\n",
       "</div>"
      ],
      "text/plain": [
       "       Unnamed: 0                 user  etoiles  n_avis   date_avis  \\\n",
       "5529         5529  Benjamin Danneville        5     1.0  2021-04-26   \n",
       "57109      120764      Gillot Frederic        5     1.0  2022-01-16   \n",
       "\n",
       "      date_experience  Société  \\\n",
       "5529       2021-04-26    Shine   \n",
       "57109      2022-01-16  Immoprt   \n",
       "\n",
       "                                              text_total  jour_avis  \\\n",
       "5529   Permet de faire des factures et des…Permet de ...         26   \n",
       "57109  Bien accompagnéBien accompagné, sympathique, p...         16   \n",
       "\n",
       "       mois_avis  ...  heure_experience  annee_experience  periode_avis  \\\n",
       "5529           4  ...                 0              2021          nuit   \n",
       "57109          1  ...                 0              2022          nuit   \n",
       "\n",
       "       longueur_texte                                          text_stop  \\\n",
       "5529               95  Permet faire factures … Permet faire factures ...   \n",
       "57109              73  Bien accompagnéBien accompagné , sympathique ,...   \n",
       "\n",
       "                                              text_lemma label     score  \\\n",
       "5529   permettre faire facture … permettre faire fact...     1  0.804014   \n",
       "57109  bien accompagnébien accompagner , sympathique ...     1  0.974431   \n",
       "\n",
       "      sentiment_norm var_bad:inefficace  \n",
       "5529        0.804014                  0  \n",
       "57109       0.974431                  0  \n",
       "\n",
       "[2 rows x 24 columns]"
      ]
     },
     "execution_count": 227,
     "metadata": {},
     "output_type": "execute_result"
    }
   ],
   "source": [
    "df.head(2)"
   ]
  },
  {
   "cell_type": "code",
   "execution_count": null,
   "metadata": {},
   "outputs": [],
   "source": [
    "# [sentence of messages] vs [étalon] --> f1 .57 avec seuil de 0.59\n",
    "f1_scores = []\n",
    "\n",
    "for thresh in test_thresh:\n",
    "    y_pred = []\n",
    "    for message in list_exemples_tout:\n",
    "        sim_score= []\n",
    "        #print(\"message entier : \",message)\n",
    "        message = nlp(message)\n",
    "        sentences = message.sents\n",
    "        for sentence in sentences:\n",
    "            #print(\"phrase: \",sentence)\n",
    "            temp_sim_score = round(étalon.similarity(sentence),2)\n",
    "            #print(temp_sim_score)\n",
    "            sim_score.append(temp_sim_score)\n",
    "        #print(\"-------------\")\n",
    "        allocate_lab(sim_score,y_pred,thresh)\n",
    "    similarity_report(y,y_pred)\n",
    "\n",
    "best_score = max(f1_scores)\n",
    "best_thresh = test_thresh[f1_scores.index(best_score)]\n",
    "print(f\"best score: {best_score} using similarity thresh of {best_thresh}\")"
   ]
  },
  {
   "cell_type": "code",
   "execution_count": null,
   "metadata": {},
   "outputs": [],
   "source": [
    "best_score = max(f1_scores)\n",
    "best_thresh = test_thresh[f1_scores.index(best_score)]\n",
    "print(f\"best score: {best_score} using similarity thresh of {best_thresh}\")"
   ]
  },
  {
   "cell_type": "code",
   "execution_count": null,
   "metadata": {},
   "outputs": [],
   "source": [
    "# [sentence of messages] vs [étalon] --> f1 .54 avec seuil de 0.59 \n",
    "f1_scores = []\n",
    "\n",
    "for thresh in test_thresh:\n",
    "    y_pred = []\n",
    "    for message in list_exemples_tout:\n",
    "        sim_score = []\n",
    "        #print(\"message entier : \",message)\n",
    "        message = nlp(message)\n",
    "        sim_score.append(round(étalon.similarity(message),2))\n",
    "        #print(sim_score)\n",
    "        #print(\"-------------\")\n",
    "        allocate_lab(sim_score,y_pred,thresh)\n",
    "    similarity_report(y,y_pred)\n",
    "best_score = max(f1_scores)\n",
    "best_thresh = test_thresh[f1_scores.index(best_score)]\n",
    "print(f\"best score: {best_score} using similarity thresh of {best_thresh}\")"
   ]
  },
  {
   "cell_type": "code",
   "execution_count": null,
   "metadata": {},
   "outputs": [],
   "source": [
    "# [sentences of messages] vs [sentences of bag of exemples] -> f1-score of .84 avec seuil de 0.91\n",
    "f1_scores = []\n",
    "\n",
    "for thresh in test_thresh:\n",
    "    y_pred = []\n",
    "    for message in list_exemples_tout:\n",
    "        sim_score= []\n",
    "        #print(\"message entier : \",message)\n",
    "        message = nlp(message)\n",
    "        sentences = message.sents\n",
    "        sentences_exemples = bag_innefficace_nlp.sents\n",
    "        for sentence in sentences:\n",
    "            for sentence_exemple in sentences_exemples:\n",
    "                #print(\"phrase: \",sentence)\n",
    "                temp_sim_score = round(sentence_exemple.similarity(sentence),2)\n",
    "                #print(temp_sim_score)\n",
    "                sim_score.append(temp_sim_score)\n",
    "        #print(\"-------------\")\n",
    "        allocate_lab(sim_score,y_pred,thresh)\n",
    "    similarity_report(y,y_pred)\n",
    "\n",
    "best_score = max(f1_scores)\n",
    "best_thresh = test_thresh[f1_scores.index(best_score)]\n",
    "print(f\"best score: {best_score} using similarity thresh of {best_thresh}\")"
   ]
  },
  {
   "cell_type": "code",
   "execution_count": null,
   "metadata": {},
   "outputs": [],
   "source": [
    "test= pd.read_excel(\"\")"
   ]
  },
  {
   "cell_type": "code",
   "execution_count": null,
   "metadata": {},
   "outputs": [],
   "source": [
    "# version sentence sans stopwords\n",
    "\n"
   ]
  },
  {
   "cell_type": "code",
   "execution_count": null,
   "metadata": {},
   "outputs": [],
   "source": [
    "definition = \"def\"\n",
    "exemples = \"str concaténé des exemples\"\n",
    "defex = definition + \" \" + exemples\n",
    "\n",
    "# boucle pour évaluer pour chaque theme les messages, puis les phrases dans chaque message\n",
    "\n",
    "# boucle thèmes\n",
    "for thème in df.themes:\n",
    "\tcol_theme = \"Q\" + thème\n",
    "\t# boucle pour les messages\n",
    "\tfor i, message in enumerate(train_df.text_total):\n",
    "\t\tmessage = nlp(message)\n",
    "\t\tmessage_sentence = sentence(message)\n",
    "\t\tsim_scores = []\n",
    "\t\tfor sentence in message_sentence:\n",
    "\t\t\tsim = sentence.similarity(defex)\n",
    "\t\t\tsim_scores.append(sim)\n",
    "\t\tif sim_score.max() > 0.8:\n",
    "\t\t\ttrain_df.iloc[i,col_theme] = 1\n",
    "\t\t\texerpt_col = col_theme + \"exerpt\"\n",
    "\t\t\ttrain_df.iloc[i,exerpt_col] = sentence[sim_scores.index(max(sim_scores))]\n",
    "\t\telse:\n",
    "\t\t\ttrain_df[col_theme] = 0\n",
    "\t\t\texerpt_col = \"\"\n",
    " \n",
    "\t\n",
    "\n"
   ]
  },
  {
   "cell_type": "code",
   "execution_count": 184,
   "metadata": {},
   "outputs": [],
   "source": []
  },
  {
   "cell_type": "code",
   "execution_count": 187,
   "metadata": {},
   "outputs": [
    {
     "name": "stderr",
     "output_type": "stream",
     "text": [
      "/Library/Frameworks/Python.framework/Versions/3.9/lib/python3.9/site-packages/sklearn/metrics/_classification.py:1344: UndefinedMetricWarning: Precision and F-score are ill-defined and being set to 0.0 in labels with no predicted samples. Use `zero_division` parameter to control this behavior.\n",
      "  _warn_prf(average, modifier, msg_start, len(result))\n",
      "/Library/Frameworks/Python.framework/Versions/3.9/lib/python3.9/site-packages/sklearn/metrics/_classification.py:1344: UndefinedMetricWarning: Precision and F-score are ill-defined and being set to 0.0 in labels with no predicted samples. Use `zero_division` parameter to control this behavior.\n",
      "  _warn_prf(average, modifier, msg_start, len(result))\n",
      "/Library/Frameworks/Python.framework/Versions/3.9/lib/python3.9/site-packages/sklearn/metrics/_classification.py:1344: UndefinedMetricWarning: Precision and F-score are ill-defined and being set to 0.0 in labels with no predicted samples. Use `zero_division` parameter to control this behavior.\n",
      "  _warn_prf(average, modifier, msg_start, len(result))\n",
      "/Library/Frameworks/Python.framework/Versions/3.9/lib/python3.9/site-packages/sklearn/metrics/_classification.py:1344: UndefinedMetricWarning: Precision and F-score are ill-defined and being set to 0.0 in labels with no predicted samples. Use `zero_division` parameter to control this behavior.\n",
      "  _warn_prf(average, modifier, msg_start, len(result))\n",
      "/Library/Frameworks/Python.framework/Versions/3.9/lib/python3.9/site-packages/sklearn/metrics/_classification.py:1344: UndefinedMetricWarning: Precision and F-score are ill-defined and being set to 0.0 in labels with no predicted samples. Use `zero_division` parameter to control this behavior.\n",
      "  _warn_prf(average, modifier, msg_start, len(result))\n",
      "/Library/Frameworks/Python.framework/Versions/3.9/lib/python3.9/site-packages/sklearn/metrics/_classification.py:1344: UndefinedMetricWarning: Precision and F-score are ill-defined and being set to 0.0 in labels with no predicted samples. Use `zero_division` parameter to control this behavior.\n",
      "  _warn_prf(average, modifier, msg_start, len(result))\n",
      "/Library/Frameworks/Python.framework/Versions/3.9/lib/python3.9/site-packages/sklearn/metrics/_classification.py:1344: UndefinedMetricWarning: Precision and F-score are ill-defined and being set to 0.0 in labels with no predicted samples. Use `zero_division` parameter to control this behavior.\n",
      "  _warn_prf(average, modifier, msg_start, len(result))\n",
      "/Library/Frameworks/Python.framework/Versions/3.9/lib/python3.9/site-packages/sklearn/metrics/_classification.py:1344: UndefinedMetricWarning: Precision and F-score are ill-defined and being set to 0.0 in labels with no predicted samples. Use `zero_division` parameter to control this behavior.\n",
      "  _warn_prf(average, modifier, msg_start, len(result))\n",
      "/Library/Frameworks/Python.framework/Versions/3.9/lib/python3.9/site-packages/sklearn/metrics/_classification.py:1344: UndefinedMetricWarning: Precision and F-score are ill-defined and being set to 0.0 in labels with no predicted samples. Use `zero_division` parameter to control this behavior.\n",
      "  _warn_prf(average, modifier, msg_start, len(result))\n",
      "/Library/Frameworks/Python.framework/Versions/3.9/lib/python3.9/site-packages/sklearn/metrics/_classification.py:1344: UndefinedMetricWarning: Precision and F-score are ill-defined and being set to 0.0 in labels with no predicted samples. Use `zero_division` parameter to control this behavior.\n",
      "  _warn_prf(average, modifier, msg_start, len(result))\n",
      "/Library/Frameworks/Python.framework/Versions/3.9/lib/python3.9/site-packages/sklearn/metrics/_classification.py:1344: UndefinedMetricWarning: Precision and F-score are ill-defined and being set to 0.0 in labels with no predicted samples. Use `zero_division` parameter to control this behavior.\n",
      "  _warn_prf(average, modifier, msg_start, len(result))\n",
      "/Library/Frameworks/Python.framework/Versions/3.9/lib/python3.9/site-packages/sklearn/metrics/_classification.py:1344: UndefinedMetricWarning: Precision and F-score are ill-defined and being set to 0.0 in labels with no predicted samples. Use `zero_division` parameter to control this behavior.\n",
      "  _warn_prf(average, modifier, msg_start, len(result))\n",
      "/Library/Frameworks/Python.framework/Versions/3.9/lib/python3.9/site-packages/sklearn/metrics/_classification.py:1344: UndefinedMetricWarning: Precision and F-score are ill-defined and being set to 0.0 in labels with no predicted samples. Use `zero_division` parameter to control this behavior.\n",
      "  _warn_prf(average, modifier, msg_start, len(result))\n",
      "/Library/Frameworks/Python.framework/Versions/3.9/lib/python3.9/site-packages/sklearn/metrics/_classification.py:1344: UndefinedMetricWarning: Precision and F-score are ill-defined and being set to 0.0 in labels with no predicted samples. Use `zero_division` parameter to control this behavior.\n",
      "  _warn_prf(average, modifier, msg_start, len(result))\n",
      "/Library/Frameworks/Python.framework/Versions/3.9/lib/python3.9/site-packages/sklearn/metrics/_classification.py:1344: UndefinedMetricWarning: Precision and F-score are ill-defined and being set to 0.0 in labels with no predicted samples. Use `zero_division` parameter to control this behavior.\n",
      "  _warn_prf(average, modifier, msg_start, len(result))\n",
      "/Library/Frameworks/Python.framework/Versions/3.9/lib/python3.9/site-packages/sklearn/metrics/_classification.py:1344: UndefinedMetricWarning: Precision and F-score are ill-defined and being set to 0.0 in labels with no predicted samples. Use `zero_division` parameter to control this behavior.\n",
      "  _warn_prf(average, modifier, msg_start, len(result))\n",
      "/Library/Frameworks/Python.framework/Versions/3.9/lib/python3.9/site-packages/sklearn/metrics/_classification.py:1344: UndefinedMetricWarning: Precision and F-score are ill-defined and being set to 0.0 in labels with no predicted samples. Use `zero_division` parameter to control this behavior.\n",
      "  _warn_prf(average, modifier, msg_start, len(result))\n",
      "/Library/Frameworks/Python.framework/Versions/3.9/lib/python3.9/site-packages/sklearn/metrics/_classification.py:1344: UndefinedMetricWarning: Precision and F-score are ill-defined and being set to 0.0 in labels with no predicted samples. Use `zero_division` parameter to control this behavior.\n",
      "  _warn_prf(average, modifier, msg_start, len(result))\n",
      "/Library/Frameworks/Python.framework/Versions/3.9/lib/python3.9/site-packages/sklearn/metrics/_classification.py:1344: UndefinedMetricWarning: Precision and F-score are ill-defined and being set to 0.0 in labels with no predicted samples. Use `zero_division` parameter to control this behavior.\n",
      "  _warn_prf(average, modifier, msg_start, len(result))\n",
      "/Library/Frameworks/Python.framework/Versions/3.9/lib/python3.9/site-packages/sklearn/metrics/_classification.py:1344: UndefinedMetricWarning: Precision and F-score are ill-defined and being set to 0.0 in labels with no predicted samples. Use `zero_division` parameter to control this behavior.\n",
      "  _warn_prf(average, modifier, msg_start, len(result))\n",
      "/Library/Frameworks/Python.framework/Versions/3.9/lib/python3.9/site-packages/sklearn/metrics/_classification.py:1344: UndefinedMetricWarning: Precision and F-score are ill-defined and being set to 0.0 in labels with no predicted samples. Use `zero_division` parameter to control this behavior.\n",
      "  _warn_prf(average, modifier, msg_start, len(result))\n"
     ]
    },
    {
     "name": "stdout",
     "output_type": "stream",
     "text": [
      "best score: 0.72 using similarity thresh of 0.8300000000000002\n"
     ]
    },
    {
     "name": "stderr",
     "output_type": "stream",
     "text": [
      "/Library/Frameworks/Python.framework/Versions/3.9/lib/python3.9/site-packages/sklearn/metrics/_classification.py:1344: UndefinedMetricWarning: Precision and F-score are ill-defined and being set to 0.0 in labels with no predicted samples. Use `zero_division` parameter to control this behavior.\n",
      "  _warn_prf(average, modifier, msg_start, len(result))\n",
      "/Library/Frameworks/Python.framework/Versions/3.9/lib/python3.9/site-packages/sklearn/metrics/_classification.py:1344: UndefinedMetricWarning: Precision and F-score are ill-defined and being set to 0.0 in labels with no predicted samples. Use `zero_division` parameter to control this behavior.\n",
      "  _warn_prf(average, modifier, msg_start, len(result))\n",
      "/Library/Frameworks/Python.framework/Versions/3.9/lib/python3.9/site-packages/sklearn/metrics/_classification.py:1344: UndefinedMetricWarning: Precision and F-score are ill-defined and being set to 0.0 in labels with no predicted samples. Use `zero_division` parameter to control this behavior.\n",
      "  _warn_prf(average, modifier, msg_start, len(result))\n"
     ]
    }
   ],
   "source": [
    "#  TEST [sentences of messages] vs [sentences of bag of exemples] -> 0.72 using similarity thresh of 0.83\n",
    "test = pd.read_excel(\"../data/avis/general_df_clean_sent_15k_manual_code.xlsx\",\n",
    "                                   sheet_name = \"test\", index_col= 0)\n",
    "test_text = test.text_avis\n",
    "y = test.var_efficacité_bad\n",
    "test_messages = test.text_avis.dropna()\n",
    "\n",
    "f1_scores = []\n",
    "\n",
    "for thresh in test_thresh:\n",
    "    y_pred = []\n",
    "    for message in test_messages:\n",
    "        sim_score= []\n",
    "        #print(\"message entier : \",message)\n",
    "        message = nlp(message)\n",
    "        sentences = message.sents\n",
    "        sentences_exemples = bag_innefficace_nlp.sents\n",
    "        for sentence in sentences:\n",
    "            for sentence_exemple in sentences_exemples:\n",
    "                #print(\"phrase: \",sentence)\n",
    "                temp_sim_score = round(sentence_exemple.similarity(sentence),2)\n",
    "                #print(temp_sim_score)\n",
    "                sim_score.append(temp_sim_score)\n",
    "        #print(\"-------------\")\n",
    "        allocate_lab(sim_score,y_pred,thresh)\n",
    "    similarity_report(y,y_pred)\n",
    "\n",
    "best_score = max(f1_scores)\n",
    "best_thresh = test_thresh[f1_scores.index(best_score)]\n",
    "print(f\"best score: {best_score} using similarity thresh of {best_thresh}\")"
   ]
  },
  {
   "cell_type": "code",
   "execution_count": 193,
   "metadata": {},
   "outputs": [
    {
     "name": "stderr",
     "output_type": "stream",
     "text": [
      "/var/folders/7m/gxswx1js22x0hszgmzpd29qcg1657r/T/ipykernel_94625/363922720.py:22: UserWarning: [W008] Evaluating Span.similarity based on empty vectors.\n",
      "  temp_sim_score = round(sentence_exemple.similarity(sentence),2)\n"
     ]
    },
    {
     "name": "stdout",
     "output_type": "stream",
     "text": [
      "100  messages labelled\n",
      "200  messages labelled\n",
      "300  messages labelled\n",
      "400  messages labelled\n",
      "500  messages labelled\n",
      "600  messages labelled\n",
      "700  messages labelled\n",
      "800  messages labelled\n",
      "900  messages labelled\n",
      "1000  messages labelled\n",
      "1100  messages labelled\n",
      "1200  messages labelled\n",
      "1300  messages labelled\n",
      "1400  messages labelled\n",
      "1500  messages labelled\n",
      "1600  messages labelled\n",
      "1700  messages labelled\n",
      "1800  messages labelled\n",
      "1900  messages labelled\n",
      "2000  messages labelled\n",
      "2100  messages labelled\n",
      "2200  messages labelled\n",
      "2300  messages labelled\n",
      "2400  messages labelled\n",
      "2500  messages labelled\n",
      "2600  messages labelled\n",
      "2700  messages labelled\n",
      "2800  messages labelled\n",
      "2900  messages labelled\n",
      "3000  messages labelled\n",
      "3100  messages labelled\n",
      "3200  messages labelled\n",
      "3300  messages labelled\n",
      "3400  messages labelled\n",
      "3500  messages labelled\n",
      "3600  messages labelled\n",
      "3700  messages labelled\n",
      "3800  messages labelled\n",
      "3900  messages labelled\n",
      "4000  messages labelled\n",
      "4100  messages labelled\n",
      "4200  messages labelled\n",
      "4300  messages labelled\n",
      "4400  messages labelled\n",
      "4500  messages labelled\n",
      "4600  messages labelled\n",
      "4700  messages labelled\n",
      "4800  messages labelled\n",
      "4900  messages labelled\n",
      "5000  messages labelled\n",
      "5100  messages labelled\n",
      "5200  messages labelled\n",
      "5300  messages labelled\n",
      "5400  messages labelled\n",
      "5500  messages labelled\n",
      "5600  messages labelled\n",
      "5700  messages labelled\n",
      "5800  messages labelled\n",
      "5900  messages labelled\n",
      "6000  messages labelled\n",
      "6100  messages labelled\n",
      "6200  messages labelled\n",
      "6300  messages labelled\n",
      "6400  messages labelled\n",
      "6500  messages labelled\n",
      "6600  messages labelled\n",
      "6700  messages labelled\n",
      "6800  messages labelled\n",
      "6900  messages labelled\n",
      "7000  messages labelled\n",
      "7100  messages labelled\n",
      "7200  messages labelled\n",
      "7300  messages labelled\n",
      "7400  messages labelled\n",
      "7500  messages labelled\n",
      "7600  messages labelled\n",
      "7700  messages labelled\n",
      "7800  messages labelled\n",
      "7900  messages labelled\n",
      "8000  messages labelled\n",
      "8100  messages labelled\n",
      "8200  messages labelled\n",
      "8300  messages labelled\n",
      "8400  messages labelled\n",
      "8500  messages labelled\n",
      "8600  messages labelled\n",
      "8700  messages labelled\n",
      "8800  messages labelled\n",
      "8900  messages labelled\n",
      "9000  messages labelled\n",
      "9100  messages labelled\n",
      "9200  messages labelled\n",
      "9300  messages labelled\n",
      "9400  messages labelled\n",
      "9500  messages labelled\n",
      "9600  messages labelled\n",
      "9700  messages labelled\n",
      "9800  messages labelled\n",
      "9900  messages labelled\n",
      "10000  messages labelled\n",
      "10100  messages labelled\n",
      "10200  messages labelled\n",
      "10300  messages labelled\n",
      "10400  messages labelled\n",
      "10500  messages labelled\n",
      "10600  messages labelled\n",
      "4.48 minutes to compete similarity labelling\n"
     ]
    },
    {
     "data": {
      "text/plain": [
       "0    8310\n",
       "1    2375\n",
       "Name: var_bad:inefficace, dtype: int64"
      ]
     },
     "execution_count": 193,
     "metadata": {},
     "output_type": "execute_result"
    }
   ],
   "source": [
    "# essai sur l'ensemble de la base d'entrainement pour la variable inefficacité\n",
    "import time\n",
    "df = pd.read_csv(\"../data/avis/train_noYC_lemma_sent_equil.csv\", index_col= 0)\n",
    "df_messages = df.text_total\n",
    "\n",
    "f1_scores = []\n",
    "thresh = 0.83 # as per our grid search results\n",
    "\n",
    "y_pred = []\n",
    "round_count = 0\n",
    "t0 = time.time()\n",
    "for message in df_messages:\n",
    "    round_count+=1\n",
    "    sim_score= []\n",
    "    #print(\"message entier : \",message)\n",
    "    message = nlp(message)\n",
    "    sentences = message.sents\n",
    "    sentences_exemples = bag_innefficace_nlp.sents\n",
    "    for sentence in sentences:\n",
    "        for sentence_exemple in sentences_exemples:\n",
    "            #print(\"phrase: \",sentence)\n",
    "            temp_sim_score = round(sentence_exemple.similarity(sentence),2)\n",
    "            #print(temp_sim_score)\n",
    "            sim_score.append(temp_sim_score)\n",
    "    #print(\"-------------\")\n",
    "    allocate_lab(sim_score,y_pred,thresh)\n",
    "    if round_count % 100 == 0:\n",
    "        print(round_count, \" messages labelled\")\n",
    "t1 = time.time()\n",
    "delais = round((t1-t0)/60,2)\n",
    "df['var_bad:inefficace'] = y_pred\n",
    "\n",
    "print(f\"{delais} minutes to compete similarity labelling\")\n",
    "df['var_bad:inefficace'].value_counts()"
   ]
  },
  {
   "cell_type": "code",
   "execution_count": 224,
   "metadata": {},
   "outputs": [
    {
     "data": {
      "text/plain": [
       "<Axes: xlabel='var_bad:inefficace', ylabel='count'>"
      ]
     },
     "execution_count": 224,
     "metadata": {},
     "output_type": "execute_result"
    },
    {
     "data": {
      "image/png": "[encoded data removed]",
      "text/plain": [
       "<Figure size 640x480 with 1 Axes>"
      ]
     },
     "metadata": {},
     "output_type": "display_data"
    }
   ],
   "source": [
    "# top_bank topbank\n",
    "list_top = [bank for bank in df.Société.value_counts().keys()[0:10]]\n",
    "df_top = df[df['Société'].isin(list_top)]\n",
    "\n",
    "import seaborn as sns\n",
    "\n",
    "sns.countplot(x = df_top['var_bad:inefficace']== 1, hue = df_top.Société)"
   ]
  },
  {
   "cell_type": "code",
   "execution_count": 217,
   "metadata": {},
   "outputs": [
    {
     "data": {
      "text/plain": [
       "['OrangeBank',\n",
       " 'Cofidis',\n",
       " 'Floabank',\n",
       " 'BoursoramaBanque',\n",
       " 'Fortuneo',\n",
       " 'Oney',\n",
       " 'Monabanq',\n",
       " 'Anytime',\n",
       " 'Immoprt',\n",
       " 'LaBanquePostale']"
      ]
     },
     "execution_count": 217,
     "metadata": {},
     "output_type": "execute_result"
    }
   ],
   "source": [
    "\n"
   ]
  },
  {
   "cell_type": "code",
   "execution_count": 223,
   "metadata": {},
   "outputs": [
    {
     "data": {
      "text/plain": [
       "<Axes: xlabel='var_bad:inefficace', ylabel='count'>"
      ]
     },
     "execution_count": 223,
     "metadata": {},
     "output_type": "execute_result"
    },
    {
     "data": {
      "image/png": "[encoded data removed]",
      "text/plain": [
       "<Figure size 640x480 with 1 Axes>"
      ]
     },
     "metadata": {},
     "output_type": "display_data"
    }
   ],
   "source": []
  }
 ],
 "metadata": {
  "kernelspec": {
   "display_name": "Python 3",
   "language": "python",
   "name": "python3"
  },
  "language_info": {
   "codemirror_mode": {
    "name": "ipython",
    "version": 3
   },
   "file_extension": ".py",
   "mimetype": "text/x-python",
   "name": "python",
   "nbconvert_exporter": "python",
   "pygments_lexer": "ipython3",
   "version": "3.9.5"
  },
  "orig_nbformat": 4,
  "vscode": {
   "interpreter": {
    "hash": "aee8b7b246df8f9039afb4144a1f6fd8d2ca17a180786b69acc140d282b71a49"
   }
  }
 },
 "nbformat": 4,
 "nbformat_minor": 2
}
