{
 "cells": [
  {
   "cell_type": "code",
   "execution_count": null,
   "metadata": {},
   "outputs": [],
   "source": [
    "\n",
    "\n"
   ]
  },
  {
   "cell_type": "code",
   "execution_count": null,
   "metadata": {},
   "outputs": [],
   "source": [
    "\n",
    "def meta_grid(df, code_of_interest, thresh_list, train_test):\n",
    "    # With Sentiment ####\n",
    "    ## all words\n",
    "    review_vs_whole_ref_bag(df,code_of_interest, True, \"whole\", thresh_list, train_test, \"allwords\", True)\n",
    "    review_sentence_vs_whole_ref_bag(df,code_of_interest, True, \"whole\", thresh_list, train_test, \"allwords\", True)\n",
    "    review_sentence_vs_ref_sentence(df,code_of_interest, True, \"sentence\", thresh_list, train_test, \"allwords\", True)\n",
    "    # stop words\n",
    "    review_vs_whole_ref_bag(df,code_of_interest, True, \"whole\", thresh_list, train_test, \"stopwords\", True)\n",
    "    review_sentence_vs_whole_ref_bag(df,code_of_interest, True, \"whole\", thresh_list, train_test, \"stopwords\", True)\n",
    "    review_sentence_vs_ref_sentence(df,code_of_interest, True, \"sentence\", thresh_list, train_test, \"stopwords\", True)\n",
    "\n",
    "    # Without Sentiment ####\n",
    "    ## allwords\n",
    "    review_vs_whole_ref_bag(df,code_of_interest, False, \"whole\", thresh_list, train_test, \"allwords\")\n",
    "    review_sentence_vs_whole_ref_bag(df,code_of_interest, False, \"whole\", thresh_list, train_test, \"allwords\", True)\n",
    "    review_sentence_vs_ref_sentence(df,code_of_interest, False, \"sentence\", thresh_list, train_test, \"allwords\", True)\n",
    "    ##stopwords\n",
    "    review_vs_whole_ref_bag(df,code_of_interest, False, \"whole\", thresh_list, train_test, \"stopwords\", True)\n",
    "    review_sentence_vs_whole_ref_bag(df,code_of_interest, False, \"whole\", thresh_list, train_test, \"stopwords\", True)\n",
    "    review_sentence_vs_ref_sentence(df,code_of_interest, False, \"sentence\", thresh_list, train_test, \"stopwords\", True)\n",
    "\n",
    "\n",
    "\n"
   ]
  }
 ],
 "metadata": {
  "kernelspec": {
   "display_name": "Python 3",
   "language": "python",
   "name": "python3"
  },
  "language_info": {
   "codemirror_mode": {
    "name": "ipython",
    "version": 3
   },
   "file_extension": ".py",
   "mimetype": "text/x-python",
   "name": "python",
   "nbconvert_exporter": "python",
   "pygments_lexer": "ipython3",
   "version": "3.9.5"
  },
  "orig_nbformat": 4,
  "vscode": {
   "interpreter": {
    "hash": "aee8b7b246df8f9039afb4144a1f6fd8d2ca17a180786b69acc140d282b71a49"
   }
  }
 },
 "nbformat": 4,
 "nbformat_minor": 2
}
