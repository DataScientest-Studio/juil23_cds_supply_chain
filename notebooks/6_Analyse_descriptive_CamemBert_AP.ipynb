{
 "cells": [
  {
   "cell_type": "markdown",
   "metadata": {},
   "source": [
    "<h1> Analyse descriptive des données web scrapping Trust Pilot</h1>"
   ]
  },
  {
   "cell_type": "code",
   "execution_count": 1,
   "metadata": {},
   "outputs": [],
   "source": [
    "import pandas as pd\n",
    "import numpy as np\n",
    "import matplotlib.pyplot as plt\n",
    "import seaborn as sns"
   ]
  },
  {
   "cell_type": "code",
   "execution_count": 2,
   "metadata": {},
   "outputs": [
    {
     "data": {
      "text/plain": [
       "(170751, 11)"
      ]
     },
     "execution_count": 2,
     "metadata": {},
     "output_type": "execute_result"
    }
   ],
   "source": [
    "df = pd.read_csv(\"C:\\\\Users\\\\przyb\\\\OneDrive\\\\DataScientest\\\\Project\\\\Supply Chain\\\\general_df.csv\")\n",
    "df.shape"
   ]
  },
  {
   "cell_type": "code",
   "execution_count": 3,
   "metadata": {},
   "outputs": [
    {
     "name": "stdout",
     "output_type": "stream",
     "text": [
      "<class 'pandas.core.frame.DataFrame'>\n",
      "RangeIndex: 170751 entries, 0 to 170750\n",
      "Data columns (total 11 columns):\n",
      " #   Column           Non-Null Count   Dtype  \n",
      "---  ------           --------------   -----  \n",
      " 0   Unnamed: 0.1     170751 non-null  int64  \n",
      " 1   Unnamed: 0       170751 non-null  object \n",
      " 2   user             170157 non-null  object \n",
      " 3   etoiles          170163 non-null  object \n",
      " 4   n_avis           169488 non-null  float64\n",
      " 5   localisation     169487 non-null  object \n",
      " 6   date_avis        169488 non-null  object \n",
      " 7   titre_avis       169488 non-null  object \n",
      " 8   text_avis        169488 non-null  object \n",
      " 9   date_experience  168813 non-null  object \n",
      " 10  page             168813 non-null  object \n",
      "dtypes: float64(1), int64(1), object(9)\n",
      "memory usage: 14.3+ MB\n"
     ]
    },
    {
     "data": {
      "text/html": [
       "<div>\n",
       "<style scoped>\n",
       "    .dataframe tbody tr th:only-of-type {\n",
       "        vertical-align: middle;\n",
       "    }\n",
       "\n",
       "    .dataframe tbody tr th {\n",
       "        vertical-align: top;\n",
       "    }\n",
       "\n",
       "    .dataframe thead th {\n",
       "        text-align: right;\n",
       "    }\n",
       "</style>\n",
       "<table border=\"1\" class=\"dataframe\">\n",
       "  <thead>\n",
       "    <tr style=\"text-align: right;\">\n",
       "      <th></th>\n",
       "      <th>Unnamed: 0.1</th>\n",
       "      <th>Unnamed: 0</th>\n",
       "      <th>user</th>\n",
       "      <th>etoiles</th>\n",
       "      <th>n_avis</th>\n",
       "      <th>localisation</th>\n",
       "      <th>date_avis</th>\n",
       "      <th>titre_avis</th>\n",
       "      <th>text_avis</th>\n",
       "      <th>date_experience</th>\n",
       "      <th>page</th>\n",
       "    </tr>\n",
       "  </thead>\n",
       "  <tbody>\n",
       "    <tr>\n",
       "      <th>0</th>\n",
       "      <td>0</td>\n",
       "      <td>0</td>\n",
       "      <td>Mme Rakotondrasamy Lalanirina</td>\n",
       "      <td>1</td>\n",
       "      <td>3.0</td>\n",
       "      <td>FR</td>\n",
       "      <td>2023-10-20T03:16:24.000Z</td>\n",
       "      <td>Orgueil gestionnaire</td>\n",
       "      <td>Ça reste une mauvaise expérience, quand ton ge...</td>\n",
       "      <td>Date de l'expérience: 19 octobre 2023</td>\n",
       "      <td>MaBanqueBNPParibas</td>\n",
       "    </tr>\n",
       "    <tr>\n",
       "      <th>1</th>\n",
       "      <td>1</td>\n",
       "      <td>1</td>\n",
       "      <td>Florian T</td>\n",
       "      <td>1</td>\n",
       "      <td>2.0</td>\n",
       "      <td>FR</td>\n",
       "      <td>2023-10-19T13:10:44.000Z</td>\n",
       "      <td>Mauvaise expérience en agence physique et en l...</td>\n",
       "      <td>Mauvaise expérience en agence classique, mon c...</td>\n",
       "      <td>Date de l'expérience: 19 octobre 2023</td>\n",
       "      <td>MaBanqueBNPParibas</td>\n",
       "    </tr>\n",
       "    <tr>\n",
       "      <th>2</th>\n",
       "      <td>2</td>\n",
       "      <td>2</td>\n",
       "      <td>Anca Visdei</td>\n",
       "      <td>5</td>\n",
       "      <td>1.0</td>\n",
       "      <td>FR</td>\n",
       "      <td>2023-10-19T15:41:51.000Z</td>\n",
       "      <td>Chère agence ,</td>\n",
       "      <td>Chère agence ,je dois bous dire que tant mon m...</td>\n",
       "      <td>Date de l'expérience: 19 octobre 2023</td>\n",
       "      <td>MaBanqueBNPParibas</td>\n",
       "    </tr>\n",
       "    <tr>\n",
       "      <th>3</th>\n",
       "      <td>3</td>\n",
       "      <td>3</td>\n",
       "      <td>Pat perso</td>\n",
       "      <td>1</td>\n",
       "      <td>5.0</td>\n",
       "      <td>FR</td>\n",
       "      <td>2023-10-18T16:13:38.000Z</td>\n",
       "      <td>Mépris ou incompétence ou les 2</td>\n",
       "      <td>RV pris à l'agence du Touquet, sur proposition...</td>\n",
       "      <td>Date de l'expérience: 17 octobre 2023</td>\n",
       "      <td>MaBanqueBNPParibas</td>\n",
       "    </tr>\n",
       "    <tr>\n",
       "      <th>4</th>\n",
       "      <td>4</td>\n",
       "      <td>4</td>\n",
       "      <td>Sylvia FABRE</td>\n",
       "      <td>2</td>\n",
       "      <td>4.0</td>\n",
       "      <td>FR</td>\n",
       "      <td>2023-10-17T22:22:10.000Z</td>\n",
       "      <td>Pas d'imprimé prévu pour transferts de compte ...</td>\n",
       "      <td>Pour une demande de transfert de fonds d'un co...</td>\n",
       "      <td>Date de l'expérience: 17 octobre 2023</td>\n",
       "      <td>MaBanqueBNPParibas</td>\n",
       "    </tr>\n",
       "  </tbody>\n",
       "</table>\n",
       "</div>"
      ],
      "text/plain": [
       "   Unnamed: 0.1 Unnamed: 0                           user etoiles  n_avis  \\\n",
       "0             0          0  Mme Rakotondrasamy Lalanirina       1     3.0   \n",
       "1             1          1                      Florian T       1     2.0   \n",
       "2             2          2                    Anca Visdei       5     1.0   \n",
       "3             3          3                      Pat perso       1     5.0   \n",
       "4             4          4                   Sylvia FABRE       2     4.0   \n",
       "\n",
       "  localisation                 date_avis  \\\n",
       "0           FR  2023-10-20T03:16:24.000Z   \n",
       "1           FR  2023-10-19T13:10:44.000Z   \n",
       "2           FR  2023-10-19T15:41:51.000Z   \n",
       "3           FR  2023-10-18T16:13:38.000Z   \n",
       "4           FR  2023-10-17T22:22:10.000Z   \n",
       "\n",
       "                                          titre_avis  \\\n",
       "0                               Orgueil gestionnaire   \n",
       "1  Mauvaise expérience en agence physique et en l...   \n",
       "2                                     Chère agence ,   \n",
       "3                    Mépris ou incompétence ou les 2   \n",
       "4  Pas d'imprimé prévu pour transferts de compte ...   \n",
       "\n",
       "                                           text_avis  \\\n",
       "0  Ça reste une mauvaise expérience, quand ton ge...   \n",
       "1  Mauvaise expérience en agence classique, mon c...   \n",
       "2  Chère agence ,je dois bous dire que tant mon m...   \n",
       "3  RV pris à l'agence du Touquet, sur proposition...   \n",
       "4  Pour une demande de transfert de fonds d'un co...   \n",
       "\n",
       "                         date_experience                page  \n",
       "0  Date de l'expérience: 19 octobre 2023  MaBanqueBNPParibas  \n",
       "1  Date de l'expérience: 19 octobre 2023  MaBanqueBNPParibas  \n",
       "2  Date de l'expérience: 19 octobre 2023  MaBanqueBNPParibas  \n",
       "3  Date de l'expérience: 17 octobre 2023  MaBanqueBNPParibas  \n",
       "4  Date de l'expérience: 17 octobre 2023  MaBanqueBNPParibas  "
      ]
     },
     "execution_count": 3,
     "metadata": {},
     "output_type": "execute_result"
    }
   ],
   "source": [
    "df.info()\n",
    "df.head()"
   ]
  },
  {
   "cell_type": "code",
   "execution_count": 10,
   "metadata": {},
   "outputs": [],
   "source": [
    "# étoiles > int\n",
    "#df['etoiles'] = df['etoiles'].astype(\"int64\")\n",
    "liste_etoiles = [\"1\",\"2\",\"3\",\"4\",\"5\"]\n",
    "df = df[df['etoiles'].isin(liste_etoiles)]"
   ]
  },
  {
   "cell_type": "markdown",
   "metadata": {},
   "source": [
    "<h1> Analyse descriptive </h1>"
   ]
  },
  {
   "cell_type": "code",
   "execution_count": 11,
   "metadata": {},
   "outputs": [],
   "source": [
    "import seaborn as sns"
   ]
  },
  {
   "cell_type": "code",
   "execution_count": 12,
   "metadata": {},
   "outputs": [
    {
     "data": {
      "text/plain": [
       "etoiles\n",
       "5    120513\n",
       "1     23048\n",
       "4     18763\n",
       "3      4154\n",
       "2      3010\n",
       "Name: count, dtype: int64"
      ]
     },
     "execution_count": 12,
     "metadata": {},
     "output_type": "execute_result"
    }
   ],
   "source": [
    "df.etoiles.value_counts()"
   ]
  },
  {
   "cell_type": "code",
   "execution_count": 13,
   "metadata": {},
   "outputs": [
    {
     "name": "stdout",
     "output_type": "stream",
     "text": [
      "<class 'pandas.core.frame.DataFrame'>\n",
      "Index: 169488 entries, 0 to 170750\n",
      "Data columns (total 11 columns):\n",
      " #   Column           Non-Null Count   Dtype         \n",
      "---  ------           --------------   -----         \n",
      " 0   Unnamed: 0.1     169488 non-null  int64         \n",
      " 1   Unnamed: 0       169488 non-null  object        \n",
      " 2   user             169482 non-null  object        \n",
      " 3   etoiles          169488 non-null  object        \n",
      " 4   n_avis           169488 non-null  float64       \n",
      " 5   localisation     169487 non-null  object        \n",
      " 6   date_avis        169488 non-null  datetime64[ns]\n",
      " 7   titre_avis       169488 non-null  object        \n",
      " 8   text_avis        169488 non-null  object        \n",
      " 9   date_experience  168813 non-null  datetime64[ns]\n",
      " 10  page             168813 non-null  object        \n",
      "dtypes: datetime64[ns](2), float64(1), int64(1), object(7)\n",
      "memory usage: 15.5+ MB\n"
     ]
    }
   ],
   "source": [
    "df.info()"
   ]
  },
  {
   "cell_type": "markdown",
   "metadata": {},
   "source": [
    "df.info()"
   ]
  },
  {
   "cell_type": "code",
   "execution_count": 14,
   "metadata": {},
   "outputs": [
    {
     "name": "stderr",
     "output_type": "stream",
     "text": [
      "c:\\Users\\przyb\\anaconda3\\envs\\torch_env\\lib\\site-packages\\seaborn\\_oldcore.py:1498: FutureWarning: is_categorical_dtype is deprecated and will be removed in a future version. Use isinstance(dtype, CategoricalDtype) instead\n",
      "  if pd.api.types.is_categorical_dtype(vector):\n",
      "c:\\Users\\przyb\\anaconda3\\envs\\torch_env\\lib\\site-packages\\seaborn\\_oldcore.py:1498: FutureWarning: is_categorical_dtype is deprecated and will be removed in a future version. Use isinstance(dtype, CategoricalDtype) instead\n",
      "  if pd.api.types.is_categorical_dtype(vector):\n",
      "c:\\Users\\przyb\\anaconda3\\envs\\torch_env\\lib\\site-packages\\seaborn\\_oldcore.py:1119: FutureWarning: use_inf_as_na option is deprecated and will be removed in a future version. Convert inf values to NaN before operating instead.\n",
      "  with pd.option_context('mode.use_inf_as_na', True):\n",
      "c:\\Users\\przyb\\anaconda3\\envs\\torch_env\\lib\\site-packages\\seaborn\\axisgrid.py:118: UserWarning: The figure layout has changed to tight\n",
      "  self._figure.tight_layout(*args, **kwargs)\n"
     ]
    },
    {
     "data": {
      "image/png": "[encoded data removed]",
      "text/plain": [
       "<Figure size 500x500 with 1 Axes>"
      ]
     },
     "metadata": {},
     "output_type": "display_data"
    }
   ],
   "source": [
    "df = df.sort_values('etoiles')\n",
    "sns.displot(df['etoiles']);"
   ]
  },
  {
   "cell_type": "markdown",
   "metadata": {},
   "source": [
    "### Distribution étoiles Alex"
   ]
  },
  {
   "cell_type": "code",
   "execution_count": 15,
   "metadata": {},
   "outputs": [
    {
     "name": "stderr",
     "output_type": "stream",
     "text": [
      "c:\\Users\\przyb\\anaconda3\\envs\\torch_env\\lib\\site-packages\\seaborn\\_oldcore.py:1498: FutureWarning: is_categorical_dtype is deprecated and will be removed in a future version. Use isinstance(dtype, CategoricalDtype) instead\n",
      "  if pd.api.types.is_categorical_dtype(vector):\n",
      "c:\\Users\\przyb\\anaconda3\\envs\\torch_env\\lib\\site-packages\\seaborn\\_oldcore.py:1498: FutureWarning: is_categorical_dtype is deprecated and will be removed in a future version. Use isinstance(dtype, CategoricalDtype) instead\n",
      "  if pd.api.types.is_categorical_dtype(vector):\n"
     ]
    },
    {
     "data": {
      "image/png": "[encoded data removed]",
      "text/plain": [
       "<Figure size 640x480 with 1 Axes>"
      ]
     },
     "metadata": {},
     "output_type": "display_data"
    }
   ],
   "source": [
    "sns.countplot(x='etoiles', data=df, order=df['etoiles'].value_counts().index)\n",
    "plt.title('Distribution des étoiles')\n",
    "plt.ylabel('Nombre d’avis')\n",
    "plt.xlabel('Nombre d’étoiles')\n",
    "plt.show()"
   ]
  },
  {
   "cell_type": "markdown",
   "metadata": {},
   "source": [
    "### Nombre avis par Banque Top 20 (page)"
   ]
  },
  {
   "cell_type": "code",
   "execution_count": 16,
   "metadata": {},
   "outputs": [
    {
     "name": "stderr",
     "output_type": "stream",
     "text": [
      "c:\\Users\\przyb\\anaconda3\\envs\\torch_env\\lib\\site-packages\\seaborn\\_oldcore.py:1498: FutureWarning: is_categorical_dtype is deprecated and will be removed in a future version. Use isinstance(dtype, CategoricalDtype) instead\n",
      "  if pd.api.types.is_categorical_dtype(vector):\n",
      "c:\\Users\\przyb\\anaconda3\\envs\\torch_env\\lib\\site-packages\\seaborn\\_oldcore.py:1498: FutureWarning: is_categorical_dtype is deprecated and will be removed in a future version. Use isinstance(dtype, CategoricalDtype) instead\n",
      "  if pd.api.types.is_categorical_dtype(vector):\n"
     ]
    },
    {
     "data": {
      "image/png": "[encoded data removed]",
      "text/plain": [
       "<Figure size 1200x800 with 1 Axes>"
      ]
     },
     "metadata": {},
     "output_type": "display_data"
    }
   ],
   "source": [
    "### Filtrage top 20\n",
    "top_20_banques = df['page'].value_counts().head(20).index\n",
    "filtered_df = df[df['page'].isin(top_20_banques)]\n",
    "plt.figure(figsize=(12,8))\n",
    "sns.countplot(y='page', data=filtered_df, order=top_20_banques)\n",
    "plt.title('Top 20 des banques par nombre d’avis')\n",
    "plt.xlabel('Nombre d’avis')\n",
    "plt.ylabel('Banque')\n",
    "plt.show()\n",
    "\n"
   ]
  },
  {
   "cell_type": "markdown",
   "metadata": {},
   "source": [
    "### Moyenne des notes du Top 20"
   ]
  },
  {
   "cell_type": "code",
   "execution_count": 19,
   "metadata": {},
   "outputs": [
    {
     "name": "stderr",
     "output_type": "stream",
     "text": [
      "C:\\Users\\przyb\\AppData\\Local\\Temp\\ipykernel_26608\\2297627145.py:3: SettingWithCopyWarning: \n",
      "A value is trying to be set on a copy of a slice from a DataFrame.\n",
      "Try using .loc[row_indexer,col_indexer] = value instead\n",
      "\n",
      "See the caveats in the documentation: https://pandas.pydata.org/pandas-docs/stable/user_guide/indexing.html#returning-a-view-versus-a-copy\n",
      "  filtered_df['etoiles'] = pd.to_numeric(filtered_df['etoiles'], errors='coerce')\n",
      "c:\\Users\\przyb\\anaconda3\\envs\\torch_env\\lib\\site-packages\\seaborn\\_oldcore.py:1498: FutureWarning: is_categorical_dtype is deprecated and will be removed in a future version. Use isinstance(dtype, CategoricalDtype) instead\n",
      "  if pd.api.types.is_categorical_dtype(vector):\n",
      "c:\\Users\\przyb\\anaconda3\\envs\\torch_env\\lib\\site-packages\\seaborn\\_oldcore.py:1498: FutureWarning: is_categorical_dtype is deprecated and will be removed in a future version. Use isinstance(dtype, CategoricalDtype) instead\n",
      "  if pd.api.types.is_categorical_dtype(vector):\n"
     ]
    },
    {
     "name": "stdout",
     "output_type": "stream",
     "text": [
      "[1 2 3 4 5]\n"
     ]
    },
    {
     "data": {
      "image/png": "[encoded data removed]",
      "text/plain": [
       "<Figure size 1400x1000 with 1 Axes>"
      ]
     },
     "metadata": {},
     "output_type": "display_data"
    }
   ],
   "source": [
    "### Conversion de etoiles en float\n",
    "\n",
    "filtered_df['etoiles'] = pd.to_numeric(filtered_df['etoiles'], errors='coerce')\n",
    "\n",
    "### Valeurs uniques ?\n",
    "\n",
    "print(filtered_df['etoiles'].unique())\n",
    "\n",
    "\n",
    "### Boxplot\n",
    "\n",
    "plt.figure(figsize=(14,10))\n",
    "sns.boxplot(y='page', x='etoiles', data=filtered_df, order=top_20_banques)\n",
    "plt.title('Distribution des notes pour le top 20 des banques')\n",
    "plt.xlabel('Notes')\n",
    "plt.ylabel('Banque')\n",
    "plt.show()"
   ]
  },
  {
   "cell_type": "markdown",
   "metadata": {},
   "source": [
    "### Distribution nombre avis par utilisateur"
   ]
  },
  {
   "cell_type": "code",
   "execution_count": 18,
   "metadata": {},
   "outputs": [
    {
     "name": "stderr",
     "output_type": "stream",
     "text": [
      "c:\\Users\\przyb\\anaconda3\\envs\\torch_env\\lib\\site-packages\\seaborn\\_oldcore.py:1498: FutureWarning: is_categorical_dtype is deprecated and will be removed in a future version. Use isinstance(dtype, CategoricalDtype) instead\n",
      "  if pd.api.types.is_categorical_dtype(vector):\n",
      "c:\\Users\\przyb\\anaconda3\\envs\\torch_env\\lib\\site-packages\\seaborn\\_oldcore.py:1498: FutureWarning: is_categorical_dtype is deprecated and will be removed in a future version. Use isinstance(dtype, CategoricalDtype) instead\n",
      "  if pd.api.types.is_categorical_dtype(vector):\n",
      "c:\\Users\\przyb\\anaconda3\\envs\\torch_env\\lib\\site-packages\\seaborn\\_oldcore.py:1498: FutureWarning: is_categorical_dtype is deprecated and will be removed in a future version. Use isinstance(dtype, CategoricalDtype) instead\n",
      "  if pd.api.types.is_categorical_dtype(vector):\n"
     ]
    },
    {
     "data": {
      "image/png": "[encoded data removed]",
      "text/plain": [
       "<Figure size 640x480 with 1 Axes>"
      ]
     },
     "metadata": {},
     "output_type": "display_data"
    }
   ],
   "source": [
    "filtered_avis = df[(df['n_avis'] >= 1) & (df['n_avis'] <= 10)]\n",
    "sns.countplot(x='n_avis', data=filtered_avis)\n",
    "plt.title('Distribution du nombre d’avis donnés par utilisateur (1 à 10 avis)')\n",
    "plt.xlabel('Nombre d’avis donnés')\n",
    "plt.ylabel('Nombre d’utilisateurs')\n",
    "plt.show()\n"
   ]
  },
  {
   "cell_type": "markdown",
   "metadata": {},
   "source": [
    "### Distribution des avis dans le temps"
   ]
  },
  {
   "cell_type": "code",
   "execution_count": 20,
   "metadata": {},
   "outputs": [
    {
     "data": {
      "image/png": "[encoded data removed]",
      "text/plain": [
       "<Figure size 1400x700 with 1 Axes>"
      ]
     },
     "metadata": {},
     "output_type": "display_data"
    }
   ],
   "source": [
    "### Filtrage avis 2022 / 2023\n",
    "start_date = '2022-01-01' \n",
    "end_date = pd.Timestamp.today().strftime('%Y-%m-%d')\n",
    "filtered_dates_df = df[(df['date_avis'] >= start_date) & (df['date_avis'] <= end_date)]\n",
    "\n",
    "### Grouper par mois\n",
    "monthly_avis = filtered_dates_df.set_index('date_avis').resample('M').size()\n",
    "\n",
    "### Dataviz\n",
    "plt.figure(figsize=(14,7))\n",
    "monthly_avis.plot(kind='line', marker='o')\n",
    "plt.title('Nombre d’avis par mois (2022 à aujourd’hui)')\n",
    "plt.xlabel('Mois')\n",
    "plt.ylabel('Nombre d’avis')\n",
    "plt.grid(True, which=\"both\", ls=\"--\", c='0.65')\n",
    "plt.tight_layout()\n",
    "plt.show()\n"
   ]
  },
  {
   "cell_type": "markdown",
   "metadata": {},
   "source": [
    "### Localisation des utilisateurs"
   ]
  },
  {
   "cell_type": "code",
   "execution_count": 22,
   "metadata": {},
   "outputs": [
    {
     "name": "stderr",
     "output_type": "stream",
     "text": [
      "c:\\Users\\przyb\\anaconda3\\envs\\torch_env\\lib\\site-packages\\seaborn\\_oldcore.py:1498: FutureWarning: is_categorical_dtype is deprecated and will be removed in a future version. Use isinstance(dtype, CategoricalDtype) instead\n",
      "  if pd.api.types.is_categorical_dtype(vector):\n",
      "c:\\Users\\przyb\\anaconda3\\envs\\torch_env\\lib\\site-packages\\seaborn\\_oldcore.py:1498: FutureWarning: is_categorical_dtype is deprecated and will be removed in a future version. Use isinstance(dtype, CategoricalDtype) instead\n",
      "  if pd.api.types.is_categorical_dtype(vector):\n"
     ]
    },
    {
     "data": {
      "image/png": "[encoded data removed]",
      "text/plain": [
       "<Figure size 1200x600 with 1 Axes>"
      ]
     },
     "metadata": {},
     "output_type": "display_data"
    }
   ],
   "source": [
    "plt.figure(figsize=(12,6))\n",
    "sns.countplot(y='localisation', data=df, order=df['localisation'].value_counts().iloc[:10].index)  # top 10 localisations\n",
    "plt.title('Top 10 des localisations des utilisateurs')\n",
    "plt.xlabel('Nombre d’avis')\n",
    "plt.ylabel('Localisation')\n",
    "plt.show()\n"
   ]
  },
  {
   "cell_type": "markdown",
   "metadata": {},
   "source": [
    "### Longueur des avis (par notes)"
   ]
  },
  {
   "cell_type": "code",
   "execution_count": 21,
   "metadata": {},
   "outputs": [
    {
     "name": "stderr",
     "output_type": "stream",
     "text": [
      "c:\\Users\\przyb\\anaconda3\\envs\\torch_env\\lib\\site-packages\\seaborn\\_oldcore.py:1498: FutureWarning: is_categorical_dtype is deprecated and will be removed in a future version. Use isinstance(dtype, CategoricalDtype) instead\n",
      "  if pd.api.types.is_categorical_dtype(vector):\n",
      "c:\\Users\\przyb\\anaconda3\\envs\\torch_env\\lib\\site-packages\\seaborn\\_oldcore.py:1498: FutureWarning: is_categorical_dtype is deprecated and will be removed in a future version. Use isinstance(dtype, CategoricalDtype) instead\n",
      "  if pd.api.types.is_categorical_dtype(vector):\n",
      "c:\\Users\\przyb\\anaconda3\\envs\\torch_env\\lib\\site-packages\\seaborn\\_oldcore.py:1498: FutureWarning: is_categorical_dtype is deprecated and will be removed in a future version. Use isinstance(dtype, CategoricalDtype) instead\n",
      "  if pd.api.types.is_categorical_dtype(vector):\n"
     ]
    },
    {
     "data": {
      "image/png": "[encoded data removed]",
      "text/plain": [
       "<Figure size 1200x600 with 1 Axes>"
      ]
     },
     "metadata": {},
     "output_type": "display_data"
    }
   ],
   "source": [
    "df['length_avis'] = df['text_avis'].apply(len)\n",
    "plt.figure(figsize=(12,6))\n",
    "sns.boxplot(x='etoiles', y='length_avis', data=df)\n",
    "plt.title('Longueur des avis par notes')\n",
    "plt.xlabel('Notes')\n",
    "plt.ylabel('Longueur de l’avis')\n",
    "plt.show()\n",
    "\n"
   ]
  },
  {
   "cell_type": "markdown",
   "metadata": {},
   "source": [
    "### Preprocessing pour CamemBert"
   ]
  },
  {
   "cell_type": "code",
   "execution_count": 26,
   "metadata": {},
   "outputs": [
    {
     "name": "stdout",
     "output_type": "stream",
     "text": [
      "Longueur moyenne des avis : 173.91 caractères\n",
      "count    169488.000000\n",
      "mean        173.906760\n",
      "std         269.883397\n",
      "min           2.000000\n",
      "25%          42.000000\n",
      "50%          94.000000\n",
      "75%         199.000000\n",
      "max        7819.000000\n",
      "Name: length_avis, dtype: float64\n"
     ]
    }
   ],
   "source": [
    "\n",
    "\n",
    "### Calcul de la longueur de chaque avis\n",
    "df['length_avis'] = df['text_avis'].apply(len)\n",
    "\n",
    "### Calcul de la longueur moyenne\n",
    "mean_length = df['length_avis'].mean()\n",
    "print(f\"Longueur moyenne des avis : {mean_length:.2f} caractères\")\n",
    "\n",
    "### statistiques\n",
    "print(df['length_avis'].describe())\n"
   ]
  },
  {
   "cell_type": "code",
   "execution_count": 27,
   "metadata": {},
   "outputs": [],
   "source": [
    "### Filtrage des lignes où la longueur des avis est inférieure ou égale à 512 caractères\n",
    "df = df[df['length_avis'] <= 512]\n",
    "df.reset_index(drop=True, inplace=True)\n"
   ]
  },
  {
   "cell_type": "code",
   "execution_count": 28,
   "metadata": {},
   "outputs": [
    {
     "name": "stdout",
     "output_type": "stream",
     "text": [
      "Requirement already satisfied: transformers in c:\\users\\przyb\\anaconda3\\envs\\torch_env\\lib\\site-packages (4.34.1)\n",
      "Requirement already satisfied: filelock in c:\\users\\przyb\\anaconda3\\envs\\torch_env\\lib\\site-packages (from transformers) (3.9.0)\n",
      "Requirement already satisfied: huggingface-hub<1.0,>=0.16.4 in c:\\users\\przyb\\anaconda3\\envs\\torch_env\\lib\\site-packages (from transformers) (0.17.3)\n",
      "Requirement already satisfied: numpy>=1.17 in c:\\users\\przyb\\anaconda3\\envs\\torch_env\\lib\\site-packages (from transformers) (1.26.0)\n",
      "Requirement already satisfied: packaging>=20.0 in c:\\users\\przyb\\anaconda3\\envs\\torch_env\\lib\\site-packages (from transformers) (23.2)\n",
      "Requirement already satisfied: pyyaml>=5.1 in c:\\users\\przyb\\anaconda3\\envs\\torch_env\\lib\\site-packages (from transformers) (6.0)\n",
      "Requirement already satisfied: regex!=2019.12.17 in c:\\users\\przyb\\anaconda3\\envs\\torch_env\\lib\\site-packages (from transformers) (2023.10.3)\n",
      "Requirement already satisfied: requests in c:\\users\\przyb\\anaconda3\\envs\\torch_env\\lib\\site-packages (from transformers) (2.31.0)\n",
      "Requirement already satisfied: tokenizers<0.15,>=0.14 in c:\\users\\przyb\\anaconda3\\envs\\torch_env\\lib\\site-packages (from transformers) (0.14.1)\n",
      "Requirement already satisfied: safetensors>=0.3.1 in c:\\users\\przyb\\anaconda3\\envs\\torch_env\\lib\\site-packages (from transformers) (0.4.0)\n",
      "Requirement already satisfied: tqdm>=4.27 in c:\\users\\przyb\\anaconda3\\envs\\torch_env\\lib\\site-packages (from transformers) (4.66.1)\n",
      "Requirement already satisfied: fsspec in c:\\users\\przyb\\anaconda3\\envs\\torch_env\\lib\\site-packages (from huggingface-hub<1.0,>=0.16.4->transformers) (2023.10.0)\n",
      "Requirement already satisfied: typing-extensions>=3.7.4.3 in c:\\users\\przyb\\anaconda3\\envs\\torch_env\\lib\\site-packages (from huggingface-hub<1.0,>=0.16.4->transformers) (4.7.1)\n",
      "Requirement already satisfied: colorama in c:\\users\\przyb\\anaconda3\\envs\\torch_env\\lib\\site-packages (from tqdm>=4.27->transformers) (0.4.6)\n",
      "Requirement already satisfied: charset-normalizer<4,>=2 in c:\\users\\przyb\\anaconda3\\envs\\torch_env\\lib\\site-packages (from requests->transformers) (2.0.4)\n",
      "Requirement already satisfied: idna<4,>=2.5 in c:\\users\\przyb\\anaconda3\\envs\\torch_env\\lib\\site-packages (from requests->transformers) (3.4)\n",
      "Requirement already satisfied: urllib3<3,>=1.21.1 in c:\\users\\przyb\\anaconda3\\envs\\torch_env\\lib\\site-packages (from requests->transformers) (1.26.16)\n",
      "Requirement already satisfied: certifi>=2017.4.17 in c:\\users\\przyb\\anaconda3\\envs\\torch_env\\lib\\site-packages (from requests->transformers) (2023.7.22)\n",
      "Requirement already satisfied: torch in c:\\users\\przyb\\anaconda3\\envs\\torch_env\\lib\\site-packages (2.1.0)\n",
      "Requirement already satisfied: filelock in c:\\users\\przyb\\anaconda3\\envs\\torch_env\\lib\\site-packages (from torch) (3.9.0)\n",
      "Requirement already satisfied: typing-extensions in c:\\users\\przyb\\anaconda3\\envs\\torch_env\\lib\\site-packages (from torch) (4.7.1)\n",
      "Requirement already satisfied: sympy in c:\\users\\przyb\\anaconda3\\envs\\torch_env\\lib\\site-packages (from torch) (1.11.1)\n",
      "Requirement already satisfied: networkx in c:\\users\\przyb\\anaconda3\\envs\\torch_env\\lib\\site-packages (from torch) (3.1)\n",
      "Requirement already satisfied: jinja2 in c:\\users\\przyb\\anaconda3\\envs\\torch_env\\lib\\site-packages (from torch) (3.1.2)\n",
      "Requirement already satisfied: fsspec in c:\\users\\przyb\\anaconda3\\envs\\torch_env\\lib\\site-packages (from torch) (2023.10.0)\n",
      "Requirement already satisfied: MarkupSafe>=2.0 in c:\\users\\przyb\\anaconda3\\envs\\torch_env\\lib\\site-packages (from jinja2->torch) (2.1.1)\n",
      "Requirement already satisfied: mpmath>=0.19 in c:\\users\\przyb\\anaconda3\\envs\\torch_env\\lib\\site-packages (from sympy->torch) (1.3.0)\n",
      "Requirement already satisfied: sentencepiece in c:\\users\\przyb\\anaconda3\\envs\\torch_env\\lib\\site-packages (0.1.99)\n"
     ]
    },
    {
     "name": "stderr",
     "output_type": "stream",
     "text": [
      "c:\\Users\\przyb\\anaconda3\\envs\\torch_env\\lib\\site-packages\\tqdm\\auto.py:21: TqdmWarning: IProgress not found. Please update jupyter and ipywidgets. See https://ipywidgets.readthedocs.io/en/stable/user_install.html\n",
      "  from .autonotebook import tqdm as notebook_tqdm\n"
     ]
    }
   ],
   "source": [
    "### import lib\n",
    "!pip install transformers\n",
    "!pip install torch\n",
    "!pip install sentencepiece\n",
    "from transformers import CamembertTokenizer, CamembertForSequenceClassification, Trainer, TrainingArguments\n",
    "import torch\n"
   ]
  },
  {
   "cell_type": "code",
   "execution_count": 29,
   "metadata": {},
   "outputs": [],
   "source": [
    "### Longueur de chaque avis dans une nouvelle colonne\n",
    "df['longueur_avis'] = df['text_avis'].apply(len)"
   ]
  },
  {
   "cell_type": "code",
   "execution_count": 30,
   "metadata": {},
   "outputs": [
    {
     "name": "stderr",
     "output_type": "stream",
     "text": [
      "Special tokens have been added in the vocabulary, make sure the associated word embeddings are fine-tuned or trained.\n"
     ]
    }
   ],
   "source": [
    "### Tokenization\n",
    "tokenizer = CamembertTokenizer.from_pretrained(\"camembert-base\")"
   ]
  },
  {
   "cell_type": "code",
   "execution_count": 31,
   "metadata": {},
   "outputs": [],
   "source": [
    "max_length = 512  \n",
    "\n",
    "encodings = tokenizer(list(df['text_avis']), truncation=True, padding='max_length', max_length=max_length, return_tensors='pt')\n"
   ]
  },
  {
   "cell_type": "markdown",
   "metadata": {},
   "source": [
    "### Séparation du df en test / train pour préparer CamemBert"
   ]
  },
  {
   "cell_type": "code",
   "execution_count": null,
   "metadata": {},
   "outputs": [],
   "source": []
  },
  {
   "cell_type": "markdown",
   "metadata": {},
   "source": [
    "### Ne pas créer le dataset / entraîner sur tout le df sinon impossible de prédire"
   ]
  },
  {
   "cell_type": "code",
   "execution_count": 35,
   "metadata": {},
   "outputs": [],
   "source": [
    "### Création d'un dataset\n",
    "\n",
    "### Ajustement étoiles de str en int\n",
    "\n",
    "df['etoiles'] = df['etoiles'].astype('int64')\n",
    "\n",
    "class AvisDataset(torch.utils.data.Dataset):\n",
    "    def __init__(self, encodings, labels):\n",
    "        self.encodings = encodings\n",
    "        self.labels = labels\n",
    "\n",
    "    def __getitem__(self, idx):\n",
    "        item = {key: val[idx] for key, val in self.encodings.items()}\n",
    "        item['labels'] = torch.tensor(self.labels[idx]).long()\n",
    "        return item\n",
    "\n",
    "    def __len__(self):\n",
    "        return len(self.labels)\n",
    "\n",
    "labels = df['etoiles'].values - 1  \n",
    "dataset = AvisDataset(encodings, labels)\n"
   ]
  },
  {
   "cell_type": "code",
   "execution_count": 36,
   "metadata": {
    "scrolled": false
   },
   "outputs": [
    {
     "name": "stdout",
     "output_type": "stream",
     "text": [
      "Requirement already satisfied: accelerate in c:\\users\\przyb\\anaconda3\\envs\\torch_env\\lib\\site-packages (0.23.0)\n",
      "Requirement already satisfied: numpy>=1.17 in c:\\users\\przyb\\anaconda3\\envs\\torch_env\\lib\\site-packages (from accelerate) (1.26.0)\n",
      "Requirement already satisfied: packaging>=20.0 in c:\\users\\przyb\\anaconda3\\envs\\torch_env\\lib\\site-packages (from accelerate) (23.2)\n",
      "Requirement already satisfied: psutil in c:\\users\\przyb\\anaconda3\\envs\\torch_env\\lib\\site-packages (from accelerate) (5.9.0)\n",
      "Requirement already satisfied: pyyaml in c:\\users\\przyb\\anaconda3\\envs\\torch_env\\lib\\site-packages (from accelerate) (6.0)\n",
      "Requirement already satisfied: torch>=1.10.0 in c:\\users\\przyb\\anaconda3\\envs\\torch_env\\lib\\site-packages (from accelerate) (2.1.0)\n",
      "Requirement already satisfied: huggingface-hub in c:\\users\\przyb\\anaconda3\\envs\\torch_env\\lib\\site-packages (from accelerate) (0.17.3)\n",
      "Requirement already satisfied: filelock in c:\\users\\przyb\\anaconda3\\envs\\torch_env\\lib\\site-packages (from torch>=1.10.0->accelerate) (3.9.0)\n",
      "Requirement already satisfied: typing-extensions in c:\\users\\przyb\\anaconda3\\envs\\torch_env\\lib\\site-packages (from torch>=1.10.0->accelerate) (4.7.1)\n",
      "Requirement already satisfied: sympy in c:\\users\\przyb\\anaconda3\\envs\\torch_env\\lib\\site-packages (from torch>=1.10.0->accelerate) (1.11.1)\n",
      "Requirement already satisfied: networkx in c:\\users\\przyb\\anaconda3\\envs\\torch_env\\lib\\site-packages (from torch>=1.10.0->accelerate) (3.1)\n",
      "Requirement already satisfied: jinja2 in c:\\users\\przyb\\anaconda3\\envs\\torch_env\\lib\\site-packages (from torch>=1.10.0->accelerate) (3.1.2)\n",
      "Requirement already satisfied: fsspec in c:\\users\\przyb\\anaconda3\\envs\\torch_env\\lib\\site-packages (from torch>=1.10.0->accelerate) (2023.10.0)\n",
      "Requirement already satisfied: requests in c:\\users\\przyb\\anaconda3\\envs\\torch_env\\lib\\site-packages (from huggingface-hub->accelerate) (2.31.0)\n",
      "Requirement already satisfied: tqdm>=4.42.1 in c:\\users\\przyb\\anaconda3\\envs\\torch_env\\lib\\site-packages (from huggingface-hub->accelerate) (4.66.1)\n",
      "Requirement already satisfied: colorama in c:\\users\\przyb\\anaconda3\\envs\\torch_env\\lib\\site-packages (from tqdm>=4.42.1->huggingface-hub->accelerate) (0.4.6)\n",
      "Requirement already satisfied: MarkupSafe>=2.0 in c:\\users\\przyb\\anaconda3\\envs\\torch_env\\lib\\site-packages (from jinja2->torch>=1.10.0->accelerate) (2.1.1)\n",
      "Requirement already satisfied: charset-normalizer<4,>=2 in c:\\users\\przyb\\anaconda3\\envs\\torch_env\\lib\\site-packages (from requests->huggingface-hub->accelerate) (2.0.4)\n",
      "Requirement already satisfied: idna<4,>=2.5 in c:\\users\\przyb\\anaconda3\\envs\\torch_env\\lib\\site-packages (from requests->huggingface-hub->accelerate) (3.4)\n",
      "Requirement already satisfied: urllib3<3,>=1.21.1 in c:\\users\\przyb\\anaconda3\\envs\\torch_env\\lib\\site-packages (from requests->huggingface-hub->accelerate) (1.26.16)\n",
      "Requirement already satisfied: certifi>=2017.4.17 in c:\\users\\przyb\\anaconda3\\envs\\torch_env\\lib\\site-packages (from requests->huggingface-hub->accelerate) (2023.7.22)\n",
      "Requirement already satisfied: mpmath>=0.19 in c:\\users\\przyb\\anaconda3\\envs\\torch_env\\lib\\site-packages (from sympy->torch>=1.10.0->accelerate) (1.3.0)\n",
      "Requirement already satisfied: transformers[torch] in c:\\users\\przyb\\anaconda3\\envs\\torch_env\\lib\\site-packages (4.34.1)\n",
      "Requirement already satisfied: filelock in c:\\users\\przyb\\anaconda3\\envs\\torch_env\\lib\\site-packages (from transformers[torch]) (3.9.0)\n",
      "Requirement already satisfied: huggingface-hub<1.0,>=0.16.4 in c:\\users\\przyb\\anaconda3\\envs\\torch_env\\lib\\site-packages (from transformers[torch]) (0.17.3)\n",
      "Requirement already satisfied: numpy>=1.17 in c:\\users\\przyb\\anaconda3\\envs\\torch_env\\lib\\site-packages (from transformers[torch]) (1.26.0)\n",
      "Requirement already satisfied: packaging>=20.0 in c:\\users\\przyb\\anaconda3\\envs\\torch_env\\lib\\site-packages (from transformers[torch]) (23.2)\n",
      "Requirement already satisfied: pyyaml>=5.1 in c:\\users\\przyb\\anaconda3\\envs\\torch_env\\lib\\site-packages (from transformers[torch]) (6.0)\n",
      "Requirement already satisfied: regex!=2019.12.17 in c:\\users\\przyb\\anaconda3\\envs\\torch_env\\lib\\site-packages (from transformers[torch]) (2023.10.3)\n",
      "Requirement already satisfied: requests in c:\\users\\przyb\\anaconda3\\envs\\torch_env\\lib\\site-packages (from transformers[torch]) (2.31.0)\n",
      "Requirement already satisfied: tokenizers<0.15,>=0.14 in c:\\users\\przyb\\anaconda3\\envs\\torch_env\\lib\\site-packages (from transformers[torch]) (0.14.1)\n",
      "Requirement already satisfied: safetensors>=0.3.1 in c:\\users\\przyb\\anaconda3\\envs\\torch_env\\lib\\site-packages (from transformers[torch]) (0.4.0)\n",
      "Requirement already satisfied: tqdm>=4.27 in c:\\users\\przyb\\anaconda3\\envs\\torch_env\\lib\\site-packages (from transformers[torch]) (4.66.1)\n",
      "Requirement already satisfied: torch!=1.12.0,>=1.10 in c:\\users\\przyb\\anaconda3\\envs\\torch_env\\lib\\site-packages (from transformers[torch]) (2.1.0)\n",
      "Requirement already satisfied: accelerate>=0.20.3 in c:\\users\\przyb\\anaconda3\\envs\\torch_env\\lib\\site-packages (from transformers[torch]) (0.23.0)\n",
      "Requirement already satisfied: psutil in c:\\users\\przyb\\anaconda3\\envs\\torch_env\\lib\\site-packages (from accelerate>=0.20.3->transformers[torch]) (5.9.0)\n",
      "Requirement already satisfied: fsspec in c:\\users\\przyb\\anaconda3\\envs\\torch_env\\lib\\site-packages (from huggingface-hub<1.0,>=0.16.4->transformers[torch]) (2023.10.0)\n",
      "Requirement already satisfied: typing-extensions>=3.7.4.3 in c:\\users\\przyb\\anaconda3\\envs\\torch_env\\lib\\site-packages (from huggingface-hub<1.0,>=0.16.4->transformers[torch]) (4.7.1)\n",
      "Requirement already satisfied: sympy in c:\\users\\przyb\\anaconda3\\envs\\torch_env\\lib\\site-packages (from torch!=1.12.0,>=1.10->transformers[torch]) (1.11.1)\n",
      "Requirement already satisfied: networkx in c:\\users\\przyb\\anaconda3\\envs\\torch_env\\lib\\site-packages (from torch!=1.12.0,>=1.10->transformers[torch]) (3.1)\n",
      "Requirement already satisfied: jinja2 in c:\\users\\przyb\\anaconda3\\envs\\torch_env\\lib\\site-packages (from torch!=1.12.0,>=1.10->transformers[torch]) (3.1.2)\n",
      "Requirement already satisfied: colorama in c:\\users\\przyb\\anaconda3\\envs\\torch_env\\lib\\site-packages (from tqdm>=4.27->transformers[torch]) (0.4.6)\n",
      "Requirement already satisfied: charset-normalizer<4,>=2 in c:\\users\\przyb\\anaconda3\\envs\\torch_env\\lib\\site-packages (from requests->transformers[torch]) (2.0.4)\n",
      "Requirement already satisfied: idna<4,>=2.5 in c:\\users\\przyb\\anaconda3\\envs\\torch_env\\lib\\site-packages (from requests->transformers[torch]) (3.4)\n",
      "Requirement already satisfied: urllib3<3,>=1.21.1 in c:\\users\\przyb\\anaconda3\\envs\\torch_env\\lib\\site-packages (from requests->transformers[torch]) (1.26.16)\n",
      "Requirement already satisfied: certifi>=2017.4.17 in c:\\users\\przyb\\anaconda3\\envs\\torch_env\\lib\\site-packages (from requests->transformers[torch]) (2023.7.22)\n",
      "Requirement already satisfied: MarkupSafe>=2.0 in c:\\users\\przyb\\anaconda3\\envs\\torch_env\\lib\\site-packages (from jinja2->torch!=1.12.0,>=1.10->transformers[torch]) (2.1.1)\n",
      "Requirement already satisfied: mpmath>=0.19 in c:\\users\\przyb\\anaconda3\\envs\\torch_env\\lib\\site-packages (from sympy->torch!=1.12.0,>=1.10->transformers[torch]) (1.3.0)\n",
      "Requirement already satisfied: accelerate in c:\\users\\przyb\\anaconda3\\envs\\torch_env\\lib\\site-packages (0.23.0)\n",
      "Requirement already satisfied: numpy>=1.17 in c:\\users\\przyb\\anaconda3\\envs\\torch_env\\lib\\site-packages (from accelerate) (1.26.0)\n",
      "Requirement already satisfied: packaging>=20.0 in c:\\users\\przyb\\anaconda3\\envs\\torch_env\\lib\\site-packages (from accelerate) (23.2)\n",
      "Requirement already satisfied: psutil in c:\\users\\przyb\\anaconda3\\envs\\torch_env\\lib\\site-packages (from accelerate) (5.9.0)\n",
      "Requirement already satisfied: pyyaml in c:\\users\\przyb\\anaconda3\\envs\\torch_env\\lib\\site-packages (from accelerate) (6.0)\n",
      "Requirement already satisfied: torch>=1.10.0 in c:\\users\\przyb\\anaconda3\\envs\\torch_env\\lib\\site-packages (from accelerate) (2.1.0)\n",
      "Requirement already satisfied: huggingface-hub in c:\\users\\przyb\\anaconda3\\envs\\torch_env\\lib\\site-packages (from accelerate) (0.17.3)\n",
      "Requirement already satisfied: filelock in c:\\users\\przyb\\anaconda3\\envs\\torch_env\\lib\\site-packages (from torch>=1.10.0->accelerate) (3.9.0)\n",
      "Requirement already satisfied: typing-extensions in c:\\users\\przyb\\anaconda3\\envs\\torch_env\\lib\\site-packages (from torch>=1.10.0->accelerate) (4.7.1)\n",
      "Requirement already satisfied: sympy in c:\\users\\przyb\\anaconda3\\envs\\torch_env\\lib\\site-packages (from torch>=1.10.0->accelerate) (1.11.1)\n",
      "Requirement already satisfied: networkx in c:\\users\\przyb\\anaconda3\\envs\\torch_env\\lib\\site-packages (from torch>=1.10.0->accelerate) (3.1)\n",
      "Requirement already satisfied: jinja2 in c:\\users\\przyb\\anaconda3\\envs\\torch_env\\lib\\site-packages (from torch>=1.10.0->accelerate) (3.1.2)\n",
      "Requirement already satisfied: fsspec in c:\\users\\przyb\\anaconda3\\envs\\torch_env\\lib\\site-packages (from torch>=1.10.0->accelerate) (2023.10.0)\n",
      "Requirement already satisfied: requests in c:\\users\\przyb\\anaconda3\\envs\\torch_env\\lib\\site-packages (from huggingface-hub->accelerate) (2.31.0)\n",
      "Requirement already satisfied: tqdm>=4.42.1 in c:\\users\\przyb\\anaconda3\\envs\\torch_env\\lib\\site-packages (from huggingface-hub->accelerate) (4.66.1)\n",
      "Requirement already satisfied: colorama in c:\\users\\przyb\\anaconda3\\envs\\torch_env\\lib\\site-packages (from tqdm>=4.42.1->huggingface-hub->accelerate) (0.4.6)\n",
      "Requirement already satisfied: MarkupSafe>=2.0 in c:\\users\\przyb\\anaconda3\\envs\\torch_env\\lib\\site-packages (from jinja2->torch>=1.10.0->accelerate) (2.1.1)\n",
      "Requirement already satisfied: charset-normalizer<4,>=2 in c:\\users\\przyb\\anaconda3\\envs\\torch_env\\lib\\site-packages (from requests->huggingface-hub->accelerate) (2.0.4)\n",
      "Requirement already satisfied: idna<4,>=2.5 in c:\\users\\przyb\\anaconda3\\envs\\torch_env\\lib\\site-packages (from requests->huggingface-hub->accelerate) (3.4)\n",
      "Requirement already satisfied: urllib3<3,>=1.21.1 in c:\\users\\przyb\\anaconda3\\envs\\torch_env\\lib\\site-packages (from requests->huggingface-hub->accelerate) (1.26.16)\n",
      "Requirement already satisfied: certifi>=2017.4.17 in c:\\users\\przyb\\anaconda3\\envs\\torch_env\\lib\\site-packages (from requests->huggingface-hub->accelerate) (2023.7.22)\n",
      "Requirement already satisfied: mpmath>=0.19 in c:\\users\\przyb\\anaconda3\\envs\\torch_env\\lib\\site-packages (from sympy->torch>=1.10.0->accelerate) (1.3.0)\n"
     ]
    },
    {
     "name": "stderr",
     "output_type": "stream",
     "text": [
      "Some weights of CamembertForSequenceClassification were not initialized from the model checkpoint at camembert-base and are newly initialized: ['classifier.out_proj.bias', 'classifier.dense.weight', 'classifier.out_proj.weight', 'classifier.dense.bias']\n",
      "You should probably TRAIN this model on a down-stream task to be able to use it for predictions and inference.\n",
      "  0%|          | 0/59184 [03:42<?, ?it/s]\n",
      "  1%|          | 500/59184 [01:36<3:08:19,  5.19it/s]"
     ]
    },
    {
     "name": "stdout",
     "output_type": "stream",
     "text": [
      "{'loss': 0.6267, 'learning_rate': 4.957758853744255e-05, 'epoch': 0.03}\n"
     ]
    },
    {
     "name": "stderr",
     "output_type": "stream",
     "text": [
      "  2%|▏         | 1000/59184 [03:14<3:06:32,  5.20it/s]"
     ]
    },
    {
     "name": "stdout",
     "output_type": "stream",
     "text": [
      "{'loss': 0.5656, 'learning_rate': 4.915517707488511e-05, 'epoch': 0.05}\n"
     ]
    },
    {
     "name": "stderr",
     "output_type": "stream",
     "text": [
      "  3%|▎         | 1500/59184 [04:51<3:04:22,  5.21it/s]"
     ]
    },
    {
     "name": "stdout",
     "output_type": "stream",
     "text": [
      "{'loss': 0.538, 'learning_rate': 4.873276561232766e-05, 'epoch': 0.08}\n"
     ]
    },
    {
     "name": "stderr",
     "output_type": "stream",
     "text": [
      "  3%|▎         | 2000/59184 [06:29<3:04:59,  5.15it/s] "
     ]
    },
    {
     "name": "stdout",
     "output_type": "stream",
     "text": [
      "{'loss': 0.5172, 'learning_rate': 4.831035414977021e-05, 'epoch': 0.1}\n"
     ]
    },
    {
     "name": "stderr",
     "output_type": "stream",
     "text": [
      "  4%|▍         | 2500/59184 [08:06<2:59:52,  5.25it/s]"
     ]
    },
    {
     "name": "stdout",
     "output_type": "stream",
     "text": [
      "{'loss': 0.5283, 'learning_rate': 4.788794268721276e-05, 'epoch': 0.13}\n"
     ]
    },
    {
     "name": "stderr",
     "output_type": "stream",
     "text": [
      "  5%|▌         | 3000/59184 [09:43<2:58:28,  5.25it/s]"
     ]
    },
    {
     "name": "stdout",
     "output_type": "stream",
     "text": [
      "{'loss': 0.5202, 'learning_rate': 4.7465531224655316e-05, 'epoch': 0.15}\n"
     ]
    },
    {
     "name": "stderr",
     "output_type": "stream",
     "text": [
      "  6%|▌         | 3500/59184 [11:20<2:57:24,  5.23it/s]"
     ]
    },
    {
     "name": "stdout",
     "output_type": "stream",
     "text": [
      "{'loss': 0.5243, 'learning_rate': 4.7043119762097866e-05, 'epoch': 0.18}\n"
     ]
    },
    {
     "name": "stderr",
     "output_type": "stream",
     "text": [
      "  7%|▋         | 4000/59184 [12:59<2:55:08,  5.25it/s] "
     ]
    },
    {
     "name": "stdout",
     "output_type": "stream",
     "text": [
      "{'loss': 0.5247, 'learning_rate': 4.6620708299540416e-05, 'epoch': 0.2}\n"
     ]
    },
    {
     "name": "stderr",
     "output_type": "stream",
     "text": [
      "  8%|▊         | 4500/59184 [14:35<2:54:32,  5.22it/s]"
     ]
    },
    {
     "name": "stdout",
     "output_type": "stream",
     "text": [
      "{'loss': 0.5131, 'learning_rate': 4.6198296836982966e-05, 'epoch': 0.23}\n"
     ]
    },
    {
     "name": "stderr",
     "output_type": "stream",
     "text": [
      "  8%|▊         | 5000/59184 [16:12<2:52:58,  5.22it/s]"
     ]
    },
    {
     "name": "stdout",
     "output_type": "stream",
     "text": [
      "{'loss': 0.5144, 'learning_rate': 4.577588537442552e-05, 'epoch': 0.25}\n"
     ]
    },
    {
     "name": "stderr",
     "output_type": "stream",
     "text": [
      "  9%|▉         | 5500/59184 [17:49<2:51:22,  5.22it/s]"
     ]
    },
    {
     "name": "stdout",
     "output_type": "stream",
     "text": [
      "{'loss': 0.5064, 'learning_rate': 4.535347391186808e-05, 'epoch': 0.28}\n"
     ]
    },
    {
     "name": "stderr",
     "output_type": "stream",
     "text": [
      " 10%|█         | 6000/59184 [19:25<2:48:48,  5.25it/s]"
     ]
    },
    {
     "name": "stdout",
     "output_type": "stream",
     "text": [
      "{'loss': 0.4726, 'learning_rate': 4.493106244931063e-05, 'epoch': 0.3}\n"
     ]
    },
    {
     "name": "stderr",
     "output_type": "stream",
     "text": [
      " 11%|█         | 6500/59184 [21:02<2:47:38,  5.24it/s]"
     ]
    },
    {
     "name": "stdout",
     "output_type": "stream",
     "text": [
      "{'loss': 0.5265, 'learning_rate': 4.450865098675318e-05, 'epoch': 0.33}\n"
     ]
    },
    {
     "name": "stderr",
     "output_type": "stream",
     "text": [
      " 12%|█▏        | 7000/59184 [22:38<2:46:05,  5.24it/s]"
     ]
    },
    {
     "name": "stdout",
     "output_type": "stream",
     "text": [
      "{'loss': 0.4962, 'learning_rate': 4.408623952419573e-05, 'epoch': 0.35}\n"
     ]
    },
    {
     "name": "stderr",
     "output_type": "stream",
     "text": [
      " 13%|█▎        | 7500/59184 [24:15<2:44:18,  5.24it/s]"
     ]
    },
    {
     "name": "stdout",
     "output_type": "stream",
     "text": [
      "{'loss': 0.5138, 'learning_rate': 4.3663828061638286e-05, 'epoch': 0.38}\n"
     ]
    },
    {
     "name": "stderr",
     "output_type": "stream",
     "text": [
      " 14%|█▎        | 8000/59184 [25:52<2:43:35,  5.21it/s]"
     ]
    },
    {
     "name": "stdout",
     "output_type": "stream",
     "text": [
      "{'loss': 0.5015, 'learning_rate': 4.3241416599080836e-05, 'epoch': 0.41}\n"
     ]
    },
    {
     "name": "stderr",
     "output_type": "stream",
     "text": [
      " 14%|█▍        | 8500/59184 [27:29<2:42:09,  5.21it/s]"
     ]
    },
    {
     "name": "stdout",
     "output_type": "stream",
     "text": [
      "{'loss': 0.4942, 'learning_rate': 4.2819005136523386e-05, 'epoch': 0.43}\n"
     ]
    },
    {
     "name": "stderr",
     "output_type": "stream",
     "text": [
      " 15%|█▌        | 9000/59184 [29:06<2:52:36,  4.85it/s]"
     ]
    },
    {
     "name": "stdout",
     "output_type": "stream",
     "text": [
      "{'loss': 0.4887, 'learning_rate': 4.239659367396594e-05, 'epoch': 0.46}\n"
     ]
    },
    {
     "name": "stderr",
     "output_type": "stream",
     "text": [
      " 16%|█▌        | 9500/59184 [30:43<2:38:54,  5.21it/s]"
     ]
    },
    {
     "name": "stdout",
     "output_type": "stream",
     "text": [
      "{'loss': 0.5135, 'learning_rate': 4.197418221140849e-05, 'epoch': 0.48}\n"
     ]
    },
    {
     "name": "stderr",
     "output_type": "stream",
     "text": [
      " 17%|█▋        | 10000/59184 [32:20<2:37:25,  5.21it/s]"
     ]
    },
    {
     "name": "stdout",
     "output_type": "stream",
     "text": [
      "{'loss': 0.4909, 'learning_rate': 4.155177074885104e-05, 'epoch': 0.51}\n"
     ]
    },
    {
     "name": "stderr",
     "output_type": "stream",
     "text": [
      " 18%|█▊        | 10500/59184 [33:57<2:36:36,  5.18it/s]"
     ]
    },
    {
     "name": "stdout",
     "output_type": "stream",
     "text": [
      "{'loss': 0.4987, 'learning_rate': 4.112935928629359e-05, 'epoch': 0.53}\n"
     ]
    },
    {
     "name": "stderr",
     "output_type": "stream",
     "text": [
      " 19%|█▊        | 11000/59184 [35:34<2:35:41,  5.16it/s]"
     ]
    },
    {
     "name": "stdout",
     "output_type": "stream",
     "text": [
      "{'loss': 0.5231, 'learning_rate': 4.070694782373615e-05, 'epoch': 0.56}\n"
     ]
    },
    {
     "name": "stderr",
     "output_type": "stream",
     "text": [
      " 19%|█▉        | 11500/59184 [37:12<2:32:53,  5.20it/s]"
     ]
    },
    {
     "name": "stdout",
     "output_type": "stream",
     "text": [
      "{'loss': 0.49, 'learning_rate': 4.02845363611787e-05, 'epoch': 0.58}\n"
     ]
    },
    {
     "name": "stderr",
     "output_type": "stream",
     "text": [
      " 20%|██        | 12000/59184 [38:49<2:30:58,  5.21it/s]"
     ]
    },
    {
     "name": "stdout",
     "output_type": "stream",
     "text": [
      "{'loss': 0.5012, 'learning_rate': 3.986212489862125e-05, 'epoch': 0.61}\n"
     ]
    },
    {
     "name": "stderr",
     "output_type": "stream",
     "text": [
      " 21%|██        | 12500/59184 [40:26<2:29:08,  5.22it/s]"
     ]
    },
    {
     "name": "stdout",
     "output_type": "stream",
     "text": [
      "{'loss': 0.4932, 'learning_rate': 3.94397134360638e-05, 'epoch': 0.63}\n"
     ]
    },
    {
     "name": "stderr",
     "output_type": "stream",
     "text": [
      " 22%|██▏       | 13000/59184 [42:03<2:27:57,  5.20it/s]"
     ]
    },
    {
     "name": "stdout",
     "output_type": "stream",
     "text": [
      "{'loss': 0.493, 'learning_rate': 3.9017301973506357e-05, 'epoch': 0.66}\n"
     ]
    },
    {
     "name": "stderr",
     "output_type": "stream",
     "text": [
      " 23%|██▎       | 13500/59184 [43:40<2:26:07,  5.21it/s]"
     ]
    },
    {
     "name": "stdout",
     "output_type": "stream",
     "text": [
      "{'loss': 0.496, 'learning_rate': 3.8594890510948907e-05, 'epoch': 0.68}\n"
     ]
    },
    {
     "name": "stderr",
     "output_type": "stream",
     "text": [
      " 24%|██▎       | 14000/59184 [45:17<2:24:32,  5.21it/s]"
     ]
    },
    {
     "name": "stdout",
     "output_type": "stream",
     "text": [
      "{'loss': 0.4739, 'learning_rate': 3.8172479048391457e-05, 'epoch': 0.71}\n"
     ]
    },
    {
     "name": "stderr",
     "output_type": "stream",
     "text": [
      " 24%|██▍       | 14500/59184 [46:54<2:22:47,  5.22it/s]"
     ]
    },
    {
     "name": "stdout",
     "output_type": "stream",
     "text": [
      "{'loss': 0.5007, 'learning_rate': 3.7750067585834007e-05, 'epoch': 0.73}\n"
     ]
    },
    {
     "name": "stderr",
     "output_type": "stream",
     "text": [
      " 25%|██▌       | 15000/59184 [48:31<2:21:07,  5.22it/s]"
     ]
    },
    {
     "name": "stdout",
     "output_type": "stream",
     "text": [
      "{'loss': 0.4916, 'learning_rate': 3.732765612327656e-05, 'epoch': 0.76}\n"
     ]
    },
    {
     "name": "stderr",
     "output_type": "stream",
     "text": [
      " 26%|██▌       | 15500/59184 [50:08<2:19:38,  5.21it/s]"
     ]
    },
    {
     "name": "stdout",
     "output_type": "stream",
     "text": [
      "{'loss': 0.4717, 'learning_rate': 3.690524466071911e-05, 'epoch': 0.79}\n"
     ]
    },
    {
     "name": "stderr",
     "output_type": "stream",
     "text": [
      " 27%|██▋       | 16000/59184 [51:45<2:17:45,  5.22it/s]"
     ]
    },
    {
     "name": "stdout",
     "output_type": "stream",
     "text": [
      "{'loss': 0.4926, 'learning_rate': 3.648283319816166e-05, 'epoch': 0.81}\n"
     ]
    },
    {
     "name": "stderr",
     "output_type": "stream",
     "text": [
      " 28%|██▊       | 16500/59184 [53:22<2:15:48,  5.24it/s]"
     ]
    },
    {
     "name": "stdout",
     "output_type": "stream",
     "text": [
      "{'loss': 0.4963, 'learning_rate': 3.606042173560422e-05, 'epoch': 0.84}\n"
     ]
    },
    {
     "name": "stderr",
     "output_type": "stream",
     "text": [
      " 29%|██▊       | 17000/59184 [54:58<2:14:23,  5.23it/s]"
     ]
    },
    {
     "name": "stdout",
     "output_type": "stream",
     "text": [
      "{'loss': 0.5054, 'learning_rate': 3.563801027304678e-05, 'epoch': 0.86}\n"
     ]
    },
    {
     "name": "stderr",
     "output_type": "stream",
     "text": [
      " 30%|██▉       | 17500/59184 [56:35<2:12:49,  5.23it/s]"
     ]
    },
    {
     "name": "stdout",
     "output_type": "stream",
     "text": [
      "{'loss': 0.4819, 'learning_rate': 3.521559881048933e-05, 'epoch': 0.89}\n"
     ]
    },
    {
     "name": "stderr",
     "output_type": "stream",
     "text": [
      " 30%|███       | 18000/59184 [58:12<2:10:27,  5.26it/s]"
     ]
    },
    {
     "name": "stdout",
     "output_type": "stream",
     "text": [
      "{'loss': 0.5067, 'learning_rate': 3.479318734793188e-05, 'epoch': 0.91}\n"
     ]
    },
    {
     "name": "stderr",
     "output_type": "stream",
     "text": [
      " 31%|███▏      | 18500/59184 [59:48<2:09:29,  5.24it/s]"
     ]
    },
    {
     "name": "stdout",
     "output_type": "stream",
     "text": [
      "{'loss': 0.4515, 'learning_rate': 3.437077588537443e-05, 'epoch': 0.94}\n"
     ]
    },
    {
     "name": "stderr",
     "output_type": "stream",
     "text": [
      " 32%|███▏      | 19000/59184 [1:01:25<2:07:43,  5.24it/s]"
     ]
    },
    {
     "name": "stdout",
     "output_type": "stream",
     "text": [
      "{'loss': 0.4986, 'learning_rate': 3.3948364422816984e-05, 'epoch': 0.96}\n"
     ]
    },
    {
     "name": "stderr",
     "output_type": "stream",
     "text": [
      " 33%|███▎      | 19500/59184 [1:03:01<2:05:57,  5.25it/s]"
     ]
    },
    {
     "name": "stdout",
     "output_type": "stream",
     "text": [
      "{'loss': 0.4939, 'learning_rate': 3.3525952960259534e-05, 'epoch': 0.99}\n"
     ]
    },
    {
     "name": "stderr",
     "output_type": "stream",
     "text": [
      " 34%|███▍      | 20000/59184 [1:04:38<2:04:45,  5.23it/s]"
     ]
    },
    {
     "name": "stdout",
     "output_type": "stream",
     "text": [
      "{'loss': 0.5028, 'learning_rate': 3.3103541497702084e-05, 'epoch': 1.01}\n"
     ]
    },
    {
     "name": "stderr",
     "output_type": "stream",
     "text": [
      " 35%|███▍      | 20500/59184 [1:06:15<2:03:14,  5.23it/s]"
     ]
    },
    {
     "name": "stdout",
     "output_type": "stream",
     "text": [
      "{'loss': 0.4388, 'learning_rate': 3.2681130035144634e-05, 'epoch': 1.04}\n"
     ]
    },
    {
     "name": "stderr",
     "output_type": "stream",
     "text": [
      " 35%|███▌      | 21000/59184 [1:07:52<2:01:18,  5.25it/s]"
     ]
    },
    {
     "name": "stdout",
     "output_type": "stream",
     "text": [
      "{'loss': 0.4515, 'learning_rate': 3.225871857258719e-05, 'epoch': 1.06}\n"
     ]
    },
    {
     "name": "stderr",
     "output_type": "stream",
     "text": [
      " 36%|███▋      | 21500/59184 [1:09:28<1:59:38,  5.25it/s]"
     ]
    },
    {
     "name": "stdout",
     "output_type": "stream",
     "text": [
      "{'loss': 0.4627, 'learning_rate': 3.183630711002974e-05, 'epoch': 1.09}\n"
     ]
    },
    {
     "name": "stderr",
     "output_type": "stream",
     "text": [
      " 37%|███▋      | 22000/59184 [1:11:05<1:57:50,  5.26it/s]"
     ]
    },
    {
     "name": "stdout",
     "output_type": "stream",
     "text": [
      "{'loss': 0.4748, 'learning_rate': 3.141389564747229e-05, 'epoch': 1.12}\n"
     ]
    },
    {
     "name": "stderr",
     "output_type": "stream",
     "text": [
      " 38%|███▊      | 22500/59184 [1:12:41<1:56:00,  5.27it/s]"
     ]
    },
    {
     "name": "stdout",
     "output_type": "stream",
     "text": [
      "{'loss': 0.4889, 'learning_rate': 3.099148418491484e-05, 'epoch': 1.14}\n"
     ]
    },
    {
     "name": "stderr",
     "output_type": "stream",
     "text": [
      " 39%|███▉      | 23000/59184 [1:14:18<1:54:44,  5.26it/s]"
     ]
    },
    {
     "name": "stdout",
     "output_type": "stream",
     "text": [
      "{'loss': 0.4626, 'learning_rate': 3.05690727223574e-05, 'epoch': 1.17}\n"
     ]
    },
    {
     "name": "stderr",
     "output_type": "stream",
     "text": [
      " 40%|███▉      | 23500/59184 [1:15:54<1:53:18,  5.25it/s]"
     ]
    },
    {
     "name": "stdout",
     "output_type": "stream",
     "text": [
      "{'loss': 0.4538, 'learning_rate': 3.0146661259799947e-05, 'epoch': 1.19}\n"
     ]
    },
    {
     "name": "stderr",
     "output_type": "stream",
     "text": [
      " 41%|████      | 24000/59184 [1:17:30<1:51:39,  5.25it/s]"
     ]
    },
    {
     "name": "stdout",
     "output_type": "stream",
     "text": [
      "{'loss': 0.4651, 'learning_rate': 2.9724249797242497e-05, 'epoch': 1.22}\n"
     ]
    },
    {
     "name": "stderr",
     "output_type": "stream",
     "text": [
      " 41%|████▏     | 24500/59184 [1:19:07<1:50:16,  5.24it/s]"
     ]
    },
    {
     "name": "stdout",
     "output_type": "stream",
     "text": [
      "{'loss': 0.4645, 'learning_rate': 2.930183833468505e-05, 'epoch': 1.24}\n"
     ]
    },
    {
     "name": "stderr",
     "output_type": "stream",
     "text": [
      " 42%|████▏     | 25000/59184 [1:20:44<1:48:01,  5.27it/s]"
     ]
    },
    {
     "name": "stdout",
     "output_type": "stream",
     "text": [
      "{'loss': 0.4819, 'learning_rate': 2.88794268721276e-05, 'epoch': 1.27}\n"
     ]
    },
    {
     "name": "stderr",
     "output_type": "stream",
     "text": [
      " 43%|████▎     | 25500/59184 [1:22:21<1:47:52,  5.20it/s]"
     ]
    },
    {
     "name": "stdout",
     "output_type": "stream",
     "text": [
      "{'loss': 0.4646, 'learning_rate': 2.8457015409570154e-05, 'epoch': 1.29}\n"
     ]
    },
    {
     "name": "stderr",
     "output_type": "stream",
     "text": [
      " 44%|████▍     | 26000/59184 [1:23:58<1:45:41,  5.23it/s]"
     ]
    },
    {
     "name": "stdout",
     "output_type": "stream",
     "text": [
      "{'loss': 0.4861, 'learning_rate': 2.8034603947012704e-05, 'epoch': 1.32}\n"
     ]
    },
    {
     "name": "stderr",
     "output_type": "stream",
     "text": [
      " 45%|████▍     | 26500/59184 [1:25:34<1:44:02,  5.24it/s]"
     ]
    },
    {
     "name": "stdout",
     "output_type": "stream",
     "text": [
      "{'loss': 0.4464, 'learning_rate': 2.7612192484455257e-05, 'epoch': 1.34}\n"
     ]
    },
    {
     "name": "stderr",
     "output_type": "stream",
     "text": [
      " 46%|████▌     | 27000/59184 [1:27:11<1:42:23,  5.24it/s]"
     ]
    },
    {
     "name": "stdout",
     "output_type": "stream",
     "text": [
      "{'loss': 0.4607, 'learning_rate': 2.7189781021897807e-05, 'epoch': 1.37}\n"
     ]
    },
    {
     "name": "stderr",
     "output_type": "stream",
     "text": [
      " 46%|████▋     | 27500/59184 [1:28:47<1:40:33,  5.25it/s]"
     ]
    },
    {
     "name": "stdout",
     "output_type": "stream",
     "text": [
      "{'loss': 0.426, 'learning_rate': 2.6767369559340367e-05, 'epoch': 1.39}\n"
     ]
    },
    {
     "name": "stderr",
     "output_type": "stream",
     "text": [
      " 47%|████▋     | 28000/59184 [1:30:24<1:39:08,  5.24it/s]"
     ]
    },
    {
     "name": "stdout",
     "output_type": "stream",
     "text": [
      "{'loss': 0.4864, 'learning_rate': 2.6344958096782917e-05, 'epoch': 1.42}\n"
     ]
    },
    {
     "name": "stderr",
     "output_type": "stream",
     "text": [
      " 48%|████▊     | 28500/59184 [1:32:00<1:37:50,  5.23it/s]"
     ]
    },
    {
     "name": "stdout",
     "output_type": "stream",
     "text": [
      "{'loss': 0.469, 'learning_rate': 2.592254663422547e-05, 'epoch': 1.44}\n"
     ]
    },
    {
     "name": "stderr",
     "output_type": "stream",
     "text": [
      " 49%|████▉     | 29000/59184 [1:33:37<1:36:11,  5.23it/s]"
     ]
    },
    {
     "name": "stdout",
     "output_type": "stream",
     "text": [
      "{'loss': 0.4373, 'learning_rate': 2.550013517166802e-05, 'epoch': 1.47}\n"
     ]
    },
    {
     "name": "stderr",
     "output_type": "stream",
     "text": [
      " 50%|████▉     | 29500/59184 [1:35:14<1:34:10,  5.25it/s]"
     ]
    },
    {
     "name": "stdout",
     "output_type": "stream",
     "text": [
      "{'loss': 0.4532, 'learning_rate': 2.5077723709110574e-05, 'epoch': 1.5}\n"
     ]
    },
    {
     "name": "stderr",
     "output_type": "stream",
     "text": [
      " 51%|█████     | 30000/59184 [1:36:51<1:32:54,  5.24it/s]"
     ]
    },
    {
     "name": "stdout",
     "output_type": "stream",
     "text": [
      "{'loss': 0.4564, 'learning_rate': 2.4655312246553124e-05, 'epoch': 1.52}\n"
     ]
    },
    {
     "name": "stderr",
     "output_type": "stream",
     "text": [
      " 52%|█████▏    | 30500/59184 [1:38:28<1:31:13,  5.24it/s]"
     ]
    },
    {
     "name": "stdout",
     "output_type": "stream",
     "text": [
      "{'loss': 0.4549, 'learning_rate': 2.4232900783995678e-05, 'epoch': 1.55}\n"
     ]
    },
    {
     "name": "stderr",
     "output_type": "stream",
     "text": [
      " 52%|█████▏    | 31000/59184 [1:40:04<1:29:28,  5.25it/s]"
     ]
    },
    {
     "name": "stdout",
     "output_type": "stream",
     "text": [
      "{'loss': 0.4408, 'learning_rate': 2.3810489321438228e-05, 'epoch': 1.57}\n"
     ]
    },
    {
     "name": "stderr",
     "output_type": "stream",
     "text": [
      " 53%|█████▎    | 31500/59184 [1:41:41<1:27:59,  5.24it/s]"
     ]
    },
    {
     "name": "stdout",
     "output_type": "stream",
     "text": [
      "{'loss': 0.4481, 'learning_rate': 2.338807785888078e-05, 'epoch': 1.6}\n"
     ]
    },
    {
     "name": "stderr",
     "output_type": "stream",
     "text": [
      " 54%|█████▍    | 32000/59184 [1:43:16<1:23:25,  5.43it/s]"
     ]
    },
    {
     "name": "stdout",
     "output_type": "stream",
     "text": [
      "{'loss': 0.4721, 'learning_rate': 2.296566639632333e-05, 'epoch': 1.62}\n"
     ]
    },
    {
     "name": "stderr",
     "output_type": "stream",
     "text": [
      " 55%|█████▍    | 32500/59184 [1:44:49<1:21:54,  5.43it/s]"
     ]
    },
    {
     "name": "stdout",
     "output_type": "stream",
     "text": [
      "{'loss': 0.4532, 'learning_rate': 2.2543254933765884e-05, 'epoch': 1.65}\n"
     ]
    },
    {
     "name": "stderr",
     "output_type": "stream",
     "text": [
      " 56%|█████▌    | 33000/59184 [1:46:23<1:20:16,  5.44it/s]"
     ]
    },
    {
     "name": "stdout",
     "output_type": "stream",
     "text": [
      "{'loss': 0.4606, 'learning_rate': 2.2120843471208434e-05, 'epoch': 1.67}\n"
     ]
    },
    {
     "name": "stderr",
     "output_type": "stream",
     "text": [
      " 57%|█████▋    | 33500/59184 [1:48:00<1:21:40,  5.24it/s]"
     ]
    },
    {
     "name": "stdout",
     "output_type": "stream",
     "text": [
      "{'loss': 0.4298, 'learning_rate': 2.1698432008650988e-05, 'epoch': 1.7}\n"
     ]
    },
    {
     "name": "stderr",
     "output_type": "stream",
     "text": [
      " 57%|█████▋    | 34000/59184 [1:49:37<1:19:49,  5.26it/s]"
     ]
    },
    {
     "name": "stdout",
     "output_type": "stream",
     "text": [
      "{'loss': 0.4634, 'learning_rate': 2.1276020546093538e-05, 'epoch': 1.72}\n"
     ]
    },
    {
     "name": "stderr",
     "output_type": "stream",
     "text": [
      " 58%|█████▊    | 34500/59184 [1:51:13<1:18:03,  5.27it/s]"
     ]
    },
    {
     "name": "stdout",
     "output_type": "stream",
     "text": [
      "{'loss': 0.446, 'learning_rate': 2.085360908353609e-05, 'epoch': 1.75}\n"
     ]
    },
    {
     "name": "stderr",
     "output_type": "stream",
     "text": [
      " 59%|█████▉    | 35000/59184 [1:52:50<1:16:55,  5.24it/s]"
     ]
    },
    {
     "name": "stdout",
     "output_type": "stream",
     "text": [
      "{'loss': 0.4641, 'learning_rate': 2.043119762097864e-05, 'epoch': 1.77}\n"
     ]
    },
    {
     "name": "stderr",
     "output_type": "stream",
     "text": [
      " 60%|█████▉    | 35500/59184 [1:54:26<1:15:07,  5.25it/s]"
     ]
    },
    {
     "name": "stdout",
     "output_type": "stream",
     "text": [
      "{'loss': 0.4397, 'learning_rate': 2.0008786158421198e-05, 'epoch': 1.8}\n"
     ]
    },
    {
     "name": "stderr",
     "output_type": "stream",
     "text": [
      " 61%|██████    | 36000/59184 [1:56:03<1:13:21,  5.27it/s]"
     ]
    },
    {
     "name": "stdout",
     "output_type": "stream",
     "text": [
      "{'loss': 0.4446, 'learning_rate': 1.9586374695863748e-05, 'epoch': 1.82}\n"
     ]
    },
    {
     "name": "stderr",
     "output_type": "stream",
     "text": [
      " 62%|██████▏   | 36500/59184 [1:57:39<1:11:54,  5.26it/s]"
     ]
    },
    {
     "name": "stdout",
     "output_type": "stream",
     "text": [
      "{'loss': 0.4541, 'learning_rate': 1.91639632333063e-05, 'epoch': 1.85}\n"
     ]
    },
    {
     "name": "stderr",
     "output_type": "stream",
     "text": [
      " 63%|██████▎   | 37000/59184 [1:59:15<1:10:10,  5.27it/s]"
     ]
    },
    {
     "name": "stdout",
     "output_type": "stream",
     "text": [
      "{'loss': 0.4742, 'learning_rate': 1.874155177074885e-05, 'epoch': 1.88}\n"
     ]
    },
    {
     "name": "stderr",
     "output_type": "stream",
     "text": [
      " 63%|██████▎   | 37500/59184 [2:00:51<1:08:43,  5.26it/s]"
     ]
    },
    {
     "name": "stdout",
     "output_type": "stream",
     "text": [
      "{'loss': 0.4545, 'learning_rate': 1.8319140308191405e-05, 'epoch': 1.9}\n"
     ]
    },
    {
     "name": "stderr",
     "output_type": "stream",
     "text": [
      " 64%|██████▍   | 38000/59184 [2:02:28<1:07:04,  5.26it/s]"
     ]
    },
    {
     "name": "stdout",
     "output_type": "stream",
     "text": [
      "{'loss': 0.4157, 'learning_rate': 1.7896728845633955e-05, 'epoch': 1.93}\n"
     ]
    },
    {
     "name": "stderr",
     "output_type": "stream",
     "text": [
      " 65%|██████▌   | 38500/59184 [2:04:04<1:05:36,  5.25it/s]"
     ]
    },
    {
     "name": "stdout",
     "output_type": "stream",
     "text": [
      "{'loss': 0.4498, 'learning_rate': 1.7474317383076508e-05, 'epoch': 1.95}\n"
     ]
    },
    {
     "name": "stderr",
     "output_type": "stream",
     "text": [
      " 66%|██████▌   | 39000/59184 [2:05:40<1:03:53,  5.27it/s]"
     ]
    },
    {
     "name": "stdout",
     "output_type": "stream",
     "text": [
      "{'loss': 0.4582, 'learning_rate': 1.7051905920519058e-05, 'epoch': 1.98}\n"
     ]
    },
    {
     "name": "stderr",
     "output_type": "stream",
     "text": [
      " 67%|██████▋   | 39500/59184 [2:07:17<1:02:28,  5.25it/s]"
     ]
    },
    {
     "name": "stdout",
     "output_type": "stream",
     "text": [
      "{'loss': 0.447, 'learning_rate': 1.662949445796161e-05, 'epoch': 2.0}\n"
     ]
    },
    {
     "name": "stderr",
     "output_type": "stream",
     "text": [
      " 68%|██████▊   | 40000/59184 [2:08:53<1:00:53,  5.25it/s]"
     ]
    },
    {
     "name": "stdout",
     "output_type": "stream",
     "text": [
      "{'loss': 0.422, 'learning_rate': 1.620708299540416e-05, 'epoch': 2.03}\n"
     ]
    },
    {
     "name": "stderr",
     "output_type": "stream",
     "text": [
      " 68%|██████▊   | 40500/59184 [2:10:32<59:09,  5.26it/s]  "
     ]
    },
    {
     "name": "stdout",
     "output_type": "stream",
     "text": [
      "{'loss': 0.4395, 'learning_rate': 1.5784671532846715e-05, 'epoch': 2.05}\n"
     ]
    },
    {
     "name": "stderr",
     "output_type": "stream",
     "text": [
      " 69%|██████▉   | 41000/59184 [2:12:09<58:08,  5.21it/s]  "
     ]
    },
    {
     "name": "stdout",
     "output_type": "stream",
     "text": [
      "{'loss': 0.4224, 'learning_rate': 1.5362260070289268e-05, 'epoch': 2.08}\n"
     ]
    },
    {
     "name": "stderr",
     "output_type": "stream",
     "text": [
      " 70%|███████   | 41500/59184 [2:13:46<58:12,  5.06it/s]  "
     ]
    },
    {
     "name": "stdout",
     "output_type": "stream",
     "text": [
      "{'loss': 0.4474, 'learning_rate': 1.4939848607731822e-05, 'epoch': 2.1}\n"
     ]
    },
    {
     "name": "stderr",
     "output_type": "stream",
     "text": [
      " 71%|███████   | 42000/59184 [2:15:24<54:21,  5.27it/s]  "
     ]
    },
    {
     "name": "stdout",
     "output_type": "stream",
     "text": [
      "{'loss': 0.414, 'learning_rate': 1.4517437145174373e-05, 'epoch': 2.13}\n"
     ]
    },
    {
     "name": "stderr",
     "output_type": "stream",
     "text": [
      " 72%|███████▏  | 42500/59184 [2:17:01<52:47,  5.27it/s]  "
     ]
    },
    {
     "name": "stdout",
     "output_type": "stream",
     "text": [
      "{'loss': 0.4069, 'learning_rate': 1.4095025682616925e-05, 'epoch': 2.15}\n"
     ]
    },
    {
     "name": "stderr",
     "output_type": "stream",
     "text": [
      " 73%|███████▎  | 43000/59184 [2:18:38<51:18,  5.26it/s]  "
     ]
    },
    {
     "name": "stdout",
     "output_type": "stream",
     "text": [
      "{'loss': 0.4125, 'learning_rate': 1.3672614220059477e-05, 'epoch': 2.18}\n"
     ]
    },
    {
     "name": "stderr",
     "output_type": "stream",
     "text": [
      " 73%|███████▎  | 43500/59184 [2:20:17<49:44,  5.26it/s]  "
     ]
    },
    {
     "name": "stdout",
     "output_type": "stream",
     "text": [
      "{'loss': 0.4173, 'learning_rate': 1.3250202757502028e-05, 'epoch': 2.2}\n"
     ]
    },
    {
     "name": "stderr",
     "output_type": "stream",
     "text": [
      " 74%|███████▍  | 44000/59184 [2:21:55<48:10,  5.25it/s]  "
     ]
    },
    {
     "name": "stdout",
     "output_type": "stream",
     "text": [
      "{'loss': 0.4123, 'learning_rate': 1.282779129494458e-05, 'epoch': 2.23}\n"
     ]
    },
    {
     "name": "stderr",
     "output_type": "stream",
     "text": [
      " 75%|███████▌  | 44500/59184 [2:23:32<46:35,  5.25it/s]  "
     ]
    },
    {
     "name": "stdout",
     "output_type": "stream",
     "text": [
      "{'loss': 0.415, 'learning_rate': 1.2405379832387132e-05, 'epoch': 2.26}\n"
     ]
    },
    {
     "name": "stderr",
     "output_type": "stream",
     "text": [
      " 76%|███████▌  | 45000/59184 [2:25:08<45:05,  5.24it/s]  "
     ]
    },
    {
     "name": "stdout",
     "output_type": "stream",
     "text": [
      "{'loss': 0.4371, 'learning_rate': 1.1982968369829685e-05, 'epoch': 2.28}\n"
     ]
    },
    {
     "name": "stderr",
     "output_type": "stream",
     "text": [
      " 77%|███████▋  | 45500/59184 [2:26:45<43:18,  5.27it/s]  "
     ]
    },
    {
     "name": "stdout",
     "output_type": "stream",
     "text": [
      "{'loss': 0.3968, 'learning_rate': 1.1560556907272237e-05, 'epoch': 2.31}\n"
     ]
    },
    {
     "name": "stderr",
     "output_type": "stream",
     "text": [
      " 78%|███████▊  | 46000/59184 [2:28:21<41:48,  5.26it/s]  "
     ]
    },
    {
     "name": "stdout",
     "output_type": "stream",
     "text": [
      "{'loss': 0.4116, 'learning_rate': 1.1138145444714788e-05, 'epoch': 2.33}\n"
     ]
    },
    {
     "name": "stderr",
     "output_type": "stream",
     "text": [
      " 79%|███████▊  | 46500/59184 [2:29:57<40:09,  5.26it/s]  "
     ]
    },
    {
     "name": "stdout",
     "output_type": "stream",
     "text": [
      "{'loss': 0.4005, 'learning_rate': 1.071573398215734e-05, 'epoch': 2.36}\n"
     ]
    },
    {
     "name": "stderr",
     "output_type": "stream",
     "text": [
      " 79%|███████▉  | 47000/59184 [2:31:33<38:36,  5.26it/s]  "
     ]
    },
    {
     "name": "stdout",
     "output_type": "stream",
     "text": [
      "{'loss': 0.4263, 'learning_rate': 1.0293322519599892e-05, 'epoch': 2.38}\n"
     ]
    },
    {
     "name": "stderr",
     "output_type": "stream",
     "text": [
      " 80%|████████  | 47500/59184 [2:33:10<36:56,  5.27it/s]  "
     ]
    },
    {
     "name": "stdout",
     "output_type": "stream",
     "text": [
      "{'loss': 0.4263, 'learning_rate': 9.870911057042444e-06, 'epoch': 2.41}\n"
     ]
    },
    {
     "name": "stderr",
     "output_type": "stream",
     "text": [
      " 81%|████████  | 48000/59184 [2:34:46<35:25,  5.26it/s]  "
     ]
    },
    {
     "name": "stdout",
     "output_type": "stream",
     "text": [
      "{'loss': 0.4419, 'learning_rate': 9.448499594484997e-06, 'epoch': 2.43}\n"
     ]
    },
    {
     "name": "stderr",
     "output_type": "stream",
     "text": [
      " 82%|████████▏ | 48500/59184 [2:36:23<33:47,  5.27it/s]  "
     ]
    },
    {
     "name": "stdout",
     "output_type": "stream",
     "text": [
      "{'loss': 0.4153, 'learning_rate': 9.026088131927549e-06, 'epoch': 2.46}\n"
     ]
    },
    {
     "name": "stderr",
     "output_type": "stream",
     "text": [
      " 83%|████████▎ | 49000/59184 [2:37:59<32:16,  5.26it/s]  "
     ]
    },
    {
     "name": "stdout",
     "output_type": "stream",
     "text": [
      "{'loss': 0.416, 'learning_rate': 8.6036766693701e-06, 'epoch': 2.48}\n"
     ]
    },
    {
     "name": "stderr",
     "output_type": "stream",
     "text": [
      " 84%|████████▎ | 49500/59184 [2:39:35<30:43,  5.25it/s]  "
     ]
    },
    {
     "name": "stdout",
     "output_type": "stream",
     "text": [
      "{'loss': 0.4287, 'learning_rate': 8.181265206812652e-06, 'epoch': 2.51}\n"
     ]
    },
    {
     "name": "stderr",
     "output_type": "stream",
     "text": [
      " 84%|████████▍ | 50000/59184 [2:41:11<29:04,  5.26it/s]  "
     ]
    },
    {
     "name": "stdout",
     "output_type": "stream",
     "text": [
      "{'loss': 0.4135, 'learning_rate': 7.758853744255204e-06, 'epoch': 2.53}\n"
     ]
    },
    {
     "name": "stderr",
     "output_type": "stream",
     "text": [
      " 85%|████████▌ | 50500/59184 [2:42:47<27:29,  5.27it/s]  "
     ]
    },
    {
     "name": "stdout",
     "output_type": "stream",
     "text": [
      "{'loss': 0.4122, 'learning_rate': 7.336442281697757e-06, 'epoch': 2.56}\n"
     ]
    },
    {
     "name": "stderr",
     "output_type": "stream",
     "text": [
      " 86%|████████▌ | 51000/59184 [2:44:24<26:16,  5.19it/s]  "
     ]
    },
    {
     "name": "stdout",
     "output_type": "stream",
     "text": [
      "{'loss': 0.4398, 'learning_rate': 6.914030819140309e-06, 'epoch': 2.59}\n"
     ]
    },
    {
     "name": "stderr",
     "output_type": "stream",
     "text": [
      " 87%|████████▋ | 51500/59184 [2:46:00<24:18,  5.27it/s]  "
     ]
    },
    {
     "name": "stdout",
     "output_type": "stream",
     "text": [
      "{'loss': 0.4033, 'learning_rate': 6.4916193565828605e-06, 'epoch': 2.61}\n"
     ]
    },
    {
     "name": "stderr",
     "output_type": "stream",
     "text": [
      " 88%|████████▊ | 52000/59184 [2:47:36<22:45,  5.26it/s]  "
     ]
    },
    {
     "name": "stdout",
     "output_type": "stream",
     "text": [
      "{'loss': 0.3984, 'learning_rate': 6.069207894025412e-06, 'epoch': 2.64}\n"
     ]
    },
    {
     "name": "stderr",
     "output_type": "stream",
     "text": [
      " 89%|████████▊ | 52500/59184 [2:49:13<21:09,  5.26it/s]  "
     ]
    },
    {
     "name": "stdout",
     "output_type": "stream",
     "text": [
      "{'loss': 0.406, 'learning_rate': 5.646796431467965e-06, 'epoch': 2.66}\n"
     ]
    },
    {
     "name": "stderr",
     "output_type": "stream",
     "text": [
      " 90%|████████▉ | 53000/59184 [2:50:49<19:33,  5.27it/s]"
     ]
    },
    {
     "name": "stdout",
     "output_type": "stream",
     "text": [
      "{'loss': 0.4133, 'learning_rate': 5.224384968910516e-06, 'epoch': 2.69}\n"
     ]
    },
    {
     "name": "stderr",
     "output_type": "stream",
     "text": [
      " 90%|█████████ | 53500/59184 [2:52:25<18:00,  5.26it/s]"
     ]
    },
    {
     "name": "stdout",
     "output_type": "stream",
     "text": [
      "{'loss': 0.4278, 'learning_rate': 4.801973506353068e-06, 'epoch': 2.71}\n"
     ]
    },
    {
     "name": "stderr",
     "output_type": "stream",
     "text": [
      " 91%|█████████ | 54000/59184 [2:54:01<16:26,  5.26it/s]"
     ]
    },
    {
     "name": "stdout",
     "output_type": "stream",
     "text": [
      "{'loss': 0.4082, 'learning_rate': 4.379562043795621e-06, 'epoch': 2.74}\n"
     ]
    },
    {
     "name": "stderr",
     "output_type": "stream",
     "text": [
      " 92%|█████████▏| 54500/59184 [2:55:37<14:47,  5.28it/s]"
     ]
    },
    {
     "name": "stdout",
     "output_type": "stream",
     "text": [
      "{'loss': 0.4081, 'learning_rate': 3.957150581238172e-06, 'epoch': 2.76}\n"
     ]
    },
    {
     "name": "stderr",
     "output_type": "stream",
     "text": [
      " 93%|█████████▎| 55000/59184 [2:57:13<13:15,  5.26it/s]"
     ]
    },
    {
     "name": "stdout",
     "output_type": "stream",
     "text": [
      "{'loss': 0.4179, 'learning_rate': 3.5347391186807244e-06, 'epoch': 2.79}\n"
     ]
    },
    {
     "name": "stderr",
     "output_type": "stream",
     "text": [
      " 94%|█████████▍| 55500/59184 [2:58:49<11:40,  5.26it/s]"
     ]
    },
    {
     "name": "stdout",
     "output_type": "stream",
     "text": [
      "{'loss': 0.4045, 'learning_rate': 3.112327656123277e-06, 'epoch': 2.81}\n"
     ]
    },
    {
     "name": "stderr",
     "output_type": "stream",
     "text": [
      " 95%|█████████▍| 56000/59184 [3:00:26<10:04,  5.27it/s]"
     ]
    },
    {
     "name": "stdout",
     "output_type": "stream",
     "text": [
      "{'loss': 0.4433, 'learning_rate': 2.6899161935658286e-06, 'epoch': 2.84}\n"
     ]
    },
    {
     "name": "stderr",
     "output_type": "stream",
     "text": [
      " 95%|█████████▌| 56500/59184 [3:02:02<08:30,  5.26it/s]"
     ]
    },
    {
     "name": "stdout",
     "output_type": "stream",
     "text": [
      "{'loss': 0.3867, 'learning_rate': 2.2675047310083808e-06, 'epoch': 2.86}\n"
     ]
    },
    {
     "name": "stderr",
     "output_type": "stream",
     "text": [
      " 96%|█████████▋| 57000/59184 [3:03:38<06:54,  5.26it/s]"
     ]
    },
    {
     "name": "stdout",
     "output_type": "stream",
     "text": [
      "{'loss': 0.4223, 'learning_rate': 1.8450932684509329e-06, 'epoch': 2.89}\n"
     ]
    },
    {
     "name": "stderr",
     "output_type": "stream",
     "text": [
      " 97%|█████████▋| 57500/59184 [3:05:14<05:20,  5.26it/s]"
     ]
    },
    {
     "name": "stdout",
     "output_type": "stream",
     "text": [
      "{'loss': 0.3915, 'learning_rate': 1.4226818058934848e-06, 'epoch': 2.91}\n"
     ]
    },
    {
     "name": "stderr",
     "output_type": "stream",
     "text": [
      " 98%|█████████▊| 58000/59184 [3:06:51<03:54,  5.05it/s]"
     ]
    },
    {
     "name": "stdout",
     "output_type": "stream",
     "text": [
      "{'loss': 0.43, 'learning_rate': 1.0002703433360369e-06, 'epoch': 2.94}\n"
     ]
    },
    {
     "name": "stderr",
     "output_type": "stream",
     "text": [
      " 99%|█████████▉| 58500/59184 [3:08:29<02:11,  5.21it/s]"
     ]
    },
    {
     "name": "stdout",
     "output_type": "stream",
     "text": [
      "{'loss': 0.4166, 'learning_rate': 5.778588807785888e-07, 'epoch': 2.97}\n"
     ]
    },
    {
     "name": "stderr",
     "output_type": "stream",
     "text": [
      "100%|█████████▉| 59000/59184 [3:10:06<00:35,  5.23it/s]"
     ]
    },
    {
     "name": "stdout",
     "output_type": "stream",
     "text": [
      "{'loss': 0.4026, 'learning_rate': 1.5544741822114086e-07, 'epoch': 2.99}\n"
     ]
    },
    {
     "name": "stderr",
     "output_type": "stream",
     "text": [
      "100%|██████████| 59184/59184 [3:10:43<00:00,  5.17it/s]"
     ]
    },
    {
     "name": "stdout",
     "output_type": "stream",
     "text": [
      "{'train_runtime': 11443.3389, 'train_samples_per_second': 41.375, 'train_steps_per_second': 5.172, 'train_loss': 0.45992971671919913, 'epoch': 3.0}\n"
     ]
    },
    {
     "name": "stderr",
     "output_type": "stream",
     "text": [
      "\n"
     ]
    },
    {
     "data": {
      "text/plain": [
       "TrainOutput(global_step=59184, training_loss=0.45992971671919913, metrics={'train_runtime': 11443.3389, 'train_samples_per_second': 41.375, 'train_steps_per_second': 5.172, 'train_loss': 0.45992971671919913, 'epoch': 3.0})"
      ]
     },
     "execution_count": 36,
     "metadata": {},
     "output_type": "execute_result"
    }
   ],
   "source": [
    "### Entraînement\n",
    "\n",
    "!pip install accelerate\n",
    "!pip install transformers[torch]\n",
    "!pip install accelerate -U\n",
    "\n",
    "model = CamembertForSequenceClassification.from_pretrained(\"camembert-base\", num_labels=5)  ### 5 labels pour 5 étoiles\n",
    "\n",
    "### Arguments \n",
    "training_args = TrainingArguments(\n",
    "    output_dir=\"C:\\\\Users\\\\przyb\\\\OneDrive\\\\DataScientest\\\\Project\\\\results_CamemBert\",\n",
    "    per_device_train_batch_size=8,\n",
    "    num_train_epochs=3,\n",
    "    logging_dir='./logs',\n",
    ")\n",
    "\n",
    "### Création du trainer\n",
    "trainer = Trainer(\n",
    "    model=model,\n",
    "    args=training_args,\n",
    "    train_dataset=dataset,\n",
    ")\n",
    "\n",
    "### Entraînement\n",
    "trainer.train()\n"
   ]
  }
 ],
 "metadata": {
  "kernelspec": {
   "display_name": "Python 3 (ipykernel)",
   "language": "python",
   "name": "python3"
  },
  "language_info": {
   "codemirror_mode": {
    "name": "ipython",
    "version": 3
   },
   "file_extension": ".py",
   "mimetype": "text/x-python",
   "name": "python",
   "nbconvert_exporter": "python",
   "pygments_lexer": "ipython3",
   "version": "3.9.5"
  },
  "vscode": {
   "interpreter": {
    "hash": "aee8b7b246df8f9039afb4144a1f6fd8d2ca17a180786b69acc140d282b71a49"
   }
  }
 },
 "nbformat": 4,
 "nbformat_minor": 2
}
