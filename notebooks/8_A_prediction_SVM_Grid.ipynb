{
 "cells": [
  {
   "cell_type": "code",
   "execution_count": 1,
   "metadata": {},
   "outputs": [
    {
     "data": {
      "text/html": [
       "<div>\n",
       "<style scoped>\n",
       "    .dataframe tbody tr th:only-of-type {\n",
       "        vertical-align: middle;\n",
       "    }\n",
       "\n",
       "    .dataframe tbody tr th {\n",
       "        vertical-align: top;\n",
       "    }\n",
       "\n",
       "    .dataframe thead th {\n",
       "        text-align: right;\n",
       "    }\n",
       "</style>\n",
       "<table border=\"1\" class=\"dataframe\">\n",
       "  <thead>\n",
       "    <tr style=\"text-align: right;\">\n",
       "      <th></th>\n",
       "      <th>n_avis</th>\n",
       "      <th>sentiment_norm</th>\n",
       "      <th>longueur_texte</th>\n",
       "    </tr>\n",
       "  </thead>\n",
       "  <tbody>\n",
       "    <tr>\n",
       "      <th>5529</th>\n",
       "      <td>1.0</td>\n",
       "      <td>0.727087</td>\n",
       "      <td>95</td>\n",
       "    </tr>\n",
       "    <tr>\n",
       "      <th>57109</th>\n",
       "      <td>1.0</td>\n",
       "      <td>-0.989352</td>\n",
       "      <td>73</td>\n",
       "    </tr>\n",
       "  </tbody>\n",
       "</table>\n",
       "</div>"
      ],
      "text/plain": [
       "       n_avis  sentiment_norm  longueur_texte\n",
       "5529      1.0        0.727087              95\n",
       "57109     1.0       -0.989352              73"
      ]
     },
     "execution_count": 1,
     "metadata": {},
     "output_type": "execute_result"
    }
   ],
   "source": [
    "import pandas as pd\n",
    "import numpy as np\n",
    "from sklearn import svm\n",
    "from sklearn.model_selection import train_test_split\n",
    "from sklearn.metrics import make_scorer, classification_report, make_scorer, recall_score, f1_score\n",
    "from sklearn.feature_extraction.text import TfidfVectorizer\n",
    "from sklearn.model_selection import GridSearchCV \n",
    "import time\n",
    "\n",
    "train = pd.read_csv(\"../data/avis/train_noYC_lemma_sent_equil.csv\", index_col=0)\n",
    "y_train = train.etoiles\n",
    "X_train = train.drop(\"etoiles\", axis = 1)\n",
    "X_train = X_train[['n_avis','sentiment_norm','longueur_texte']]\n",
    "\n",
    "test = pd.read_csv('../data/avis/test_noYC_lemma_sent_equil.csv')\n",
    "y_test = test['etoiles']\n",
    "X_test = test.drop(\"etoiles\", axis =1)\n",
    "X_test = X_test[['n_avis','sentiment_norm','longueur_texte']]\n",
    "\n",
    "X_train.head(2)"
   ]
  },
  {
   "cell_type": "code",
   "execution_count": 15,
   "metadata": {},
   "outputs": [],
   "source": [
    "# Fonctions de vectorisation et de reporting\n",
    "def model_report(model):\n",
    "    score = round(model.score(X_test, y_test),2)\n",
    "    print(\"train score: \", score)\n",
    "    y_pred = model.predict(X_test)\n",
    "    print(pd.crosstab(y_test, y_pred))\n",
    "    print(classification_report(y_test, y_pred))\n",
    "    return(score)\n",
    "def review_vector(df):\n",
    "    tfidf_vectorizer = TfidfVectorizer(max_features=1000)  # 1000 pour garder l'essentiel, plus?\n",
    "    vec_text = tfidf_vectorizer.fit_transform(df['text_lemma'])\n",
    "    print(vec_text[0:5])\n",
    "    # liste des variables à ajouter\n",
    "    df = df.drop(\"text_lemma\")\n",
    "    # Ajouter les variables en format dense, comme le texte vectorisé\n",
    "    df_tf = hstack([vec_text, csr_matrix(df)])\n",
    "    from scipy.sparse import csr_matrix, hstack\n",
    "    return df_tf"
   ]
  },
  {
   "attachments": {},
   "cell_type": "markdown",
   "metadata": {},
   "source": [
    "# 0 Modelisation de base n_avis, length"
   ]
  },
  {
   "attachments": {},
   "cell_type": "markdown",
   "metadata": {},
   "source": [
    "# 1. modelisation n avis, sentiment, longeur txt"
   ]
  },
  {
   "cell_type": "code",
   "execution_count": 16,
   "metadata": {},
   "outputs": [
    {
     "name": "stdout",
     "output_type": "stream",
     "text": [
      "train score:  0.32\n",
      "col_0      1   2   3   4    5\n",
      "etoiles                      \n",
      "1        281  86  78  26   91\n",
      "2        228  86  82  31  135\n",
      "3        192  33  76  27  234\n",
      "4         62   6  65  24  405\n",
      "5         50   7  54  25  426\n",
      "              precision    recall  f1-score   support\n",
      "\n",
      "           1       0.35      0.50      0.41       562\n",
      "           2       0.39      0.15      0.22       562\n",
      "           3       0.21      0.14      0.17       562\n",
      "           4       0.18      0.04      0.07       562\n",
      "           5       0.33      0.76      0.46       562\n",
      "\n",
      "    accuracy                           0.32      2810\n",
      "   macro avg       0.29      0.32      0.26      2810\n",
      "weighted avg       0.29      0.32      0.26      2810\n",
      "\n"
     ]
    }
   ],
   "source": [
    "#X_train, X_test, y_train, y_test = train_test_split(features, target)\n",
    "model = svm.SVC()\n",
    "t0 = time()\n",
    "model.fit(X_train, y_train)\n",
    "score_sent_svm = model_report(model)"
   ]
  },
  {
   "attachments": {},
   "cell_type": "markdown",
   "metadata": {},
   "source": [
    "# 2. Grid SVM n_avis, sentiment, txt length"
   ]
  },
  {
   "cell_type": "code",
   "execution_count": 17,
   "metadata": {},
   "outputs": [
    {
     "name": "stdout",
     "output_type": "stream",
     "text": [
      "Fitting 5 folds for each of 25 candidates, totalling 125 fits\n",
      "[CV 1/5] END ........C=0.1, gamma=1, kernel=rbf;, score=0.316 total time=   4.2s\n",
      "[CV 2/5] END ........C=0.1, gamma=1, kernel=rbf;, score=0.302 total time=   4.2s\n",
      "[CV 3/5] END ........C=0.1, gamma=1, kernel=rbf;, score=0.298 total time=   4.3s\n",
      "[CV 4/5] END ........C=0.1, gamma=1, kernel=rbf;, score=0.306 total time=   4.4s\n",
      "[CV 5/5] END ........C=0.1, gamma=1, kernel=rbf;, score=0.304 total time=   4.3s\n",
      "[CV 1/5] END ......C=0.1, gamma=0.1, kernel=rbf;, score=0.364 total time=   4.7s\n",
      "[CV 2/5] END ......C=0.1, gamma=0.1, kernel=rbf;, score=0.343 total time=   4.9s\n",
      "[CV 3/5] END ......C=0.1, gamma=0.1, kernel=rbf;, score=0.332 total time=   4.7s\n",
      "[CV 4/5] END ......C=0.1, gamma=0.1, kernel=rbf;, score=0.358 total time=   4.9s\n",
      "[CV 5/5] END ......C=0.1, gamma=0.1, kernel=rbf;, score=0.347 total time=   5.0s\n",
      "[CV 1/5] END .....C=0.1, gamma=0.01, kernel=rbf;, score=0.361 total time=   5.2s\n",
      "[CV 2/5] END .....C=0.1, gamma=0.01, kernel=rbf;, score=0.344 total time=   5.0s\n",
      "[CV 3/5] END .....C=0.1, gamma=0.01, kernel=rbf;, score=0.336 total time=   5.0s\n",
      "[CV 4/5] END .....C=0.1, gamma=0.01, kernel=rbf;, score=0.346 total time=   5.1s\n",
      "[CV 5/5] END .....C=0.1, gamma=0.01, kernel=rbf;, score=0.347 total time=   5.0s\n",
      "[CV 1/5] END ....C=0.1, gamma=0.001, kernel=rbf;, score=0.331 total time=   4.7s\n",
      "[CV 2/5] END ....C=0.1, gamma=0.001, kernel=rbf;, score=0.340 total time=   4.8s\n",
      "[CV 3/5] END ....C=0.1, gamma=0.001, kernel=rbf;, score=0.331 total time=   4.6s\n",
      "[CV 4/5] END ....C=0.1, gamma=0.001, kernel=rbf;, score=0.333 total time=   5.2s\n",
      "[CV 5/5] END ....C=0.1, gamma=0.001, kernel=rbf;, score=0.346 total time=   5.4s\n",
      "[CV 1/5] END ...C=0.1, gamma=0.0001, kernel=rbf;, score=0.322 total time=   5.2s\n",
      "[CV 2/5] END ...C=0.1, gamma=0.0001, kernel=rbf;, score=0.332 total time=   5.1s\n",
      "[CV 3/5] END ...C=0.1, gamma=0.0001, kernel=rbf;, score=0.325 total time=   5.1s\n",
      "[CV 4/5] END ...C=0.1, gamma=0.0001, kernel=rbf;, score=0.319 total time=   5.2s\n",
      "[CV 5/5] END ...C=0.1, gamma=0.0001, kernel=rbf;, score=0.343 total time=   5.1s\n",
      "[CV 1/5] END ..........C=1, gamma=1, kernel=rbf;, score=0.339 total time=   5.2s\n",
      "[CV 2/5] END ..........C=1, gamma=1, kernel=rbf;, score=0.354 total time=   5.1s\n",
      "[CV 3/5] END ..........C=1, gamma=1, kernel=rbf;, score=0.336 total time=   5.0s\n",
      "[CV 4/5] END ..........C=1, gamma=1, kernel=rbf;, score=0.348 total time=   4.9s\n",
      "[CV 5/5] END ..........C=1, gamma=1, kernel=rbf;, score=0.344 total time=   4.8s\n",
      "[CV 1/5] END ........C=1, gamma=0.1, kernel=rbf;, score=0.355 total time=   5.1s\n",
      "[CV 2/5] END ........C=1, gamma=0.1, kernel=rbf;, score=0.363 total time=   5.1s\n",
      "[CV 3/5] END ........C=1, gamma=0.1, kernel=rbf;, score=0.349 total time=   5.1s\n",
      "[CV 4/5] END ........C=1, gamma=0.1, kernel=rbf;, score=0.359 total time=   5.0s\n",
      "[CV 5/5] END ........C=1, gamma=0.1, kernel=rbf;, score=0.345 total time=   4.9s\n",
      "[CV 1/5] END .......C=1, gamma=0.01, kernel=rbf;, score=0.360 total time=   5.2s\n",
      "[CV 2/5] END .......C=1, gamma=0.01, kernel=rbf;, score=0.353 total time=   5.5s\n",
      "[CV 3/5] END .......C=1, gamma=0.01, kernel=rbf;, score=0.344 total time=   5.4s\n",
      "[CV 4/5] END .......C=1, gamma=0.01, kernel=rbf;, score=0.347 total time=   5.3s\n",
      "[CV 5/5] END .......C=1, gamma=0.01, kernel=rbf;, score=0.353 total time=   5.5s\n",
      "[CV 1/5] END ......C=1, gamma=0.001, kernel=rbf;, score=0.351 total time=   5.5s\n",
      "[CV 2/5] END ......C=1, gamma=0.001, kernel=rbf;, score=0.346 total time=   5.5s\n",
      "[CV 3/5] END ......C=1, gamma=0.001, kernel=rbf;, score=0.331 total time=   5.3s\n",
      "[CV 4/5] END ......C=1, gamma=0.001, kernel=rbf;, score=0.332 total time=   5.4s\n",
      "[CV 5/5] END ......C=1, gamma=0.001, kernel=rbf;, score=0.354 total time=   5.6s\n",
      "[CV 1/5] END .....C=1, gamma=0.0001, kernel=rbf;, score=0.326 total time=   5.5s\n",
      "[CV 2/5] END .....C=1, gamma=0.0001, kernel=rbf;, score=0.334 total time=   5.7s\n",
      "[CV 3/5] END .....C=1, gamma=0.0001, kernel=rbf;, score=0.331 total time=   5.4s\n",
      "[CV 4/5] END .....C=1, gamma=0.0001, kernel=rbf;, score=0.323 total time=   5.5s\n",
      "[CV 5/5] END .....C=1, gamma=0.0001, kernel=rbf;, score=0.345 total time=   5.3s\n",
      "[CV 1/5] END .........C=10, gamma=1, kernel=rbf;, score=0.332 total time=   5.0s\n",
      "[CV 2/5] END .........C=10, gamma=1, kernel=rbf;, score=0.353 total time=   4.9s\n",
      "[CV 3/5] END .........C=10, gamma=1, kernel=rbf;, score=0.338 total time=   5.0s\n",
      "[CV 4/5] END .........C=10, gamma=1, kernel=rbf;, score=0.345 total time=   5.1s\n",
      "[CV 5/5] END .........C=10, gamma=1, kernel=rbf;, score=0.346 total time=   5.1s\n",
      "[CV 1/5] END .......C=10, gamma=0.1, kernel=rbf;, score=0.350 total time=   6.1s\n",
      "[CV 2/5] END .......C=10, gamma=0.1, kernel=rbf;, score=0.344 total time=   6.0s\n",
      "[CV 3/5] END .......C=10, gamma=0.1, kernel=rbf;, score=0.331 total time=   6.1s\n",
      "[CV 4/5] END .......C=10, gamma=0.1, kernel=rbf;, score=0.344 total time=   5.9s\n",
      "[CV 5/5] END .......C=10, gamma=0.1, kernel=rbf;, score=0.335 total time=   5.9s\n",
      "[CV 1/5] END ......C=10, gamma=0.01, kernel=rbf;, score=0.357 total time=   6.7s\n",
      "[CV 2/5] END ......C=10, gamma=0.01, kernel=rbf;, score=0.356 total time=   7.3s\n",
      "[CV 3/5] END ......C=10, gamma=0.01, kernel=rbf;, score=0.348 total time=   6.9s\n",
      "[CV 4/5] END ......C=10, gamma=0.01, kernel=rbf;, score=0.358 total time=   7.0s\n",
      "[CV 5/5] END ......C=10, gamma=0.01, kernel=rbf;, score=0.344 total time=   7.0s\n",
      "[CV 1/5] END .....C=10, gamma=0.001, kernel=rbf;, score=0.346 total time=   8.8s\n",
      "[CV 2/5] END .....C=10, gamma=0.001, kernel=rbf;, score=0.336 total time=   8.2s\n",
      "[CV 3/5] END .....C=10, gamma=0.001, kernel=rbf;, score=0.334 total time=   7.7s\n",
      "[CV 4/5] END .....C=10, gamma=0.001, kernel=rbf;, score=0.338 total time=   7.7s\n",
      "[CV 5/5] END .....C=10, gamma=0.001, kernel=rbf;, score=0.337 total time=   8.2s\n",
      "[CV 1/5] END ....C=10, gamma=0.0001, kernel=rbf;, score=0.329 total time=   8.1s\n",
      "[CV 2/5] END ....C=10, gamma=0.0001, kernel=rbf;, score=0.340 total time=   7.6s\n",
      "[CV 3/5] END ....C=10, gamma=0.0001, kernel=rbf;, score=0.331 total time=   7.6s\n",
      "[CV 4/5] END ....C=10, gamma=0.0001, kernel=rbf;, score=0.324 total time=   7.6s\n",
      "[CV 5/5] END ....C=10, gamma=0.0001, kernel=rbf;, score=0.346 total time=   7.5s\n",
      "[CV 1/5] END ........C=100, gamma=1, kernel=rbf;, score=0.334 total time=   5.0s\n",
      "[CV 2/5] END ........C=100, gamma=1, kernel=rbf;, score=0.347 total time=   5.1s\n",
      "[CV 3/5] END ........C=100, gamma=1, kernel=rbf;, score=0.334 total time=   5.3s\n",
      "[CV 4/5] END ........C=100, gamma=1, kernel=rbf;, score=0.344 total time=   5.5s\n",
      "[CV 5/5] END ........C=100, gamma=1, kernel=rbf;, score=0.343 total time=   5.4s\n",
      "[CV 1/5] END ......C=100, gamma=0.1, kernel=rbf;, score=0.330 total time=  11.5s\n",
      "[CV 2/5] END ......C=100, gamma=0.1, kernel=rbf;, score=0.336 total time=  12.7s\n",
      "[CV 3/5] END ......C=100, gamma=0.1, kernel=rbf;, score=0.316 total time=  10.7s\n",
      "[CV 4/5] END ......C=100, gamma=0.1, kernel=rbf;, score=0.343 total time=  12.0s\n",
      "[CV 5/5] END ......C=100, gamma=0.1, kernel=rbf;, score=0.332 total time=  11.8s\n",
      "[CV 1/5] END .....C=100, gamma=0.01, kernel=rbf;, score=0.361 total time=  16.7s\n",
      "[CV 2/5] END .....C=100, gamma=0.01, kernel=rbf;, score=0.354 total time=  16.7s\n",
      "[CV 3/5] END .....C=100, gamma=0.01, kernel=rbf;, score=0.336 total time=  16.1s\n",
      "[CV 4/5] END .....C=100, gamma=0.01, kernel=rbf;, score=0.346 total time=  16.6s\n",
      "[CV 5/5] END .....C=100, gamma=0.01, kernel=rbf;, score=0.335 total time=  16.4s\n",
      "[CV 1/5] END ....C=100, gamma=0.001, kernel=rbf;, score=0.354 total time=  21.3s\n",
      "[CV 2/5] END ....C=100, gamma=0.001, kernel=rbf;, score=0.343 total time=  18.4s\n",
      "[CV 3/5] END ....C=100, gamma=0.001, kernel=rbf;, score=0.327 total time=  18.6s\n",
      "[CV 4/5] END ....C=100, gamma=0.001, kernel=rbf;, score=0.339 total time=  18.8s\n",
      "[CV 5/5] END ....C=100, gamma=0.001, kernel=rbf;, score=0.336 total time=  18.6s\n",
      "[CV 1/5] END ...C=100, gamma=0.0001, kernel=rbf;, score=0.336 total time=  22.2s\n",
      "[CV 2/5] END ...C=100, gamma=0.0001, kernel=rbf;, score=0.341 total time=  18.2s\n",
      "[CV 3/5] END ...C=100, gamma=0.0001, kernel=rbf;, score=0.332 total time=  19.4s\n",
      "[CV 4/5] END ...C=100, gamma=0.0001, kernel=rbf;, score=0.335 total time=  18.7s\n",
      "[CV 5/5] END ...C=100, gamma=0.0001, kernel=rbf;, score=0.335 total time=  17.9s\n",
      "[CV 1/5] END .......C=1000, gamma=1, kernel=rbf;, score=0.336 total time=   5.9s\n",
      "[CV 2/5] END .......C=1000, gamma=1, kernel=rbf;, score=0.349 total time=   5.7s\n",
      "[CV 3/5] END .......C=1000, gamma=1, kernel=rbf;, score=0.328 total time=   6.0s\n",
      "[CV 4/5] END .......C=1000, gamma=1, kernel=rbf;, score=0.333 total time=   6.0s\n",
      "[CV 5/5] END .......C=1000, gamma=1, kernel=rbf;, score=0.341 total time=   5.7s\n",
      "[CV 1/5] END .....C=1000, gamma=0.1, kernel=rbf;, score=0.327 total time=  35.1s\n",
      "[CV 2/5] END .....C=1000, gamma=0.1, kernel=rbf;, score=0.334 total time=  53.6s\n",
      "[CV 3/5] END .....C=1000, gamma=0.1, kernel=rbf;, score=0.315 total time=  43.4s\n"
     ]
    }
   ],
   "source": [
    "# definir des hyper paramètres à tester\n",
    "param_grid = {'C': [0.1, 1, 10, 100, 1000],  \n",
    "              'gamma': [1, 0.1, 0.01, 0.001, 0.0001], \n",
    "              'kernel': ['rbf']} \n",
    "\n",
    "# tester les différents paramètres\n",
    "grid = GridSearchCV(svm.SVC(), param_grid, refit = True, verbose = 3)\n",
    "grid.fit(X_train, y_train)\n",
    "print(\"best parameters\", grid.best_params_)\n",
    "print(\"score avec les meilleurs paramètres\",round(grid.score(X_test, y_test),2))\n",
    "score_grid_svm = model_report(grid)"
   ]
  },
  {
   "attachments": {},
   "cell_type": "markdown",
   "metadata": {},
   "source": [
    "# 3. Grid SVM: text TFIDF, n_avis, sent, length"
   ]
  },
  {
   "cell_type": "code",
   "execution_count": 23,
   "metadata": {},
   "outputs": [],
   "source": [
    "# Vectorization des avis lémmatisés\n",
    "X_train = review_vector(train)\n",
    "X_test = review_vector(test)\n",
    "# definir des hyper paramètres à tester\n",
    "param_grid = {'C': [0.1, 1, 10, 100, 1000],  \n",
    "              'gamma': [1, 0.1, 0.01, 0.001, 0.0001], \n",
    "              'kernel': ['rbf']} \n",
    "\n",
    "# tester les différents paramètres\n",
    "grid = GridSearchCV(model, param_grid, refit = True, verbose = 3)\n",
    "grid.fit(X_train, y_train)\n",
    "# reporting\n",
    "score_tfidf_grid_svm = model_report(grid)"
   ]
  },
  {
   "attachments": {},
   "cell_type": "markdown",
   "metadata": {},
   "source": [
    "# Recap"
   ]
  },
  {
   "cell_type": "code",
   "execution_count": null,
   "metadata": {},
   "outputs": [
    {
     "ename": "NameError",
     "evalue": "name 'score_tfidf_grid_svm' is not defined",
     "output_type": "error",
     "traceback": [
      "\u001b[0;31m---------------------------------------------------------------------------\u001b[0m",
      "\u001b[0;31mNameError\u001b[0m                                 Traceback (most recent call last)",
      "Cell \u001b[0;32mIn[8], line 1\u001b[0m\n\u001b[0;32m----> 1\u001b[0m scores \u001b[39m=\u001b[39m [score_base_svm,score_sent_svm, score_grid_svm,score_tfidf_grid_svm]\n\u001b[1;32m      2\u001b[0m titles \u001b[39m=\u001b[39m [\u001b[39m\"\u001b[39m\u001b[39mlength only svm\u001b[39m\u001b[39m\"\u001b[39m, \u001b[39m\"\u001b[39m\u001b[39mlen + sentiment svm\u001b[39m\u001b[39m\"\u001b[39m,\u001b[39m\"\u001b[39m\u001b[39mlen + sent Grid svm\u001b[39m\u001b[39m\"\u001b[39m, \u001b[39m\"\u001b[39m\u001b[39mlen + sent + TFID + grid svm\u001b[39m\u001b[39m\"\u001b[39m]\n\u001b[1;32m      3\u001b[0m recap \u001b[39m=\u001b[39m pd\u001b[39m.\u001b[39mDataFrame({\u001b[39m\"\u001b[39m\u001b[39mtype de tests\u001b[39m\u001b[39m\"\u001b[39m: titles,\n\u001b[1;32m      4\u001b[0m                       \u001b[39m\"\u001b[39m\u001b[39mscores\u001b[39m\u001b[39m\"\u001b[39m: scores})\n",
      "\u001b[0;31mNameError\u001b[0m: name 'score_tfidf_grid_svm' is not defined"
     ]
    }
   ],
   "source": [
    "scores = [score_base_svm,score_sent_svm, score_grid_svm,score_tfidf_grid_svm]\n",
    "titles = [\"length only svm\", \"len + sentiment svm\",\"len + sent Grid svm\", \"len + sent + TFID + grid svm\"]\n",
    "recap = pd.DataFrame({\"type de tests\": titles,\n",
    "                      \"scores\": scores})\n",
    "\n",
    "recap"
   ]
  },
  {
   "attachments": {},
   "cell_type": "markdown",
   "metadata": {},
   "source": [
    "# to try\n",
    "Renforcer le benchmark\n",
    "- ~~Tester différents hyper paramètres avec une grid~~\n",
    "\n",
    "renforcer les features:\n",
    "- dates sous format jj/mm/yyyy ou autre (mois, jour de la semaine, jour/nuit)?\n",
    "- ~~nom de l'entreprise dichotomisé?~~\n",
    "Autre:\n",
    "- ~~concatener le titre et le texte?~~\n",
    "- ~~améliorer tfidf en enlevant les stopwords et en lemmatisant~~\n",
    "\n",
    "Questions :\n",
    "- Pourquoi est ce que la classification ne s'améliore pas en rajoutant le sentiment, ou les sentiment + tfidf, par rapport à l'entrainement sur la simple longueur du texte?"
   ]
  }
 ],
 "metadata": {
  "kernelspec": {
   "display_name": "Python 3",
   "language": "python",
   "name": "python3"
  },
  "language_info": {
   "codemirror_mode": {
    "name": "ipython",
    "version": 3
   },
   "file_extension": ".py",
   "mimetype": "text/x-python",
   "name": "python",
   "nbconvert_exporter": "python",
   "pygments_lexer": "ipython3",
   "version": "3.9.5"
  },
  "orig_nbformat": 4,
  "vscode": {
   "interpreter": {
    "hash": "aee8b7b246df8f9039afb4144a1f6fd8d2ca17a180786b69acc140d282b71a49"
   }
  }
 },
 "nbformat": 4,
 "nbformat_minor": 2
}
