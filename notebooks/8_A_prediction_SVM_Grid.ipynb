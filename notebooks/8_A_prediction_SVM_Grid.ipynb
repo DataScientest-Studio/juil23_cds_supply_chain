{
 "cells": [
  {
   "cell_type": "code",
   "execution_count": 1,
   "metadata": {},
   "outputs": [
    {
     "data": {
      "text/html": [
       "<div>\n",
       "<style scoped>\n",
       "    .dataframe tbody tr th:only-of-type {\n",
       "        vertical-align: middle;\n",
       "    }\n",
       "\n",
       "    .dataframe tbody tr th {\n",
       "        vertical-align: top;\n",
       "    }\n",
       "\n",
       "    .dataframe thead th {\n",
       "        text-align: right;\n",
       "    }\n",
       "</style>\n",
       "<table border=\"1\" class=\"dataframe\">\n",
       "  <thead>\n",
       "    <tr style=\"text-align: right;\">\n",
       "      <th></th>\n",
       "      <th>n_avis</th>\n",
       "      <th>sentiment_norm</th>\n",
       "      <th>longueur_texte</th>\n",
       "      <th>bank__01BanqueenLigne</th>\n",
       "      <th>bank__Anytime</th>\n",
       "      <th>bank__BforBank</th>\n",
       "      <th>bank__Blank</th>\n",
       "      <th>bank__BoursoBank</th>\n",
       "      <th>bank__BoursoramaBanque</th>\n",
       "      <th>bank__Btocadvice</th>\n",
       "      <th>...</th>\n",
       "      <th>bank__ZELF</th>\n",
       "      <th>bank__bcfinance.fr</th>\n",
       "      <th>bank__floapay.com</th>\n",
       "      <th>bank__franfinance.fr</th>\n",
       "      <th>bank__ips</th>\n",
       "      <th>bank__laNef</th>\n",
       "      <th>bank__manager.one</th>\n",
       "      <th>bank__moneywalkie.com</th>\n",
       "      <th>bank__propulsebyca.fr</th>\n",
       "      <th>bank__qui-est-la-banque-la-moins-chere.com</th>\n",
       "    </tr>\n",
       "  </thead>\n",
       "  <tbody>\n",
       "    <tr>\n",
       "      <th>5529</th>\n",
       "      <td>-0.426925</td>\n",
       "      <td>0.804014</td>\n",
       "      <td>-0.444335</td>\n",
       "      <td>0</td>\n",
       "      <td>0</td>\n",
       "      <td>0</td>\n",
       "      <td>0</td>\n",
       "      <td>0</td>\n",
       "      <td>0</td>\n",
       "      <td>0</td>\n",
       "      <td>...</td>\n",
       "      <td>0</td>\n",
       "      <td>0</td>\n",
       "      <td>0</td>\n",
       "      <td>0</td>\n",
       "      <td>0</td>\n",
       "      <td>0</td>\n",
       "      <td>0</td>\n",
       "      <td>0</td>\n",
       "      <td>0</td>\n",
       "      <td>0</td>\n",
       "    </tr>\n",
       "    <tr>\n",
       "      <th>57109</th>\n",
       "      <td>-0.426925</td>\n",
       "      <td>0.974431</td>\n",
       "      <td>-0.512719</td>\n",
       "      <td>0</td>\n",
       "      <td>0</td>\n",
       "      <td>0</td>\n",
       "      <td>0</td>\n",
       "      <td>0</td>\n",
       "      <td>0</td>\n",
       "      <td>0</td>\n",
       "      <td>...</td>\n",
       "      <td>0</td>\n",
       "      <td>0</td>\n",
       "      <td>0</td>\n",
       "      <td>0</td>\n",
       "      <td>0</td>\n",
       "      <td>0</td>\n",
       "      <td>0</td>\n",
       "      <td>0</td>\n",
       "      <td>0</td>\n",
       "      <td>0</td>\n",
       "    </tr>\n",
       "  </tbody>\n",
       "</table>\n",
       "<p>2 rows × 58 columns</p>\n",
       "</div>"
      ],
      "text/plain": [
       "         n_avis  sentiment_norm  longueur_texte  bank__01BanqueenLigne  \\\n",
       "5529  -0.426925        0.804014       -0.444335                      0   \n",
       "57109 -0.426925        0.974431       -0.512719                      0   \n",
       "\n",
       "       bank__Anytime  bank__BforBank  bank__Blank  bank__BoursoBank  \\\n",
       "5529               0               0            0                 0   \n",
       "57109              0               0            0                 0   \n",
       "\n",
       "       bank__BoursoramaBanque  bank__Btocadvice  ...  bank__ZELF  \\\n",
       "5529                        0                 0  ...           0   \n",
       "57109                       0                 0  ...           0   \n",
       "\n",
       "       bank__bcfinance.fr  bank__floapay.com  bank__franfinance.fr  bank__ips  \\\n",
       "5529                    0                  0                     0          0   \n",
       "57109                   0                  0                     0          0   \n",
       "\n",
       "       bank__laNef  bank__manager.one  bank__moneywalkie.com  \\\n",
       "5529             0                  0                      0   \n",
       "57109            0                  0                      0   \n",
       "\n",
       "       bank__propulsebyca.fr  bank__qui-est-la-banque-la-moins-chere.com  \n",
       "5529                       0                                           0  \n",
       "57109                      0                                           0  \n",
       "\n",
       "[2 rows x 58 columns]"
      ]
     },
     "execution_count": 1,
     "metadata": {},
     "output_type": "execute_result"
    }
   ],
   "source": [
    "import pandas as pd\n",
    "import numpy as np\n",
    "from sklearn import svm\n",
    "from sklearn.model_selection import train_test_split\n",
    "from sklearn.metrics import make_scorer, classification_report, make_scorer, recall_score, f1_score, accuracy_score, confusion_matrix\n",
    "from sklearn.feature_extraction.text import TfidfVectorizer\n",
    "from sklearn.model_selection import GridSearchCV \n",
    "import matplotlib.pyplot as plt\n",
    "import seaborn as sns\n",
    "import time\n",
    "# in house functions: \n",
    "%run 'DST_fun.ipynb' # model_report() and review_vector() \n",
    "\n",
    "train_df = pd.read_csv(\"../data/avis/train_noYC_lemma_sent_equil.csv\", index_col=0)\n",
    "feature_cols = ['n_avis','sentiment_norm','longueur_texte']+ [colname for colname in train_df.columns if \"bank_\" in colname] \n",
    "\n",
    "y_train = train_df.etoiles\n",
    "X_train = train_df.drop(\"etoiles\", axis = 1)\n",
    "X_train = train_df[feature_cols]\n",
    "\n",
    "test_df = pd.read_csv('../data/avis/test_noYC_lemma_sent_equil.csv', index_col=0)\n",
    "y_test = test_df['etoiles']\n",
    "X_test = test_df.drop(\"etoiles\", axis =1)\n",
    "X_test = test_df[feature_cols]\n",
    "\n",
    "model_name = \"SVC\"\n",
    "\n",
    "#train.head()\n",
    "X_train.head(2)"
   ]
  },
  {
   "attachments": {},
   "cell_type": "markdown",
   "metadata": {},
   "source": [
    "# 0 Modelisation de base n_avis, length"
   ]
  },
  {
   "attachments": {},
   "cell_type": "markdown",
   "metadata": {},
   "source": [
    "# 1. modelisation n avis, sentiment, longeur txt"
   ]
  },
  {
   "cell_type": "code",
   "execution_count": 2,
   "metadata": {},
   "outputs": [
    {
     "data": {
      "text/plain": [
       "'SVC'"
      ]
     },
     "execution_count": 2,
     "metadata": {},
     "output_type": "execute_result"
    }
   ],
   "source": [
    "model_name"
   ]
  },
  {
   "cell_type": "code",
   "execution_count": 3,
   "metadata": {},
   "outputs": [
    {
     "name": "stdout",
     "output_type": "stream",
     "text": [
      "train score:  0.5\n",
      "              precision    recall  f1-score   support\n",
      "\n",
      "           1       0.57      0.62      0.59       562\n",
      "           2       0.44      0.44      0.44       562\n",
      "           3       0.42      0.40      0.41       562\n",
      "           4       0.44      0.34      0.38       562\n",
      "           5       0.58      0.68      0.63       562\n",
      "\n",
      "    accuracy                           0.50      2810\n",
      "   macro avg       0.49      0.50      0.49      2810\n",
      "weighted avg       0.49      0.50      0.49      2810\n",
      "\n"
     ]
    },
    {
     "data": {
      "image/png": "[encoded data removed]",
      "text/plain": [
       "<Figure size 400x400 with 2 Axes>"
      ]
     },
     "metadata": {},
     "output_type": "display_data"
    },
    {
     "name": "stdout",
     "output_type": "stream",
     "text": [
      "creating new csv for SVC\n"
     ]
    }
   ],
   "source": [
    "test_name =f\"{model_name}- n_avis, sentiment, text length, companies\"\n",
    "model = svm.SVC(random_state = 7)\n",
    "t0 = time.time()\n",
    "model.fit(X_train, y_train)\n",
    "model_report(test_name, model_name)"
   ]
  },
  {
   "attachments": {},
   "cell_type": "markdown",
   "metadata": {},
   "source": [
    "# 2. Grid SVM n_avis, sentiment, txt length"
   ]
  },
  {
   "cell_type": "code",
   "execution_count": 4,
   "metadata": {},
   "outputs": [
    {
     "name": "stdout",
     "output_type": "stream",
     "text": [
      "Fitting 5 folds for each of 25 candidates, totalling 125 fits\n",
      "[CV 1/5] END ......C=0.1, gamma=0.1, kernel=rbf;, score=0.470 total time=  35.6s\n",
      "[CV 4/5] END ......C=0.1, gamma=0.1, kernel=rbf;, score=0.466 total time=  35.8s\n",
      "[CV 2/5] END ......C=0.1, gamma=0.1, kernel=rbf;, score=0.466 total time=  36.0s\n",
      "[CV 3/5] END ......C=0.1, gamma=0.1, kernel=rbf;, score=0.486 total time=  36.1s\n",
      "[CV 5/5] END ......C=0.1, gamma=0.1, kernel=rbf;, score=0.477 total time=  36.1s\n",
      "[CV 5/5] END ........C=0.1, gamma=1, kernel=rbf;, score=0.492 total time=  37.9s\n",
      "[CV 3/5] END ........C=0.1, gamma=1, kernel=rbf;, score=0.502 total time=  38.0s\n",
      "[CV 4/5] END ........C=0.1, gamma=1, kernel=rbf;, score=0.492 total time=  38.0s\n",
      "[CV 2/5] END ........C=0.1, gamma=1, kernel=rbf;, score=0.492 total time=  38.0s\n",
      "[CV 1/5] END ........C=0.1, gamma=1, kernel=rbf;, score=0.500 total time=  38.1s\n",
      "[CV 2/5] END .....C=0.1, gamma=0.01, kernel=rbf;, score=0.422 total time=  40.6s\n",
      "[CV 1/5] END .....C=0.1, gamma=0.01, kernel=rbf;, score=0.416 total time=  40.7s\n",
      "[CV 3/5] END .....C=0.1, gamma=0.01, kernel=rbf;, score=0.416 total time=  40.8s\n",
      "[CV 4/5] END .....C=0.1, gamma=0.01, kernel=rbf;, score=0.403 total time=  40.8s\n",
      "[CV 5/5] END .....C=0.1, gamma=0.01, kernel=rbf;, score=0.427 total time=  40.9s\n",
      "[CV 1/5] END ....C=0.1, gamma=0.001, kernel=rbf;, score=0.335 total time=  49.3s\n",
      "[CV 1/5] END ..........C=1, gamma=1, kernel=rbf;, score=0.517 total time=  35.8s\n",
      "[CV 1/5] END ........C=1, gamma=0.1, kernel=rbf;, score=0.497 total time=  33.9s\n",
      "[CV 3/5] END ..........C=1, gamma=1, kernel=rbf;, score=0.523 total time=  35.2s\n",
      "[CV 2/5] END ..........C=1, gamma=1, kernel=rbf;, score=0.514 total time=  35.6s\n",
      "[CV 4/5] END ..........C=1, gamma=1, kernel=rbf;, score=0.503 total time=  35.4s\n",
      "[CV 5/5] END ..........C=1, gamma=1, kernel=rbf;, score=0.510 total time=  35.3s\n",
      "[CV 2/5] END ........C=1, gamma=0.1, kernel=rbf;, score=0.493 total time=  32.8s\n",
      "[CV 2/5] END ....C=0.1, gamma=0.001, kernel=rbf;, score=0.312 total time=  54.0s\n",
      "[CV 3/5] END ....C=0.1, gamma=0.001, kernel=rbf;, score=0.344 total time=  54.5s\n",
      "[CV 5/5] END ....C=0.1, gamma=0.001, kernel=rbf;, score=0.328 total time=  54.6s\n",
      "[CV 4/5] END ....C=0.1, gamma=0.001, kernel=rbf;, score=0.336 total time=  54.8s\n",
      "[CV 1/5] END ...C=0.1, gamma=0.0001, kernel=rbf;, score=0.220 total time=  55.7s\n",
      "[CV 5/5] END ...C=0.1, gamma=0.0001, kernel=rbf;, score=0.238 total time=  56.5s\n",
      "[CV 3/5] END ...C=0.1, gamma=0.0001, kernel=rbf;, score=0.207 total time=  56.6s\n",
      "[CV 4/5] END ...C=0.1, gamma=0.0001, kernel=rbf;, score=0.214 total time=  56.6s\n",
      "[CV 2/5] END ...C=0.1, gamma=0.0001, kernel=rbf;, score=0.208 total time=  56.7s\n",
      "[CV 3/5] END ........C=1, gamma=0.1, kernel=rbf;, score=0.502 total time=  31.1s\n",
      "[CV 4/5] END ........C=1, gamma=0.1, kernel=rbf;, score=0.478 total time=  30.9s\n",
      "[CV 5/5] END ........C=1, gamma=0.1, kernel=rbf;, score=0.490 total time=  30.9s\n",
      "[CV 1/5] END .......C=1, gamma=0.01, kernel=rbf;, score=0.473 total time=  32.9s\n",
      "[CV 2/5] END .......C=1, gamma=0.01, kernel=rbf;, score=0.475 total time=  33.2s\n",
      "[CV 3/5] END .......C=1, gamma=0.01, kernel=rbf;, score=0.475 total time=  33.2s\n",
      "[CV 4/5] END .......C=1, gamma=0.01, kernel=rbf;, score=0.468 total time=  33.1s\n",
      "[CV 5/5] END .......C=1, gamma=0.01, kernel=rbf;, score=0.468 total time=  34.6s\n",
      "[CV 1/5] END ......C=1, gamma=0.001, kernel=rbf;, score=0.421 total time=  41.2s\n",
      "[CV 2/5] END ......C=1, gamma=0.001, kernel=rbf;, score=0.423 total time=  41.3s\n",
      "[CV 3/5] END ......C=1, gamma=0.001, kernel=rbf;, score=0.418 total time=  41.6s\n",
      "[CV 4/5] END ......C=1, gamma=0.001, kernel=rbf;, score=0.392 total time=  41.6s\n",
      "[CV 5/5] END ......C=1, gamma=0.001, kernel=rbf;, score=0.420 total time=  40.8s\n",
      "[CV 1/5] END .........C=10, gamma=1, kernel=rbf;, score=0.518 total time=  35.3s\n",
      "[CV 3/5] END .........C=10, gamma=1, kernel=rbf;, score=0.509 total time=  34.4s\n",
      "[CV 4/5] END .........C=10, gamma=1, kernel=rbf;, score=0.511 total time=  34.8s\n",
      "[CV 2/5] END .........C=10, gamma=1, kernel=rbf;, score=0.518 total time=  35.4s\n",
      "[CV 2/5] END .....C=1, gamma=0.0001, kernel=rbf;, score=0.310 total time=  54.5s\n",
      "[CV 1/5] END .....C=1, gamma=0.0001, kernel=rbf;, score=0.314 total time=  54.5s\n",
      "[CV 3/5] END .....C=1, gamma=0.0001, kernel=rbf;, score=0.344 total time=  54.5s\n",
      "[CV 5/5] END .........C=10, gamma=1, kernel=rbf;, score=0.506 total time=  34.0s\n",
      "[CV 1/5] END .......C=10, gamma=0.1, kernel=rbf;, score=0.515 total time=  31.6s\n",
      "[CV 4/5] END .....C=1, gamma=0.0001, kernel=rbf;, score=0.338 total time=  54.0s\n",
      "[CV 5/5] END .....C=1, gamma=0.0001, kernel=rbf;, score=0.323 total time=  53.5s\n",
      "[CV 2/5] END .......C=10, gamma=0.1, kernel=rbf;, score=0.511 total time=  31.6s\n",
      "[CV 3/5] END .......C=10, gamma=0.1, kernel=rbf;, score=0.514 total time=  31.8s\n",
      "[CV 4/5] END .......C=10, gamma=0.1, kernel=rbf;, score=0.504 total time=  32.3s\n",
      "[CV 5/5] END .......C=10, gamma=0.1, kernel=rbf;, score=0.500 total time=  32.0s\n",
      "[CV 1/5] END ......C=10, gamma=0.01, kernel=rbf;, score=0.482 total time=  31.3s\n",
      "[CV 2/5] END ......C=10, gamma=0.01, kernel=rbf;, score=0.481 total time=  32.3s\n",
      "[CV 3/5] END ......C=10, gamma=0.01, kernel=rbf;, score=0.483 total time=  32.4s\n",
      "[CV 4/5] END ......C=10, gamma=0.01, kernel=rbf;, score=0.467 total time=  32.6s\n",
      "[CV 5/5] END ......C=10, gamma=0.01, kernel=rbf;, score=0.476 total time=  32.8s\n",
      "[CV 3/5] END .....C=10, gamma=0.001, kernel=rbf;, score=0.476 total time=  34.7s\n",
      "[CV 1/5] END .....C=10, gamma=0.001, kernel=rbf;, score=0.467 total time=  34.9s\n",
      "[CV 2/5] END .....C=10, gamma=0.001, kernel=rbf;, score=0.479 total time=  34.9s\n",
      "[CV 4/5] END .....C=10, gamma=0.001, kernel=rbf;, score=0.474 total time=  34.4s\n",
      "[CV 5/5] END .....C=10, gamma=0.001, kernel=rbf;, score=0.467 total time=  34.6s\n",
      "[CV 1/5] END ....C=10, gamma=0.0001, kernel=rbf;, score=0.424 total time=  40.2s\n",
      "[CV 2/5] END ....C=10, gamma=0.0001, kernel=rbf;, score=0.422 total time=  40.3s\n",
      "[CV 3/5] END ....C=10, gamma=0.0001, kernel=rbf;, score=0.423 total time=  39.9s\n",
      "[CV 4/5] END ....C=10, gamma=0.0001, kernel=rbf;, score=0.393 total time=  39.9s\n",
      "[CV 5/5] END ....C=10, gamma=0.0001, kernel=rbf;, score=0.420 total time=  40.0s\n",
      "[CV 1/5] END ........C=100, gamma=1, kernel=rbf;, score=0.514 total time=  46.0s\n",
      "[CV 2/5] END ........C=100, gamma=1, kernel=rbf;, score=0.521 total time=  45.4s\n",
      "[CV 1/5] END ......C=100, gamma=0.1, kernel=rbf;, score=0.515 total time=  38.2s\n",
      "[CV 3/5] END ........C=100, gamma=1, kernel=rbf;, score=0.503 total time=  44.4s\n",
      "[CV 4/5] END ........C=100, gamma=1, kernel=rbf;, score=0.509 total time=  44.2s\n",
      "[CV 5/5] END ........C=100, gamma=1, kernel=rbf;, score=0.499 total time=  43.8s\n",
      "[CV 3/5] END ......C=100, gamma=0.1, kernel=rbf;, score=0.524 total time=  37.8s\n",
      "[CV 5/5] END ......C=100, gamma=0.1, kernel=rbf;, score=0.510 total time=  37.7s\n",
      "[CV 2/5] END ......C=100, gamma=0.1, kernel=rbf;, score=0.512 total time=  38.3s\n",
      "[CV 4/5] END ......C=100, gamma=0.1, kernel=rbf;, score=0.512 total time=  38.4s\n",
      "[CV 1/5] END .....C=100, gamma=0.01, kernel=rbf;, score=0.493 total time=  32.4s\n",
      "[CV 2/5] END .....C=100, gamma=0.01, kernel=rbf;, score=0.493 total time=  32.1s\n",
      "[CV 3/5] END .....C=100, gamma=0.01, kernel=rbf;, score=0.493 total time=  31.8s\n",
      "[CV 1/5] END ....C=100, gamma=0.001, kernel=rbf;, score=0.475 total time=  30.2s\n",
      "[CV 4/5] END .....C=100, gamma=0.01, kernel=rbf;, score=0.483 total time=  31.9s\n",
      "[CV 5/5] END .....C=100, gamma=0.01, kernel=rbf;, score=0.487 total time=  32.2s\n",
      "[CV 2/5] END ....C=100, gamma=0.001, kernel=rbf;, score=0.478 total time=  30.1s\n",
      "[CV 3/5] END ....C=100, gamma=0.001, kernel=rbf;, score=0.471 total time=  30.0s\n",
      "[CV 4/5] END ....C=100, gamma=0.001, kernel=rbf;, score=0.468 total time=  29.9s\n",
      "[CV 5/5] END ....C=100, gamma=0.001, kernel=rbf;, score=0.473 total time=  30.1s\n",
      "[CV 1/5] END ...C=100, gamma=0.0001, kernel=rbf;, score=0.468 total time=  30.5s\n",
      "[CV 2/5] END ...C=100, gamma=0.0001, kernel=rbf;, score=0.475 total time=  30.7s\n",
      "[CV 4/5] END ...C=100, gamma=0.0001, kernel=rbf;, score=0.476 total time=  29.9s\n",
      "[CV 3/5] END ...C=100, gamma=0.0001, kernel=rbf;, score=0.476 total time=  30.3s\n",
      "[CV 5/5] END ...C=100, gamma=0.0001, kernel=rbf;, score=0.473 total time=  30.2s\n",
      "[CV 1/5] END ...C=1000, gamma=0.001, kernel=rbf;, score=0.477 total time=  27.0s\n",
      "[CV 1/5] END ....C=1000, gamma=0.01, kernel=rbf;, score=0.504 total time=  40.5s\n",
      "[CV 2/5] END ....C=1000, gamma=0.01, kernel=rbf;, score=0.504 total time=  39.6s\n",
      "[CV 3/5] END ....C=1000, gamma=0.01, kernel=rbf;, score=0.504 total time=  40.0s\n",
      "[CV 4/5] END ....C=1000, gamma=0.01, kernel=rbf;, score=0.500 total time=  40.5s\n",
      "[CV 5/5] END ....C=1000, gamma=0.01, kernel=rbf;, score=0.495 total time=  41.7s\n",
      "[CV 2/5] END ...C=1000, gamma=0.001, kernel=rbf;, score=0.481 total time=  27.8s\n",
      "[CV 3/5] END .....C=1000, gamma=0.1, kernel=rbf;, score=0.518 total time= 1.1min\n",
      "[CV 1/5] END .....C=1000, gamma=0.1, kernel=rbf;, score=0.516 total time= 1.3min\n",
      "[CV 5/5] END .....C=1000, gamma=0.1, kernel=rbf;, score=0.511 total time= 1.2min\n",
      "[CV 4/5] END .....C=1000, gamma=0.1, kernel=rbf;, score=0.513 total time= 1.3min\n",
      "[CV 3/5] END ...C=1000, gamma=0.001, kernel=rbf;, score=0.475 total time=  29.3s\n",
      "[CV 2/5] END .....C=1000, gamma=0.1, kernel=rbf;, score=0.520 total time= 1.4min\n",
      "[CV 1/5] END ..C=1000, gamma=0.0001, kernel=rbf;, score=0.475 total time=  27.0s\n",
      "[CV 4/5] END ...C=1000, gamma=0.001, kernel=rbf;, score=0.471 total time=  29.5s\n",
      "[CV 2/5] END ..C=1000, gamma=0.0001, kernel=rbf;, score=0.477 total time=  26.7s\n",
      "[CV 5/5] END ...C=1000, gamma=0.001, kernel=rbf;, score=0.476 total time=  29.0s\n",
      "[CV 1/5] END .......C=1000, gamma=1, kernel=rbf;, score=0.512 total time= 1.6min\n",
      "[CV 3/5] END .......C=1000, gamma=1, kernel=rbf;, score=0.496 total time= 1.6min\n",
      "[CV 2/5] END .......C=1000, gamma=1, kernel=rbf;, score=0.515 total time= 1.7min\n",
      "[CV 3/5] END ..C=1000, gamma=0.0001, kernel=rbf;, score=0.469 total time=  18.7s\n",
      "[CV 4/5] END ..C=1000, gamma=0.0001, kernel=rbf;, score=0.466 total time=  18.0s\n",
      "[CV 5/5] END .......C=1000, gamma=1, kernel=rbf;, score=0.495 total time= 1.5min\n",
      "[CV 4/5] END .......C=1000, gamma=1, kernel=rbf;, score=0.509 total time= 1.6min\n",
      "[CV 5/5] END ..C=1000, gamma=0.0001, kernel=rbf;, score=0.469 total time=  15.1s\n",
      "best parameters {'C': 1000, 'gamma': 0.1, 'kernel': 'rbf'}\n",
      "train score:  0.51\n",
      "              precision    recall  f1-score   support\n",
      "\n",
      "           1       0.58      0.58      0.58       562\n",
      "           2       0.43      0.45      0.44       562\n",
      "           3       0.43      0.46      0.44       562\n",
      "           4       0.47      0.37      0.41       562\n",
      "           5       0.61      0.69      0.65       562\n",
      "\n",
      "    accuracy                           0.51      2810\n",
      "   macro avg       0.50      0.51      0.50      2810\n",
      "weighted avg       0.50      0.51      0.50      2810\n",
      "\n"
     ]
    },
    {
     "data": {
      "image/png": "[encoded data removed]",
      "text/plain": [
       "<Figure size 400x400 with 2 Axes>"
      ]
     },
     "metadata": {},
     "output_type": "display_data"
    }
   ],
   "source": [
    "test_name =f\"{model_name}- GRID n_avis, sentiment, text length, companies\"\n",
    "# definir des hyper paramètres à tester\n",
    "param_grid = {'C': [0.1, 1, 10, 100, 1000],  \n",
    "              'gamma': [1, 0.1, 0.01, 0.001, 0.0001], \n",
    "              'kernel': ['rbf']} \n",
    "\n",
    "# tester les différents paramètres\n",
    "t0= time.time()\n",
    "model = GridSearchCV(svm.SVC(random_state = 7), param_grid, n_jobs= -1,refit = True, verbose = 3)\n",
    "model.fit(X_train, y_train)\n",
    "print(\"best parameters\", model.best_params_)\n",
    "model_report(test_name, model_name)"
   ]
  },
  {
   "attachments": {},
   "cell_type": "markdown",
   "metadata": {},
   "source": [
    "# 3. Grid SVM: text TFIDF, n_avis, sent, length"
   ]
  },
  {
   "cell_type": "code",
   "execution_count": 5,
   "metadata": {},
   "outputs": [
    {
     "ename": "NameError",
     "evalue": "name 'train' is not defined",
     "output_type": "error",
     "traceback": [
      "\u001b[0;31m---------------------------------------------------------------------------\u001b[0m",
      "\u001b[0;31mNameError\u001b[0m                                 Traceback (most recent call last)",
      "Cell \u001b[0;32mIn[5], line 3\u001b[0m\n\u001b[1;32m      1\u001b[0m test_name \u001b[39m=\u001b[39m\u001b[39mf\u001b[39m\u001b[39m\"\u001b[39m\u001b[39m{\u001b[39;00mmodel_name\u001b[39m}\u001b[39;00m\u001b[39m-text TFIDF, n_avis, sentiment, text length, companies\u001b[39m\u001b[39m\"\u001b[39m\n\u001b[1;32m      2\u001b[0m \u001b[39m# Vectorization des avis lémmatisés\u001b[39;00m\n\u001b[0;32m----> 3\u001b[0m X_train \u001b[39m=\u001b[39m review_vector(train, feature_cols)\n\u001b[1;32m      4\u001b[0m X_test \u001b[39m=\u001b[39m review_vector(test, feature_cols)\n\u001b[1;32m      6\u001b[0m model \u001b[39m=\u001b[39m svm\u001b[39m.\u001b[39mSVC(random_state \u001b[39m=\u001b[39m \u001b[39m7\u001b[39m)\n",
      "\u001b[0;31mNameError\u001b[0m: name 'train' is not defined"
     ]
    }
   ],
   "source": [
    "test_name =f\"{model_name}-text TFIDF, n_avis, sentiment, text length, companies\"\n",
    "# Vectorization des avis lémmatisés\n",
    "X_train = review_vector(train_df, feature_cols)\n",
    "X_test = review_vector(test_df, feature_cols)\n",
    "\n",
    "model = svm.SVC(random_state = 7)\n",
    "t0 = time.time()\n",
    "model.fit(X_train, y_train)\n",
    "# reporting\n",
    "model_report(test_name, model_name)"
   ]
  },
  {
   "cell_type": "code",
   "execution_count": null,
   "metadata": {},
   "outputs": [],
   "source": [
    "test_name =f\"{model_name}- GRID text TFIDF, n_avis, sentiment, text length, companies\"\n",
    "\n",
    "# definir des hyper paramètres à tester\n",
    "param_grid = {'C': [0.1, 1, 10, 100, 1000],  \n",
    "              'gamma': [1, 0.1, 0.01, 0.001, 0.0001], \n",
    "              'kernel': ['rbf']} \n",
    "\n",
    "# tester les différents paramètres\n",
    "t0= time.time()\n",
    "model = GridSearchCV(svm.SVC(random_state = 7), param_grid, n_jobs= -1, refit = True, verbose = 3)\n",
    "model.fit(X_train, y_train)\n",
    "# reporting\n",
    "model_report(test_name, model_name)"
   ]
  },
  {
   "attachments": {},
   "cell_type": "markdown",
   "metadata": {},
   "source": [
    "# Recap"
   ]
  },
  {
   "cell_type": "code",
   "execution_count": null,
   "metadata": {},
   "outputs": [],
   "source": [
    "bench = pd.read_csv(f'../reports/benchmark/{model_name}_model_benchmark.csv', index_col=0).drop_duplicates(subset=['model'], keep= \"last\")\n",
    "bench"
   ]
  }
 ],
 "metadata": {
  "kernelspec": {
   "display_name": "Python 3",
   "language": "python",
   "name": "python3"
  },
  "language_info": {
   "codemirror_mode": {
    "name": "ipython",
    "version": 3
   },
   "file_extension": ".py",
   "mimetype": "text/x-python",
   "name": "python",
   "nbconvert_exporter": "python",
   "pygments_lexer": "ipython3",
   "version": "3.9.5"
  },
  "orig_nbformat": 4,
  "vscode": {
   "interpreter": {
    "hash": "aee8b7b246df8f9039afb4144a1f6fd8d2ca17a180786b69acc140d282b71a49"
   }
  }
 },
 "nbformat": 4,
 "nbformat_minor": 2
}
