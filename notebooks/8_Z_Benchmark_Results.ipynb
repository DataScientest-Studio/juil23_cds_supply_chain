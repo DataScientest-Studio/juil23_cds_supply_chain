{
 "cells": [
  {
   "cell_type": "code",
   "execution_count": 20,
   "metadata": {},
   "outputs": [],
   "source": [
    "# compiling Benchmark results\n",
    "from os import listdir\n",
    "import pandas as pd\n",
    "import time\n",
    "\n",
    "bench_list = listdir(\"../reports/benchmark\")\n",
    "bench_list.remove(\".DS_Store\")\n",
    "\n",
    "benchmark = pd.DataFrame()\n",
    "for file in bench_list:\n",
    "    df = pd.read_csv(f'../reports/benchmark/{file}', index_col=0)\n",
    "    benchmark = pd.concat([benchmark, df])\n",
    "\n",
    "new_cols = ['model', 'grid search', 'score', 'precision',\n",
    "       'recall', 'f1', 'time_taken_mns', 'run_date', 'used/best params']\n",
    "benchmark = benchmark.reindex(columns=new_cols)\n",
    "benchmark = benchmark.sort_values(\"f1\", ascending = False)\n",
    "benchmark"
   ]
  },
  {
   "cell_type": "code",
   "execution_count": 21,
   "metadata": {},
   "outputs": [],
   "source": [
    "benchmark.to_csv(f\"../reports/classification_benchmark_{time.strftime('%Y-%m-%d', time.localtime())}.csv\")"
   ]
  }
 ],
 "metadata": {
  "kernelspec": {
   "display_name": "Python 3",
   "language": "python",
   "name": "python3"
  },
  "language_info": {
   "codemirror_mode": {
    "name": "ipython",
    "version": 3
   },
   "file_extension": ".py",
   "mimetype": "text/x-python",
   "name": "python",
   "nbconvert_exporter": "python",
   "pygments_lexer": "ipython3",
   "version": "3.9.5"
  },
  "orig_nbformat": 4,
  "vscode": {
   "interpreter": {
    "hash": "aee8b7b246df8f9039afb4144a1f6fd8d2ca17a180786b69acc140d282b71a49"
   }
  }
 },
 "nbformat": 4,
 "nbformat_minor": 2
}
