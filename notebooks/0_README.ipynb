{
 "cells": [
  {
   "cell_type": "code",
   "execution_count": null,
   "metadata": {},
   "outputs": [],
   "source": []
  },
  {
   "attachments": {},
   "cell_type": "markdown",
   "metadata": {},
   "source": [
    "<h1> # Essai de webscrapping de trustpilot 2023 10 01 LH</h1>\n",
    "\n",
    "<h3> Objectif </h3>\n",
    "collecter les avis et notes des utilisateurs concernant une catégories d'entreprises\n",
    "\n",
    "\n",
    "<h3> Structure du site </h3>\n",
    "page principale\n",
    "    catégories\n",
    "        liste des entreprises notées\n",
    "            page des entreprises avec impression des avis\n",
    "\n",
    "<h3> Stratégie de scrappping </h3>\n",
    "\n",
    "1) Choisir une catégorie \n",
    "2) Scrap 1 : depuis la page des listes de entreprises:\n",
    "    scrapper:\n",
    "- nom de l'entreprise\n",
    "- trust score\n",
    "- nombre d'avis\n",
    "- lien vers la page de l'entreprise\n",
    "\n",
    "<u> -> Sauvegarder comme df/csv \"liste_entreprises\" </u>\n",
    "\n",
    "3) Scrap 2:\n",
    "Utiliser la liste des entreprises pour scrapper sur chaque page entreprise:\n",
    "Avis:\n",
    "- Nom utilisateur/ice\n",
    "- Nombre d'avis\n",
    "- Localisation\n",
    "- Date de l'avis\n",
    "- Titre de l'avis\n",
    "- Contenu de l'avis\n",
    "- Date de l'expérience\n",
    "\n",
    "<u>-> Sauvegarder en DF/CSV \"avis\"</u>\n",
    "\n",
    "! Il faut réussir à le faire sur toutes les pages à partir du lien:\n",
    "ex: https://fr.trustpilot.com/review/liberkeys.com?page=155\n",
    "Comment savoir le nombre total de pages?\n",
    "- en essayant d'extraire la page jusuq'à erreur 404\n",
    "- ou en scrappant le bouton qui affiche la dernière page?\n",
    "\n",
    "Renforcer les métadonnées entreprise:\n",
    "scrapper:\n",
    "- A propos de [entreprise]\n",
    "- email\n",
    "- telephone\n",
    "- adresse\n",
    "- positionnement par rapport aux autres entreprises de la catégorie\n",
    "\n",
    "<u> -> Renforcer DF/CSV \"liste_entreprises\" </u>\n"
   ]
  },
  {
   "cell_type": "markdown",
   "metadata": {},
   "source": []
  }
 ],
 "metadata": {
  "kernelspec": {
   "display_name": "Python 3",
   "language": "python",
   "name": "python3"
  },
  "language_info": {
   "name": "python",
   "version": "3.9.5"
  },
  "orig_nbformat": 4,
  "vscode": {
   "interpreter": {
    "hash": "aee8b7b246df8f9039afb4144a1f6fd8d2ca17a180786b69acc140d282b71a49"
   }
  }
 },
 "nbformat": 4,
 "nbformat_minor": 2
}
