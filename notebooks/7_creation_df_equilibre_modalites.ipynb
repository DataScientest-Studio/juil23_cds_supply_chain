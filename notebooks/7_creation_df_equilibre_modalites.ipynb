{
 "cells": [
  {
   "cell_type": "code",
   "execution_count": 31,
   "metadata": {},
   "outputs": [
    {
     "data": {
      "text/html": [
       "<div>\n",
       "<style scoped>\n",
       "    .dataframe tbody tr th:only-of-type {\n",
       "        vertical-align: middle;\n",
       "    }\n",
       "\n",
       "    .dataframe tbody tr th {\n",
       "        vertical-align: top;\n",
       "    }\n",
       "\n",
       "    .dataframe thead th {\n",
       "        text-align: right;\n",
       "    }\n",
       "</style>\n",
       "<table border=\"1\" class=\"dataframe\">\n",
       "  <thead>\n",
       "    <tr style=\"text-align: right;\">\n",
       "      <th></th>\n",
       "      <th>Unnamed: 0</th>\n",
       "      <th>user</th>\n",
       "      <th>etoiles</th>\n",
       "      <th>n_avis</th>\n",
       "      <th>date_avis</th>\n",
       "      <th>date_experience</th>\n",
       "      <th>Société</th>\n",
       "      <th>text_total</th>\n",
       "      <th>jour_avis</th>\n",
       "      <th>mois_avis</th>\n",
       "      <th>...</th>\n",
       "      <th>bank__ZELF</th>\n",
       "      <th>bank__bcfinance.fr</th>\n",
       "      <th>bank__floapay.com</th>\n",
       "      <th>bank__franfinance.fr</th>\n",
       "      <th>bank__ips</th>\n",
       "      <th>bank__laNef</th>\n",
       "      <th>bank__manager.one</th>\n",
       "      <th>bank__moneywalkie.com</th>\n",
       "      <th>bank__propulsebyca.fr</th>\n",
       "      <th>bank__qui-est-la-banque-la-moins-chere.com</th>\n",
       "    </tr>\n",
       "  </thead>\n",
       "  <tbody>\n",
       "    <tr>\n",
       "      <th>0</th>\n",
       "      <td>0</td>\n",
       "      <td>Mme Rakotondrasamy Lalanirina</td>\n",
       "      <td>1</td>\n",
       "      <td>3.0</td>\n",
       "      <td>2023-10-20</td>\n",
       "      <td>2023-10-19</td>\n",
       "      <td>MaBanqueBNPParibas</td>\n",
       "      <td>Orgueil gestionnaireÇa reste une mauvaise expé...</td>\n",
       "      <td>20</td>\n",
       "      <td>10</td>\n",
       "      <td>...</td>\n",
       "      <td>0</td>\n",
       "      <td>0</td>\n",
       "      <td>0</td>\n",
       "      <td>0</td>\n",
       "      <td>0</td>\n",
       "      <td>0</td>\n",
       "      <td>0</td>\n",
       "      <td>0</td>\n",
       "      <td>0</td>\n",
       "      <td>0</td>\n",
       "    </tr>\n",
       "    <tr>\n",
       "      <th>1</th>\n",
       "      <td>1</td>\n",
       "      <td>Florian T</td>\n",
       "      <td>1</td>\n",
       "      <td>2.0</td>\n",
       "      <td>2023-10-19</td>\n",
       "      <td>2023-10-19</td>\n",
       "      <td>MaBanqueBNPParibas</td>\n",
       "      <td>Mauvaise expérience en agence physique et en l...</td>\n",
       "      <td>19</td>\n",
       "      <td>10</td>\n",
       "      <td>...</td>\n",
       "      <td>0</td>\n",
       "      <td>0</td>\n",
       "      <td>0</td>\n",
       "      <td>0</td>\n",
       "      <td>0</td>\n",
       "      <td>0</td>\n",
       "      <td>0</td>\n",
       "      <td>0</td>\n",
       "      <td>0</td>\n",
       "      <td>0</td>\n",
       "    </tr>\n",
       "  </tbody>\n",
       "</table>\n",
       "<p>2 rows × 78 columns</p>\n",
       "</div>"
      ],
      "text/plain": [
       "   Unnamed: 0                           user  etoiles  n_avis   date_avis  \\\n",
       "0           0  Mme Rakotondrasamy Lalanirina        1     3.0  2023-10-20   \n",
       "1           1                      Florian T        1     2.0  2023-10-19   \n",
       "\n",
       "  date_experience             Société  \\\n",
       "0      2023-10-19  MaBanqueBNPParibas   \n",
       "1      2023-10-19  MaBanqueBNPParibas   \n",
       "\n",
       "                                          text_total  jour_avis  mois_avis  \\\n",
       "0  Orgueil gestionnaireÇa reste une mauvaise expé...         20         10   \n",
       "1  Mauvaise expérience en agence physique et en l...         19         10   \n",
       "\n",
       "   ...  bank__ZELF  bank__bcfinance.fr  bank__floapay.com  \\\n",
       "0  ...           0                   0                  0   \n",
       "1  ...           0                   0                  0   \n",
       "\n",
       "   bank__franfinance.fr  bank__ips  bank__laNef bank__manager.one  \\\n",
       "0                     0          0            0                 0   \n",
       "1                     0          0            0                 0   \n",
       "\n",
       "   bank__moneywalkie.com bank__propulsebyca.fr  \\\n",
       "0                      0                     0   \n",
       "1                      0                     0   \n",
       "\n",
       "  bank__qui-est-la-banque-la-moins-chere.com  \n",
       "0                                          0  \n",
       "1                                          0  \n",
       "\n",
       "[2 rows x 78 columns]"
      ]
     },
     "execution_count": 31,
     "metadata": {},
     "output_type": "execute_result"
    }
   ],
   "source": [
    "import pandas as pd\n",
    "df = pd.read_csv('../data/avis/gen_clean_lemma_sent_noYc_.csv',\n",
    "                  sep=\",\", index_col = 0)\n",
    "df = df.join(pd.get_dummies(df.Société, prefix = 'bank_'))\n",
    "df.head(2)"
   ]
  },
  {
   "cell_type": "code",
   "execution_count": 32,
   "metadata": {},
   "outputs": [
    {
     "name": "stdout",
     "output_type": "stream",
     "text": [
      "total rows: 105151 \n",
      " train size: 84120 \n",
      " test size: 21031\n"
     ]
    }
   ],
   "source": [
    "# Mélange aléatoire des lignes du jeu de données\n",
    "df = df.sample(frac = 1, random_state=7)\n",
    "# split entre jeu de test et d'entrainement\n",
    "train_ratio = 0.8\n",
    "total_rows = df.shape[0]\n",
    "train_size = int(total_rows*train_ratio)\n",
    "train = df[:train_size]\n",
    "test =  df[train_size:]\n",
    "\n",
    "print(\"total rows:\",total_rows,\"\\n\",\"train size:\", train_size, \n",
    "      \"\\n\",\"test size:\",total_rows - train_size)\n"
   ]
  },
  {
   "attachments": {},
   "cell_type": "markdown",
   "metadata": {},
   "source": [
    "# subsampling manuel sur la base de la modalité minoritaire\n"
   ]
  },
  {
   "attachments": {},
   "cell_type": "markdown",
   "metadata": {},
   "source": [
    "Train"
   ]
  },
  {
   "cell_type": "code",
   "execution_count": 33,
   "metadata": {},
   "outputs": [
    {
     "name": "stderr",
     "output_type": "stream",
     "text": [
      "/var/folders/7m/gxswx1js22x0hszgmzpd29qcg1657r/T/ipykernel_51858/1110561227.py:7: SettingWithCopyWarning: \n",
      "A value is trying to be set on a copy of a slice from a DataFrame.\n",
      "Try using .loc[row_indexer,col_indexer] = value instead\n",
      "\n",
      "See the caveats in the documentation: https://pandas.pydata.org/pandas-docs/stable/user_guide/indexing.html#returning-a-view-versus-a-copy\n",
      "  train[['longueur_texte', \"n_avis\"]] = scaler.transform(train[['longueur_texte', \"n_avis\"]])\n"
     ]
    }
   ],
   "source": [
    "# normalizing\n",
    "from sklearn.preprocessing import StandardScaler\n",
    "\n",
    "# Insérez votre code ici\n",
    "norm_train = train[['longueur_texte', \"n_avis\"]]\n",
    "scaler = StandardScaler().fit(norm_train) \n",
    "train[['longueur_texte', \"n_avis\"]] = scaler.transform(train[['longueur_texte', \"n_avis\"]])\n"
   ]
  },
  {
   "cell_type": "code",
   "execution_count": 34,
   "metadata": {},
   "outputs": [
    {
     "data": {
      "text/plain": [
       "5    2137\n",
       "4    2137\n",
       "2    2137\n",
       "3    2137\n",
       "1    2137\n",
       "Name: etoiles, dtype: int64"
      ]
     },
     "execution_count": 34,
     "metadata": {},
     "output_type": "execute_result"
    }
   ],
   "source": [
    "\n",
    "mod_etoiles = train.etoiles.value_counts().sort_values()\n",
    "n_mod = mod_etoiles.min()\n",
    "train1 = train[train.etoiles ==1].iloc[0:n_mod,:]\n",
    "train2 = train[train.etoiles ==2].iloc[0:n_mod,:]\n",
    "train3 = train[train.etoiles ==3].iloc[0:n_mod,:]\n",
    "train4 = train[train.etoiles ==4].iloc[0:n_mod,:]\n",
    "train5 = train[train.etoiles ==5].iloc[0:n_mod,:]\n",
    "\n",
    "train_equal = pd.concat([train1,train2,train3,train4,train5])\n",
    "\n",
    "# On mélange à nouveau \n",
    "train_equal = train_equal.sample(frac = 1, random_state=7)\n",
    "train_equal.etoiles.value_counts()"
   ]
  },
  {
   "cell_type": "code",
   "execution_count": 35,
   "metadata": {},
   "outputs": [],
   "source": [
    "# saving balanced train dataset\n",
    "train_equal.to_csv(\"../data/avis/train_noYC_lemma_sent_equil.csv\")"
   ]
  },
  {
   "attachments": {},
   "cell_type": "markdown",
   "metadata": {},
   "source": [
    "Test"
   ]
  },
  {
   "cell_type": "code",
   "execution_count": 36,
   "metadata": {},
   "outputs": [
    {
     "name": "stderr",
     "output_type": "stream",
     "text": [
      "/var/folders/7m/gxswx1js22x0hszgmzpd29qcg1657r/T/ipykernel_51858/1170318201.py:1: SettingWithCopyWarning: \n",
      "A value is trying to be set on a copy of a slice from a DataFrame.\n",
      "Try using .loc[row_indexer,col_indexer] = value instead\n",
      "\n",
      "See the caveats in the documentation: https://pandas.pydata.org/pandas-docs/stable/user_guide/indexing.html#returning-a-view-versus-a-copy\n",
      "  test[['longueur_texte', \"n_avis\"]] = scaler.transform(test[['longueur_texte', \"n_avis\"]])\n"
     ]
    },
    {
     "data": {
      "text/plain": [
       "2    562\n",
       "3    562\n",
       "4    562\n",
       "1    562\n",
       "5    562\n",
       "Name: etoiles, dtype: int64"
      ]
     },
     "execution_count": 36,
     "metadata": {},
     "output_type": "execute_result"
    }
   ],
   "source": [
    "test[['longueur_texte', \"n_avis\"]] = scaler.transform(test[['longueur_texte', \"n_avis\"]])\n",
    "\n",
    "mod_etoiles = test.etoiles.value_counts().sort_values()\n",
    "n_mod = mod_etoiles.min()\n",
    "test1 = test[test.etoiles ==1].iloc[0:n_mod,:]\n",
    "test2 = test[test.etoiles ==2].iloc[0:n_mod,:]\n",
    "test3 = test[test.etoiles ==3].iloc[0:n_mod,:]\n",
    "test4 = test[test.etoiles ==4].iloc[0:n_mod,:]\n",
    "test5 = test[test.etoiles ==5].iloc[0:n_mod,:]\n",
    "\n",
    "test_equal = pd.concat([test1,test2,test3,test4,test5])\n",
    "\n",
    "# On mélange à nouveau \n",
    "test_equal = test_equal.sample(frac = 1, random_state=7)\n",
    "test_equal.etoiles.value_counts()"
   ]
  },
  {
   "cell_type": "code",
   "execution_count": 37,
   "metadata": {},
   "outputs": [],
   "source": [
    "# saving balanced test dataset\n",
    "test_equal.to_csv(\"../data/avis/test_noYC_lemma_sent_equil.csv\")"
   ]
  }
 ],
 "metadata": {
  "kernelspec": {
   "display_name": "Python 3",
   "language": "python",
   "name": "python3"
  },
  "language_info": {
   "codemirror_mode": {
    "name": "ipython",
    "version": 3
   },
   "file_extension": ".py",
   "mimetype": "text/x-python",
   "name": "python",
   "nbconvert_exporter": "python",
   "pygments_lexer": "ipython3",
   "version": "3.9.5"
  },
  "orig_nbformat": 4,
  "vscode": {
   "interpreter": {
    "hash": "aee8b7b246df8f9039afb4144a1f6fd8d2ca17a180786b69acc140d282b71a49"
   }
  }
 },
 "nbformat": 4,
 "nbformat_minor": 2
}
