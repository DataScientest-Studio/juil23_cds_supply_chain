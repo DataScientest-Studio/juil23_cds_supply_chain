{
 "cells": [
  {
   "cell_type": "code",
   "execution_count": 2,
   "metadata": {},
   "outputs": [
    {
     "data": {
      "text/html": [
       "<div>\n",
       "<style scoped>\n",
       "    .dataframe tbody tr th:only-of-type {\n",
       "        vertical-align: middle;\n",
       "    }\n",
       "\n",
       "    .dataframe tbody tr th {\n",
       "        vertical-align: top;\n",
       "    }\n",
       "\n",
       "    .dataframe thead th {\n",
       "        text-align: right;\n",
       "    }\n",
       "</style>\n",
       "<table border=\"1\" class=\"dataframe\">\n",
       "  <thead>\n",
       "    <tr style=\"text-align: right;\">\n",
       "      <th></th>\n",
       "      <th>Unnamed: 0</th>\n",
       "      <th>user</th>\n",
       "      <th>etoiles</th>\n",
       "      <th>n_avis</th>\n",
       "      <th>date_avis</th>\n",
       "      <th>date_experience</th>\n",
       "      <th>Société</th>\n",
       "      <th>text_total</th>\n",
       "      <th>jour_avis</th>\n",
       "      <th>mois_avis</th>\n",
       "      <th>...</th>\n",
       "      <th>mois_experience</th>\n",
       "      <th>heure_experience</th>\n",
       "      <th>annee_experience</th>\n",
       "      <th>periode_avis</th>\n",
       "      <th>longueur_texte</th>\n",
       "      <th>text_stop</th>\n",
       "      <th>text_lemma</th>\n",
       "      <th>label</th>\n",
       "      <th>score</th>\n",
       "      <th>sentiment_norm</th>\n",
       "    </tr>\n",
       "  </thead>\n",
       "  <tbody>\n",
       "    <tr>\n",
       "      <th>0</th>\n",
       "      <td>0</td>\n",
       "      <td>Mme Rakotondrasamy Lalanirina</td>\n",
       "      <td>1</td>\n",
       "      <td>3.0</td>\n",
       "      <td>2023-10-20</td>\n",
       "      <td>2023-10-19</td>\n",
       "      <td>MaBanqueBNPParibas</td>\n",
       "      <td>Orgueil gestionnaireÇa reste une mauvaise expé...</td>\n",
       "      <td>20</td>\n",
       "      <td>10</td>\n",
       "      <td>...</td>\n",
       "      <td>10</td>\n",
       "      <td>0</td>\n",
       "      <td>2023</td>\n",
       "      <td>nuit</td>\n",
       "      <td>480</td>\n",
       "      <td>Orgueil gestionnaireÇa mauvaise expérience , g...</td>\n",
       "      <td>orgueil gestionnaireça mauvais expérience , ge...</td>\n",
       "      <td>-1</td>\n",
       "      <td>0.934294</td>\n",
       "      <td>-0.934294</td>\n",
       "    </tr>\n",
       "    <tr>\n",
       "      <th>1</th>\n",
       "      <td>1</td>\n",
       "      <td>Florian T</td>\n",
       "      <td>1</td>\n",
       "      <td>2.0</td>\n",
       "      <td>2023-10-19</td>\n",
       "      <td>2023-10-19</td>\n",
       "      <td>MaBanqueBNPParibas</td>\n",
       "      <td>Mauvaise expérience en agence physique et en l...</td>\n",
       "      <td>19</td>\n",
       "      <td>10</td>\n",
       "      <td>...</td>\n",
       "      <td>10</td>\n",
       "      <td>0</td>\n",
       "      <td>2023</td>\n",
       "      <td>nuit</td>\n",
       "      <td>676</td>\n",
       "      <td>Mauvaise expérience agence physique ligneMauva...</td>\n",
       "      <td>mauvais expérience agence physique lignemauvai...</td>\n",
       "      <td>-1</td>\n",
       "      <td>0.998415</td>\n",
       "      <td>-0.998415</td>\n",
       "    </tr>\n",
       "  </tbody>\n",
       "</table>\n",
       "<p>2 rows × 23 columns</p>\n",
       "</div>"
      ],
      "text/plain": [
       "   Unnamed: 0                           user  etoiles  n_avis   date_avis  \\\n",
       "0           0  Mme Rakotondrasamy Lalanirina        1     3.0  2023-10-20   \n",
       "1           1                      Florian T        1     2.0  2023-10-19   \n",
       "\n",
       "  date_experience             Société  \\\n",
       "0      2023-10-19  MaBanqueBNPParibas   \n",
       "1      2023-10-19  MaBanqueBNPParibas   \n",
       "\n",
       "                                          text_total  jour_avis  mois_avis  \\\n",
       "0  Orgueil gestionnaireÇa reste une mauvaise expé...         20         10   \n",
       "1  Mauvaise expérience en agence physique et en l...         19         10   \n",
       "\n",
       "   ...  mois_experience  heure_experience  annee_experience  periode_avis  \\\n",
       "0  ...               10                 0              2023          nuit   \n",
       "1  ...               10                 0              2023          nuit   \n",
       "\n",
       "   longueur_texte                                          text_stop  \\\n",
       "0             480  Orgueil gestionnaireÇa mauvaise expérience , g...   \n",
       "1             676  Mauvaise expérience agence physique ligneMauva...   \n",
       "\n",
       "                                          text_lemma  label     score  \\\n",
       "0  orgueil gestionnaireça mauvais expérience , ge...     -1  0.934294   \n",
       "1  mauvais expérience agence physique lignemauvai...     -1  0.998415   \n",
       "\n",
       "  sentiment_norm  \n",
       "0      -0.934294  \n",
       "1      -0.998415  \n",
       "\n",
       "[2 rows x 23 columns]"
      ]
     },
     "execution_count": 2,
     "metadata": {},
     "output_type": "execute_result"
    }
   ],
   "source": [
    "import pandas as pd\n",
    "df = pd.read_csv('../data/avis/gen_clean_lemma_sent_noYc_.csv',\n",
    "                  sep=\",\", index_col = 0)\n",
    "df.head(2)"
   ]
  },
  {
   "cell_type": "code",
   "execution_count": 4,
   "metadata": {},
   "outputs": [
    {
     "name": "stdout",
     "output_type": "stream",
     "text": [
      "total rows: 105151 \n",
      " train size: 84120 \n",
      " test size: 21031\n"
     ]
    }
   ],
   "source": [
    "# Mélange aléatoire des lignes du jeu de données\n",
    "df = df.sample(frac = 1, random_state=7)\n",
    "# split entre jeu de test et d'entrainement\n",
    "train_ratio = 0.8\n",
    "total_rows = df.shape[0]\n",
    "train_size = int(total_rows*train_ratio)\n",
    "train = df[:train_size]\n",
    "test =  df[train_size:]\n",
    "\n",
    "print(\"total rows:\",total_rows,\"\\n\",\"train size:\", train_size, \n",
    "      \"\\n\",\"test size:\",total_rows - train_size)\n"
   ]
  },
  {
   "attachments": {},
   "cell_type": "markdown",
   "metadata": {},
   "source": [
    "# subsampling manuel sur la base de la modalité minoritaire\n"
   ]
  },
  {
   "attachments": {},
   "cell_type": "markdown",
   "metadata": {},
   "source": [
    "Train"
   ]
  },
  {
   "cell_type": "code",
   "execution_count": 5,
   "metadata": {},
   "outputs": [
    {
     "data": {
      "text/plain": [
       "5    2137\n",
       "4    2137\n",
       "2    2137\n",
       "3    2137\n",
       "1    2137\n",
       "Name: etoiles, dtype: int64"
      ]
     },
     "execution_count": 5,
     "metadata": {},
     "output_type": "execute_result"
    }
   ],
   "source": [
    "mod_etoiles = train.etoiles.value_counts().sort_values()\n",
    "n_mod = mod_etoiles.min()\n",
    "train1 = train[train.etoiles ==1].iloc[0:n_mod,:]\n",
    "train2 = train[train.etoiles ==2].iloc[0:n_mod,:]\n",
    "train3 = train[train.etoiles ==3].iloc[0:n_mod,:]\n",
    "train4 = train[train.etoiles ==4].iloc[0:n_mod,:]\n",
    "train5 = train[train.etoiles ==5].iloc[0:n_mod,:]\n",
    "\n",
    "train_equal = pd.concat([train1,train2,train3,train4,train5])\n",
    "\n",
    "# On mélange à nouveau \n",
    "train_equal = train_equal.sample(frac = 1, random_state=7)\n",
    "train_equal.etoiles.value_counts()"
   ]
  },
  {
   "cell_type": "code",
   "execution_count": 6,
   "metadata": {},
   "outputs": [],
   "source": [
    "# saving balanced train dataset\n",
    "train_equal.to_csv(\"../data/avis/train_noYC_lemma_sent_equil.csv\")"
   ]
  },
  {
   "attachments": {},
   "cell_type": "markdown",
   "metadata": {},
   "source": [
    "Test"
   ]
  },
  {
   "cell_type": "code",
   "execution_count": 7,
   "metadata": {},
   "outputs": [
    {
     "data": {
      "text/plain": [
       "2    562\n",
       "3    562\n",
       "4    562\n",
       "1    562\n",
       "5    562\n",
       "Name: etoiles, dtype: int64"
      ]
     },
     "execution_count": 7,
     "metadata": {},
     "output_type": "execute_result"
    }
   ],
   "source": [
    "mod_etoiles = test.etoiles.value_counts().sort_values()\n",
    "n_mod = mod_etoiles.min()\n",
    "test1 = test[test.etoiles ==1].iloc[0:n_mod,:]\n",
    "test2 = test[test.etoiles ==2].iloc[0:n_mod,:]\n",
    "test3 = test[test.etoiles ==3].iloc[0:n_mod,:]\n",
    "test4 = test[test.etoiles ==4].iloc[0:n_mod,:]\n",
    "test5 = test[test.etoiles ==5].iloc[0:n_mod,:]\n",
    "\n",
    "test_equal = pd.concat([test1,test2,test3,test4,test5])\n",
    "\n",
    "# On mélange à nouveau \n",
    "test_equal = test_equal.sample(frac = 1, random_state=7)\n",
    "test_equal.etoiles.value_counts()"
   ]
  },
  {
   "cell_type": "code",
   "execution_count": 8,
   "metadata": {},
   "outputs": [],
   "source": [
    "# saving balanced test dataset\n",
    "test_equal.to_csv(\"../data/avis/test_noYC_lemma_sent_equil.csv\")"
   ]
  },
  {
   "attachments": {},
   "cell_type": "markdown",
   "metadata": {},
   "source": [
    "# Creating a benchmark table for our models performance testing"
   ]
  },
  {
   "cell_type": "code",
   "execution_count": 17,
   "metadata": {},
   "outputs": [],
   "source": [
    "# Creating a benchmark table for our models performance testing\n",
    "import pandas as pd\n",
    "import numpy as np\n",
    "bench = pd.DataFrame(columns= [\"model\",\"grid search\",\"used/best params\",\n",
    "                               \"features\", \"score\", \"precision\", \"recall\",\"f1\",\n",
    "                               \"time_taken_mns\",\"run_date\"])\n",
    "bench.to_csv(\"../reports/model_benchmark.csv\")"
   ]
  }
 ],
 "metadata": {
  "kernelspec": {
   "display_name": "Python 3",
   "language": "python",
   "name": "python3"
  },
  "language_info": {
   "codemirror_mode": {
    "name": "ipython",
    "version": 3
   },
   "file_extension": ".py",
   "mimetype": "text/x-python",
   "name": "python",
   "nbconvert_exporter": "python",
   "pygments_lexer": "ipython3",
   "version": "3.9.5"
  },
  "orig_nbformat": 4,
  "vscode": {
   "interpreter": {
    "hash": "aee8b7b246df8f9039afb4144a1f6fd8d2ca17a180786b69acc140d282b71a49"
   }
  }
 },
 "nbformat": 4,
 "nbformat_minor": 2
}
