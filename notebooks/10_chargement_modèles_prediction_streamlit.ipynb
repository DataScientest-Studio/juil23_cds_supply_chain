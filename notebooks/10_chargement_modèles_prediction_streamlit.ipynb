{
 "cells": [
  {
   "cell_type": "code",
   "execution_count": null,
   "metadata": {},
   "outputs": [],
   "source": [
    "# Chargement du modèle Camembert pour la prédiction d'étoiles\n",
    "\n",
    "from transformers import CamembertTokenizer, CamembertForSequenceClassification\n",
    "import torch\n",
    "\n",
    "model = CamembertForSequenceClassification.from_pretrained('../models/camembert/model_dst_camembert/', num_labels=5)\n",
    "tokenizer = CamembertTokenizer.from_pretrained('../models/camembert/tokenizer_dst_camembert')\n",
    "\n",
    "model.eval()\n",
    "\n",
    "# Texte d'exemple\n",
    "text = \"J'adore ce produit !\"\n",
    "inputs = tokenizer(text, return_tensors=\"pt\", padding=True, truncation=True, max_length=512)\n",
    "\n",
    "with torch.no_grad():\n",
    "    outputs = model(**inputs)\n",
    "    probabilities = torch.nn.functional.softmax(outputs.logits, dim=-1)\n",
    "    predicted_class = torch.argmax(probabilities, dim=-1)\n",
    "\n",
    "print(\"Probabilities:\", probabilities.numpy())\n",
    "print(\"Predicted class:\", predicted_class.item() +1) # on rajoute 1 car classes d'entrainement de 0 à 4"
   ]
  }
 ],
 "metadata": {
  "language_info": {
   "name": "python"
  }
 },
 "nbformat": 4,
 "nbformat_minor": 2
}
