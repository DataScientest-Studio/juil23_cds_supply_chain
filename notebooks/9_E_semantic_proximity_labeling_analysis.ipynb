{
 "cells": [
  {
   "cell_type": "code",
   "execution_count": null,
   "metadata": {},
   "outputs": [],
   "source": [
    "import pandas as pd\n",
    "import spacy\n",
    "import time\n",
    "import seaborn as sns\n",
    "import matplotlib.pyplot as plt\n",
    "\n",
    "df = pd.read_csv(\"../data/avis/gen_df_clean_similarity_labelled.csv\",  delimiter=',', quotechar='\"', encoding='utf-8',index_col= 0)\n",
    "\n",
    "nlp = spacy.load(\"fr_core_news_lg\")\n",
    "# increase the max text to be displayed\n",
    "# pd.options.display.max_colwidth = 1000\n",
    "df.head()"
   ]
  },
  {
   "attachments": {},
   "cell_type": "markdown",
   "metadata": {},
   "source": [
    "Visualisation messages labelisés comme services efficaces vs le reste "
   ]
  },
  {
   "attachments": {},
   "cell_type": "markdown",
   "metadata": {},
   "source": [
    "Labelisation des messages \"services inefficaces\""
   ]
  },
  {
   "attachments": {},
   "cell_type": "markdown",
   "metadata": {},
   "source": [
    "Visualisation messages labélisés \"services efficaces\", \"services ineficaces\" et \"mitigés\" (à la fois positifs pour services efficace et inefficace)"
   ]
  },
  {
   "cell_type": "code",
   "execution_count": null,
   "metadata": {},
   "outputs": [],
   "source": []
  },
  {
   "cell_type": "code",
   "execution_count": null,
   "metadata": {},
   "outputs": [],
   "source": [
    "# we need to get absolute categories\n",
    "df[\"abs_good_com\"] = df.c_good_com\n",
    "df[\"abs_bad_com\"] = df.c_bad_com\n",
    "# Com\n",
    "\n",
    "for index, line in enumerate(df.c_bad_com):\n",
    "    if line == df.c_good_com.iloc[index]:\n",
    "        df['abs_good_com'].iloc[index] = 0\n",
    "        df['abs_bad_com'].iloc[index] = 0"
   ]
  },
  {
   "cell_type": "code",
   "execution_count": null,
   "metadata": {},
   "outputs": [],
   "source": [
    "# we need to get absolute categories\n",
    "df[\"abs_good_value\"] = df.c_good_value\n",
    "df[\"abs_bad_value\"] = df.c_bad_value\n",
    "# Com\n",
    "\n",
    "for index, line in enumerate(df.c_bad_value):\n",
    "    if line == df.c_good_value.iloc[index]:\n",
    "        df['abs_good_value'].iloc[index] = 0\n",
    "        df['abs_bad_value'].iloc[index] = 0"
   ]
  },
  {
   "cell_type": "code",
   "execution_count": null,
   "metadata": {},
   "outputs": [],
   "source": []
  },
  {
   "cell_type": "code",
   "execution_count": null,
   "metadata": {},
   "outputs": [],
   "source": [
    "# top_bank topbank\n",
    "list_top = [bank for bank in df.Société.value_counts().keys()[0:10]]\n",
    "df_top = df[df['Société'].isin(list_top)]\n",
    "\n",
    "import seaborn as sns\n",
    "plt.figure(figsize=(10,10))\n",
    "ax =sns.countplot(x = df_top.Société, hue = df_top['c_bad_efficacy']== 1)\n",
    "plt.xticks(rotation=45, ha = 'right', rotation_mode = \"anchor\");\n",
    "plt.show()"
   ]
  },
  {
   "cell_type": "code",
   "execution_count": null,
   "metadata": {},
   "outputs": [],
   "source": [
    "import pandas as pd\n",
    "import numpy as np\n",
    "import matplotlib.pyplot as plt\n",
    "from math import pi\n",
    "\n",
    "def pyramid_ratios(df):\n",
    "    count_good_efficacy = df.abs_good_efficacy[df.abs_good_efficacy == 1].count()\n",
    "    count_bad_efficacy = df.abs_bad_efficacy[df.abs_bad_efficacy == 1].count()\n",
    "    count_good_com = df.abs_good_com[df.abs_good_com ==1].count()\n",
    "    count_bad_com = df.abs_bad_com[df.abs_bad_com == 1].count()\n",
    "    count_good_value = df.abs_good_value[df.abs_good_value == 1].count()\n",
    "    count_bad_value = df.abs_bad_value[df.abs_bad_value == 1].count()\n",
    "\n",
    "    ratio_efficacy = round(count_good_efficacy/(count_good_efficacy+count_bad_efficacy),2)\n",
    "    ratio_com = round(count_good_com/(count_good_com+count_bad_com),2)\n",
    "    ratio_value = round(count_good_value/(count_good_value+count_bad_value),2)\n",
    "    return ratio_com,ratio_efficacy,ratio_value\n",
    "\n",
    "ratio_com,ratio_efficacy,ratio_value = pyramid_ratios(df)\n",
    "\n",
    "\n",
    "def pyramid(df, bank=\"all banks\", ax=None):\n",
    "    if bank != \"all banks\":\n",
    "        #print(f'Focusing on bank {bank}')\n",
    "        data = df[df.Société == bank]\n",
    "    else:\n",
    "        print(\"Matched all banks\")\n",
    "        data = df\n",
    "    \n",
    "    ratio_com, ratio_efficacy, ratio_value = pyramid_ratios(data)\n",
    "\n",
    "    # Define the number of variables and their ratings\n",
    "    num_vars = 3\n",
    "    ratings = [ratio_com, ratio_efficacy, ratio_value]\n",
    "    ratings_sum = sum(ratings)\n",
    "\n",
    "    if ratings_sum > 2:\n",
    "        data_color = \"ForestGreen\"\n",
    "    elif ratings_sum >1.5:\n",
    "        data_color = \"DarkOrange\"\n",
    "    else:\n",
    "        data_color = \"IndianRed\"\n",
    "    # Compute angle for each axis\n",
    "    angles = np.linspace(0, 2 * pi, num_vars, endpoint=False).tolist()\n",
    "    angles += angles[:1]  # Complete the loop\n",
    "\n",
    "    # Rotation to level the triangle\n",
    "    angles = [angle + pi / 2 for angle in angles]\n",
    "\n",
    "    # Ratings need to be repeated at the end to close the plot\n",
    "    ratings = np.concatenate((ratings, [ratings[0]]))\n",
    "\n",
    "    # Perfect ratings for reference\n",
    "    perfect_ratings = np.array([1, 1, 1, 1])\n",
    "\n",
    "    # Check if an axis is provided\n",
    "    if ax is None:\n",
    "        fig, ax = plt.subplots(figsize=(6, 6), subplot_kw=dict(polar=True))\n",
    "    \n",
    "    # Set the facecolor and plot\n",
    "    ax.set_facecolor('white')\n",
    "    ax.set_xticks(angles[:-1])\n",
    "    ax.set_xticklabels(['Communication\\n', '\\nEfficiency', '\\nValue'], fontsize=18, color=data_color)\n",
    "    \n",
    "     # Hide circular lines and y-axis labels\n",
    "    ax.set_yticklabels([])\n",
    "    ax.yaxis.grid(False)\n",
    "\n",
    "    # Set the limit for the radial axis\n",
    "    ax.set_ylim(0, 1)\n",
    "\n",
    "    # Define a small offset for labels to avoid overlap with high scores\n",
    "    label_offset = 1.1  # You can adjust this value as needed\n",
    "\n",
    "    ax.plot(angles, perfect_ratings, linewidth=1, linestyle=':', color='grey', alpha=0.5)\n",
    "    ax.fill(angles, perfect_ratings, color='Ivory', alpha=0.5)\n",
    "    # plotting the perfect triangle for visual reference\n",
    "    ax.plot(angles, ratings, linewidth=2, linestyle='solid', color=data_color)\n",
    "    ax.fill(angles, ratings, data_color, alpha=0.25)\n",
    "    ax.spines['polar'].set_visible(False)\n",
    "    ax.grid(color='grey', linestyle='--', linewidth=0.5, alpha=0.5)\n",
    "    plt.yticks([], [], color=\"black\", size=8)\n",
    "    plt.ylim(0, 1)\n",
    "\n",
    "    # Adding values at triangle tips\n",
    "    for angle, rating in zip(angles[:-1], ratings[:-1]):\n",
    "        ax.text(angle, rating + 0.10, f'{rating:.2f}', ha='center', va='center', fontsize=14, color=data_color)\n",
    "    \n",
    "    # Adding the sum of ratings in bold at the center of the triangle\n",
    "    ax.text(0, 0, f'{ratings_sum:.2f}', ha='center', va='center', fontsize=25, color= data_color, fontweight='bold')\n",
    "    ax.set_title(f\"Scores for {bank}\", size=25)\n"
   ]
  },
  {
   "cell_type": "code",
   "execution_count": null,
   "metadata": {},
   "outputs": [],
   "source": [
    "pyramid(df, \"Oney\")"
   ]
  },
  {
   "cell_type": "code",
   "execution_count": null,
   "metadata": {},
   "outputs": [],
   "source": [
    "# we will only keep the banks with > 1000 reviews\n",
    "all_banks =  [bank for bank in df.Société.unique()]3+\n",
    "high_pass = []\n",
    "\n",
    "for bank in all_banks:\n",
    "   tally = sum(df.Société == bank)\n",
    "   print(f\"for {bank}, count is : {tally}\")\n",
    "   if tally > 1000:\n",
    "      high_pass.append(bank)\n",
    "high_pass"
   ]
  },
  {
   "cell_type": "code",
   "execution_count": null,
   "metadata": {},
   "outputs": [],
   "source": [
    "# filtering for banks with over 1000 reviews\n",
    "banks = high_pass  \n",
    "# calculating the number of rows and cols\n",
    "n = len(banks)\n",
    "cols = 4  \n",
    "rows = n // cols + (n % cols > 0)  \n",
    "\n",
    "# plotting the pyramids\n",
    "fig, axs = plt.subplots(rows, cols, figsize=(6 * cols, 6 * rows), subplot_kw=dict(polar=True))\n",
    "axs = axs.flatten()  \n",
    "\n",
    "fig.suptitle('Ratios of positive user sentiment regarding communication, efficacy and value of banking services for banks with > 1000 reviews', fontsize=20)  # Add an overall title\n",
    "\n",
    "for idx, bank in enumerate(banks):\n",
    "    ax = axs[idx]\n",
    "    pyramid(df, bank, ax=ax)\n",
    "    ax.grid(False)  \n",
    "    ax.set_yticklabels([]) \n",
    "    ax.set_title(f'{bank}', fontsize=12) \n",
    "\n",
    "for ax in axs[len(banks):]:\n",
    "    ax.set_visible(False)\n",
    "\n",
    "plt.tight_layout(rect=[0, 0.03, 1, 0.95]) \n",
    "\n",
    "plt.show()\n"
   ]
  }
 ],
 "metadata": {
  "kernelspec": {
   "display_name": "Python 3",
   "language": "python",
   "name": "python3"
  },
  "language_info": {
   "codemirror_mode": {
    "name": "ipython",
    "version": 3
   },
   "file_extension": ".py",
   "mimetype": "text/x-python",
   "name": "python",
   "nbconvert_exporter": "python",
   "pygments_lexer": "ipython3",
   "version": "3.12.2"
  },
  "orig_nbformat": 4,
  "vscode": {
   "interpreter": {
    "hash": "aee8b7b246df8f9039afb4144a1f6fd8d2ca17a180786b69acc140d282b71a49"
   }
  }
 },
 "nbformat": 4,
 "nbformat_minor": 2
}
