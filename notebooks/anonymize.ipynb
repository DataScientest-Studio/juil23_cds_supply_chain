{
 "cells": [
  {
   "cell_type": "code",
   "execution_count": 4,
   "metadata": {},
   "outputs": [
    {
     "name": "stdout",
     "output_type": "stream",
     "text": [
      "df_clean_noYC_lemma.csv\n",
      "../data/avis/df_clean_noYC_lemma.csv\n",
      "user col not found\n",
      "train_noYC_lemma_sent_equil.csv\n",
      "../data/avis/train_noYC_lemma_sent_equil.csv\n",
      "gen_clean_lemma_sent_noYc_.csv\n",
      "../data/avis/gen_clean_lemma_sent_noYc_.csv\n",
      "df_cleaned_noYC.csv\n",
      "../data/avis/df_cleaned_noYC.csv\n",
      "test_noYC_lemma_sent_equil.csv\n",
      "../data/avis/test_noYC_lemma_sent_equil.csv\n",
      "df_cleaned.csv\n",
      "../data/avis/df_cleaned.csv\n",
      "user col not found\n",
      "general_df.csv\n",
      "../data/avis/general_df.csv\n"
     ]
    }
   ],
   "source": [
    "import pandas as pd\n",
    "import os\n",
    "\n",
    "groot = \"../data/avis/\"  \n",
    "\n",
    "# Get the list of CSV files\n",
    "list_csv = os.listdir(groot+ \"\")\n",
    "list_csv_clean = [csv for csv in list_csv if \".csv\" in csv]\n",
    "\n",
    "\n",
    "# Loop through each CSV and append to the general dataframe\n",
    "for csv_key in list_csv_clean:\n",
    "    print(csv_key)\n",
    "    print(groot+csv_key)\n",
    "    df = pd.read_csv(groot + str(csv_key), engine='python', index_col= 0)\n",
    "    try:\n",
    "        df = df.drop(\"user\",axis= 1)\n",
    "    except:\n",
    "        print(\"user col not found\")\n",
    "    df.to_csv(groot + str(csv_key))\n"
   ]
  }
 ],
 "metadata": {
  "kernelspec": {
   "display_name": "Python 3",
   "language": "python",
   "name": "python3"
  },
  "language_info": {
   "codemirror_mode": {
    "name": "ipython",
    "version": 3
   },
   "file_extension": ".py",
   "mimetype": "text/x-python",
   "name": "python",
   "nbconvert_exporter": "python",
   "pygments_lexer": "ipython3",
   "version": "3.9.5"
  },
  "orig_nbformat": 4,
  "vscode": {
   "interpreter": {
    "hash": "aee8b7b246df8f9039afb4144a1f6fd8d2ca17a180786b69acc140d282b71a49"
   }
  }
 },
 "nbformat": 4,
 "nbformat_minor": 2
}
