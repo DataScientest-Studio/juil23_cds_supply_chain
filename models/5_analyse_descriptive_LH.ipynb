{
 "cells": [
  {
   "attachments": {},
   "cell_type": "markdown",
   "metadata": {},
   "source": [
    "<h1> Analyse descriptive des données web scrapping Trust Pilot</h1>"
   ]
  },
  {
   "cell_type": "code",
   "execution_count": 1,
   "metadata": {},
   "outputs": [],
   "source": [
    "import pandas as pd\n",
    "import numpy as np"
   ]
  },
  {
   "cell_type": "code",
   "execution_count": 82,
   "metadata": {},
   "outputs": [
    {
     "data": {
      "text/plain": [
       "(170751, 11)"
      ]
     },
     "execution_count": 82,
     "metadata": {},
     "output_type": "execute_result"
    }
   ],
   "source": [
    "df = pd.read_csv(\"/Users/lheyerda/Library/CloudStorage/OneDrive-Personal/Supply Chain/data/avis/general_df.csv\")\n",
    "df.shape"
   ]
  },
  {
   "cell_type": "code",
   "execution_count": 76,
   "metadata": {},
   "outputs": [
    {
     "name": "stdout",
     "output_type": "stream",
     "text": [
      "<class 'pandas.core.frame.DataFrame'>\n",
      "RangeIndex: 170751 entries, 0 to 170750\n",
      "Data columns (total 11 columns):\n",
      " #   Column           Non-Null Count   Dtype  \n",
      "---  ------           --------------   -----  \n",
      " 0   Unnamed: 0.1     170751 non-null  int64  \n",
      " 1   Unnamed: 0       170751 non-null  object \n",
      " 2   user             170157 non-null  object \n",
      " 3   etoiles          170163 non-null  object \n",
      " 4   n_avis           169488 non-null  float64\n",
      " 5   localisation     169487 non-null  object \n",
      " 6   date_avis        169488 non-null  object \n",
      " 7   titre_avis       169488 non-null  object \n",
      " 8   text_avis        169488 non-null  object \n",
      " 9   date_experience  168813 non-null  object \n",
      " 10  page             168813 non-null  object \n",
      "dtypes: float64(1), int64(1), object(9)\n",
      "memory usage: 14.3+ MB\n"
     ]
    },
    {
     "data": {
      "text/html": [
       "<div>\n",
       "<style scoped>\n",
       "    .dataframe tbody tr th:only-of-type {\n",
       "        vertical-align: middle;\n",
       "    }\n",
       "\n",
       "    .dataframe tbody tr th {\n",
       "        vertical-align: top;\n",
       "    }\n",
       "\n",
       "    .dataframe thead th {\n",
       "        text-align: right;\n",
       "    }\n",
       "</style>\n",
       "<table border=\"1\" class=\"dataframe\">\n",
       "  <thead>\n",
       "    <tr style=\"text-align: right;\">\n",
       "      <th></th>\n",
       "      <th>Unnamed: 0.1</th>\n",
       "      <th>Unnamed: 0</th>\n",
       "      <th>user</th>\n",
       "      <th>etoiles</th>\n",
       "      <th>n_avis</th>\n",
       "      <th>localisation</th>\n",
       "      <th>date_avis</th>\n",
       "      <th>titre_avis</th>\n",
       "      <th>text_avis</th>\n",
       "      <th>date_experience</th>\n",
       "      <th>page</th>\n",
       "    </tr>\n",
       "  </thead>\n",
       "  <tbody>\n",
       "    <tr>\n",
       "      <th>0</th>\n",
       "      <td>0</td>\n",
       "      <td>0</td>\n",
       "      <td>Mme Rakotondrasamy Lalanirina</td>\n",
       "      <td>1</td>\n",
       "      <td>3.0</td>\n",
       "      <td>FR</td>\n",
       "      <td>2023-10-20T03:16:24.000Z</td>\n",
       "      <td>Orgueil gestionnaire</td>\n",
       "      <td>Ça reste une mauvaise expérience, quand ton ge...</td>\n",
       "      <td>Date de l'expérience: 19 octobre 2023</td>\n",
       "      <td>MaBanqueBNPParibas</td>\n",
       "    </tr>\n",
       "    <tr>\n",
       "      <th>1</th>\n",
       "      <td>1</td>\n",
       "      <td>1</td>\n",
       "      <td>Florian T</td>\n",
       "      <td>1</td>\n",
       "      <td>2.0</td>\n",
       "      <td>FR</td>\n",
       "      <td>2023-10-19T13:10:44.000Z</td>\n",
       "      <td>Mauvaise expérience en agence physique et en l...</td>\n",
       "      <td>Mauvaise expérience en agence classique, mon c...</td>\n",
       "      <td>Date de l'expérience: 19 octobre 2023</td>\n",
       "      <td>MaBanqueBNPParibas</td>\n",
       "    </tr>\n",
       "    <tr>\n",
       "      <th>2</th>\n",
       "      <td>2</td>\n",
       "      <td>2</td>\n",
       "      <td>Anca Visdei</td>\n",
       "      <td>5</td>\n",
       "      <td>1.0</td>\n",
       "      <td>FR</td>\n",
       "      <td>2023-10-19T15:41:51.000Z</td>\n",
       "      <td>Chère agence ,</td>\n",
       "      <td>Chère agence ,je dois bous dire que tant mon m...</td>\n",
       "      <td>Date de l'expérience: 19 octobre 2023</td>\n",
       "      <td>MaBanqueBNPParibas</td>\n",
       "    </tr>\n",
       "    <tr>\n",
       "      <th>3</th>\n",
       "      <td>3</td>\n",
       "      <td>3</td>\n",
       "      <td>Pat perso</td>\n",
       "      <td>1</td>\n",
       "      <td>5.0</td>\n",
       "      <td>FR</td>\n",
       "      <td>2023-10-18T16:13:38.000Z</td>\n",
       "      <td>Mépris ou incompétence ou les 2</td>\n",
       "      <td>RV pris à l'agence du Touquet, sur proposition...</td>\n",
       "      <td>Date de l'expérience: 17 octobre 2023</td>\n",
       "      <td>MaBanqueBNPParibas</td>\n",
       "    </tr>\n",
       "    <tr>\n",
       "      <th>4</th>\n",
       "      <td>4</td>\n",
       "      <td>4</td>\n",
       "      <td>Sylvia FABRE</td>\n",
       "      <td>2</td>\n",
       "      <td>4.0</td>\n",
       "      <td>FR</td>\n",
       "      <td>2023-10-17T22:22:10.000Z</td>\n",
       "      <td>Pas d'imprimé prévu pour transferts de compte ...</td>\n",
       "      <td>Pour une demande de transfert de fonds d'un co...</td>\n",
       "      <td>Date de l'expérience: 17 octobre 2023</td>\n",
       "      <td>MaBanqueBNPParibas</td>\n",
       "    </tr>\n",
       "  </tbody>\n",
       "</table>\n",
       "</div>"
      ],
      "text/plain": [
       "   Unnamed: 0.1 Unnamed: 0                           user etoiles  n_avis  \\\n",
       "0             0          0  Mme Rakotondrasamy Lalanirina       1     3.0   \n",
       "1             1          1                      Florian T       1     2.0   \n",
       "2             2          2                    Anca Visdei       5     1.0   \n",
       "3             3          3                      Pat perso       1     5.0   \n",
       "4             4          4                   Sylvia FABRE       2     4.0   \n",
       "\n",
       "  localisation                 date_avis  \\\n",
       "0           FR  2023-10-20T03:16:24.000Z   \n",
       "1           FR  2023-10-19T13:10:44.000Z   \n",
       "2           FR  2023-10-19T15:41:51.000Z   \n",
       "3           FR  2023-10-18T16:13:38.000Z   \n",
       "4           FR  2023-10-17T22:22:10.000Z   \n",
       "\n",
       "                                          titre_avis  \\\n",
       "0                               Orgueil gestionnaire   \n",
       "1  Mauvaise expérience en agence physique et en l...   \n",
       "2                                     Chère agence ,   \n",
       "3                    Mépris ou incompétence ou les 2   \n",
       "4  Pas d'imprimé prévu pour transferts de compte ...   \n",
       "\n",
       "                                           text_avis  \\\n",
       "0  Ça reste une mauvaise expérience, quand ton ge...   \n",
       "1  Mauvaise expérience en agence classique, mon c...   \n",
       "2  Chère agence ,je dois bous dire que tant mon m...   \n",
       "3  RV pris à l'agence du Touquet, sur proposition...   \n",
       "4  Pour une demande de transfert de fonds d'un co...   \n",
       "\n",
       "                         date_experience                page  \n",
       "0  Date de l'expérience: 19 octobre 2023  MaBanqueBNPParibas  \n",
       "1  Date de l'expérience: 19 octobre 2023  MaBanqueBNPParibas  \n",
       "2  Date de l'expérience: 19 octobre 2023  MaBanqueBNPParibas  \n",
       "3  Date de l'expérience: 17 octobre 2023  MaBanqueBNPParibas  \n",
       "4  Date de l'expérience: 17 octobre 2023  MaBanqueBNPParibas  "
      ]
     },
     "execution_count": 76,
     "metadata": {},
     "output_type": "execute_result"
    }
   ],
   "source": [
    "df.info()\n",
    "df.head()"
   ]
  },
  {
   "cell_type": "code",
   "execution_count": 83,
   "metadata": {},
   "outputs": [],
   "source": [
    "# date_experience\n",
    "\n",
    "df['date_experience']= df.date_experience.str.replace(\"Date de l'expérience: \",\"\")\n",
    "df['date_experience'] =df.date_experience.str.replace(\" \",\"-\")\n",
    "month_translation = {\n",
    "    'janvier': 'January',\n",
    "    'février': 'February',\n",
    "    'mars': 'March',\n",
    "    'avril': 'April',\n",
    "    'mai': 'May',\n",
    "    'juin': 'June',\n",
    "    'juillet': 'July',\n",
    "    'août': 'August',\n",
    "    'septembre': 'September',\n",
    "    'octobre': 'October',\n",
    "    'novembre': 'November',\n",
    "    'décembre': 'December'\n",
    "}\n",
    "for i, date in enumerate(month_translation):\n",
    "    df['date_experience'] = df.date_experience.str.replace(list(month_translation.keys())[i],list(month_translation.values())[i])\n",
    "df['date_experience'] = pd.to_datetime(df.date_experience, format='%d-%B-%Y')\n"
   ]
  },
  {
   "cell_type": "code",
   "execution_count": 79,
   "metadata": {},
   "outputs": [
    {
     "data": {
      "text/plain": [
       "0        2023-10-19\n",
       "1        2023-10-19\n",
       "2        2023-10-19\n",
       "3        2023-10-17\n",
       "4        2023-10-17\n",
       "            ...    \n",
       "170746   2023-10-04\n",
       "170747   2023-09-28\n",
       "170748   2023-10-09\n",
       "170749   2023-10-06\n",
       "170750   2023-09-26\n",
       "Name: date_experience_red, Length: 170751, dtype: datetime64[ns]"
      ]
     },
     "execution_count": 79,
     "metadata": {},
     "output_type": "execute_result"
    }
   ],
   "source": [
    "df.date_experience_red"
   ]
  },
  {
   "cell_type": "code",
   "execution_count": 84,
   "metadata": {},
   "outputs": [],
   "source": [
    "# date_experience, date_avis > datetime\n",
    "from datetime import datetime\n",
    "df['date_avis'] = pd.to_datetime(df['date_avis'])\n",
    "df['date_avis'] = df['date_avis'].apply(lambda x: x.strftime('%Y-%m-%d %H:%M:%S'))\n",
    "df['date_avis'] = pd.to_datetime(df['date_avis'])\n"
   ]
  },
  {
   "cell_type": "code",
   "execution_count": 91,
   "metadata": {},
   "outputs": [
    {
     "name": "stdout",
     "output_type": "stream",
     "text": [
      "<class 'pandas.core.frame.DataFrame'>\n",
      "RangeIndex: 170751 entries, 0 to 170750\n",
      "Data columns (total 11 columns):\n",
      " #   Column           Non-Null Count   Dtype         \n",
      "---  ------           --------------   -----         \n",
      " 0   Unnamed: 0.1     170751 non-null  int64         \n",
      " 1   Unnamed: 0       170751 non-null  object        \n",
      " 2   user             170157 non-null  object        \n",
      " 3   etoiles          170751 non-null  object        \n",
      " 4   n_avis           169488 non-null  float64       \n",
      " 5   localisation     169487 non-null  object        \n",
      " 6   date_avis        169488 non-null  datetime64[ns]\n",
      " 7   titre_avis       170751 non-null  object        \n",
      " 8   text_avis        170751 non-null  object        \n",
      " 9   date_experience  168813 non-null  datetime64[ns]\n",
      " 10  page             168813 non-null  object        \n",
      "dtypes: datetime64[ns](2), float64(1), int64(1), object(7)\n",
      "memory usage: 14.3+ MB\n"
     ]
    }
   ],
   "source": [
    "df.info()"
   ]
  },
  {
   "cell_type": "code",
   "execution_count": 102,
   "metadata": {},
   "outputs": [],
   "source": [
    "# text_avis, titre_avis > str\n",
    "df['text_avis'] = df['text_avis'].astype(\"str\")\n",
    "df['titre_avis'] = df['titre_avis'].astype(\"str\")\n",
    "\n",
    "# étoiles > int\n",
    "#df['etoiles'] = df['etoiles'].astype(\"int64\")\n",
    "liste_etoiles = [\"1\",\"2\",\"3\",\"4\",\"5\"]\n",
    "df = df[df['etoiles'].isin(liste_etoiles)]\n",
    "#"
   ]
  },
  {
   "attachments": {},
   "cell_type": "markdown",
   "metadata": {},
   "source": [
    "<h1> Analyse descriptive </h1>"
   ]
  },
  {
   "cell_type": "code",
   "execution_count": 95,
   "metadata": {},
   "outputs": [],
   "source": [
    "import seaborn as sns\n"
   ]
  },
  {
   "cell_type": "code",
   "execution_count": 105,
   "metadata": {},
   "outputs": [
    {
     "data": {
      "text/plain": [
       "5    120513\n",
       "1     23048\n",
       "4     18763\n",
       "3      4154\n",
       "2      3010\n",
       "Name: etoiles, dtype: int64"
      ]
     },
     "execution_count": 105,
     "metadata": {},
     "output_type": "execute_result"
    }
   ],
   "source": [
    "df.etoiles.value_counts()"
   ]
  },
  {
   "cell_type": "code",
   "execution_count": 107,
   "metadata": {},
   "outputs": [
    {
     "name": "stdout",
     "output_type": "stream",
     "text": [
      "<class 'pandas.core.frame.DataFrame'>\n",
      "Int64Index: 169488 entries, 0 to 170750\n",
      "Data columns (total 11 columns):\n",
      " #   Column           Non-Null Count   Dtype         \n",
      "---  ------           --------------   -----         \n",
      " 0   Unnamed: 0.1     169488 non-null  int64         \n",
      " 1   Unnamed: 0       169488 non-null  object        \n",
      " 2   user             169482 non-null  object        \n",
      " 3   etoiles          169488 non-null  object        \n",
      " 4   n_avis           169488 non-null  float64       \n",
      " 5   localisation     169487 non-null  object        \n",
      " 6   date_avis        169488 non-null  datetime64[ns]\n",
      " 7   titre_avis       169488 non-null  object        \n",
      " 8   text_avis        169488 non-null  object        \n",
      " 9   date_experience  168813 non-null  datetime64[ns]\n",
      " 10  page             168813 non-null  object        \n",
      "dtypes: datetime64[ns](2), float64(1), int64(1), object(7)\n",
      "memory usage: 19.5+ MB\n"
     ]
    }
   ],
   "source": [
    "df.info()"
   ]
  },
  {
   "attachments": {},
   "cell_type": "markdown",
   "metadata": {},
   "source": [
    "df.info()"
   ]
  },
  {
   "cell_type": "code",
   "execution_count": 112,
   "metadata": {},
   "outputs": [
    {
     "data": {
      "image/png": "[encoded data removed]",
      "text/plain": [
       "<Figure size 500x500 with 1 Axes>"
      ]
     },
     "metadata": {},
     "output_type": "display_data"
    }
   ],
   "source": [
    "df = df.sort_values('etoiles')\n",
    "sns.displot(df[\"etoiles\"]);"
   ]
  },
  {
   "cell_type": "code",
   "execution_count": 114,
   "metadata": {},
   "outputs": [
    {
     "ename": "KeyboardInterrupt",
     "evalue": "",
     "output_type": "error",
     "traceback": [
      "\u001b[0;31m---------------------------------------------------------------------------\u001b[0m",
      "\u001b[0;31mKeyboardInterrupt\u001b[0m                         Traceback (most recent call last)",
      "Cell \u001b[0;32mIn[114], line 1\u001b[0m\n\u001b[0;32m----> 1\u001b[0m sns\u001b[39m.\u001b[39;49mrelplot(x \u001b[39m=\u001b[39;49m \u001b[39m\"\u001b[39;49m\u001b[39mdate_avis\u001b[39;49m\u001b[39m\"\u001b[39;49m, y\u001b[39m=\u001b[39;49m \u001b[39m\"\u001b[39;49m\u001b[39metoiles\u001b[39;49m\u001b[39m\"\u001b[39;49m, data \u001b[39m=\u001b[39;49m df, kind \u001b[39m=\u001b[39;49m \u001b[39m\"\u001b[39;49m\u001b[39mline\u001b[39;49m\u001b[39m\"\u001b[39;49m)\n",
      "File \u001b[0;32m/Library/Frameworks/Python.framework/Versions/3.9/lib/python3.9/site-packages/seaborn/relational.py:955\u001b[0m, in \u001b[0;36mrelplot\u001b[0;34m(data, x, y, hue, size, style, units, row, col, col_wrap, row_order, col_order, palette, hue_order, hue_norm, sizes, size_order, size_norm, markers, dashes, style_order, legend, kind, height, aspect, facet_kws, **kwargs)\u001b[0m\n\u001b[1;32m    946\u001b[0m g \u001b[39m=\u001b[39m FacetGrid(\n\u001b[1;32m    947\u001b[0m     data\u001b[39m=\u001b[39mfull_data\u001b[39m.\u001b[39mdropna(axis\u001b[39m=\u001b[39m\u001b[39m1\u001b[39m, how\u001b[39m=\u001b[39m\u001b[39m\"\u001b[39m\u001b[39mall\u001b[39m\u001b[39m\"\u001b[39m),\n\u001b[1;32m    948\u001b[0m     \u001b[39m*\u001b[39m\u001b[39m*\u001b[39mgrid_kws,\n\u001b[0;32m   (...)\u001b[0m\n\u001b[1;32m    951\u001b[0m     \u001b[39m*\u001b[39m\u001b[39m*\u001b[39mfacet_kws\n\u001b[1;32m    952\u001b[0m )\n\u001b[1;32m    954\u001b[0m \u001b[39m# Draw the plot\u001b[39;00m\n\u001b[0;32m--> 955\u001b[0m g\u001b[39m.\u001b[39;49mmap_dataframe(func, \u001b[39m*\u001b[39;49m\u001b[39m*\u001b[39;49mplot_kws)\n\u001b[1;32m    957\u001b[0m \u001b[39m# Label the axes, using the original variables\u001b[39;00m\n\u001b[1;32m    958\u001b[0m \u001b[39m# Pass \"\" when the variable name is None to overwrite internal variables\u001b[39;00m\n\u001b[1;32m    959\u001b[0m g\u001b[39m.\u001b[39mset_axis_labels(variables\u001b[39m.\u001b[39mget(\u001b[39m\"\u001b[39m\u001b[39mx\u001b[39m\u001b[39m\"\u001b[39m) \u001b[39mor\u001b[39;00m \u001b[39m\"\u001b[39m\u001b[39m\"\u001b[39m, variables\u001b[39m.\u001b[39mget(\u001b[39m\"\u001b[39m\u001b[39my\u001b[39m\u001b[39m\"\u001b[39m) \u001b[39mor\u001b[39;00m \u001b[39m\"\u001b[39m\u001b[39m\"\u001b[39m)\n",
      "File \u001b[0;32m/Library/Frameworks/Python.framework/Versions/3.9/lib/python3.9/site-packages/seaborn/axisgrid.py:819\u001b[0m, in \u001b[0;36mFacetGrid.map_dataframe\u001b[0;34m(self, func, *args, **kwargs)\u001b[0m\n\u001b[1;32m    816\u001b[0m     kwargs[\u001b[39m\"\u001b[39m\u001b[39mdata\u001b[39m\u001b[39m\"\u001b[39m] \u001b[39m=\u001b[39m data_ijk\n\u001b[1;32m    818\u001b[0m     \u001b[39m# Draw the plot\u001b[39;00m\n\u001b[0;32m--> 819\u001b[0m     \u001b[39mself\u001b[39;49m\u001b[39m.\u001b[39;49m_facet_plot(func, ax, args, kwargs)\n\u001b[1;32m    821\u001b[0m \u001b[39m# For axis labels, prefer to use positional args for backcompat\u001b[39;00m\n\u001b[1;32m    822\u001b[0m \u001b[39m# but also extract the x/y kwargs and use if no corresponding arg\u001b[39;00m\n\u001b[1;32m    823\u001b[0m axis_labels \u001b[39m=\u001b[39m [kwargs\u001b[39m.\u001b[39mget(\u001b[39m\"\u001b[39m\u001b[39mx\u001b[39m\u001b[39m\"\u001b[39m, \u001b[39mNone\u001b[39;00m), kwargs\u001b[39m.\u001b[39mget(\u001b[39m\"\u001b[39m\u001b[39my\u001b[39m\u001b[39m\"\u001b[39m, \u001b[39mNone\u001b[39;00m)]\n",
      "File \u001b[0;32m/Library/Frameworks/Python.framework/Versions/3.9/lib/python3.9/site-packages/seaborn/axisgrid.py:848\u001b[0m, in \u001b[0;36mFacetGrid._facet_plot\u001b[0;34m(self, func, ax, plot_args, plot_kwargs)\u001b[0m\n\u001b[1;32m    846\u001b[0m     plot_args \u001b[39m=\u001b[39m []\n\u001b[1;32m    847\u001b[0m     plot_kwargs[\u001b[39m\"\u001b[39m\u001b[39max\u001b[39m\u001b[39m\"\u001b[39m] \u001b[39m=\u001b[39m ax\n\u001b[0;32m--> 848\u001b[0m func(\u001b[39m*\u001b[39;49mplot_args, \u001b[39m*\u001b[39;49m\u001b[39m*\u001b[39;49mplot_kwargs)\n\u001b[1;32m    850\u001b[0m \u001b[39m# Sort out the supporting information\u001b[39;00m\n\u001b[1;32m    851\u001b[0m \u001b[39mself\u001b[39m\u001b[39m.\u001b[39m_update_legend_data(ax)\n",
      "File \u001b[0;32m/Library/Frameworks/Python.framework/Versions/3.9/lib/python3.9/site-packages/seaborn/relational.py:645\u001b[0m, in \u001b[0;36mlineplot\u001b[0;34m(data, x, y, hue, size, style, units, palette, hue_order, hue_norm, sizes, size_order, size_norm, dashes, markers, style_order, estimator, errorbar, n_boot, seed, orient, sort, err_style, err_kws, legend, ci, ax, **kwargs)\u001b[0m\n\u001b[1;32m    642\u001b[0m color \u001b[39m=\u001b[39m kwargs\u001b[39m.\u001b[39mpop(\u001b[39m\"\u001b[39m\u001b[39mcolor\u001b[39m\u001b[39m\"\u001b[39m, kwargs\u001b[39m.\u001b[39mpop(\u001b[39m\"\u001b[39m\u001b[39mc\u001b[39m\u001b[39m\"\u001b[39m, \u001b[39mNone\u001b[39;00m))\n\u001b[1;32m    643\u001b[0m kwargs[\u001b[39m\"\u001b[39m\u001b[39mcolor\u001b[39m\u001b[39m\"\u001b[39m] \u001b[39m=\u001b[39m _default_color(ax\u001b[39m.\u001b[39mplot, hue, color, kwargs)\n\u001b[0;32m--> 645\u001b[0m p\u001b[39m.\u001b[39;49mplot(ax, kwargs)\n\u001b[1;32m    646\u001b[0m \u001b[39mreturn\u001b[39;00m ax\n",
      "File \u001b[0;32m/Library/Frameworks/Python.framework/Versions/3.9/lib/python3.9/site-packages/seaborn/relational.py:441\u001b[0m, in \u001b[0;36m_LinePlotter.plot\u001b[0;34m(self, ax, kws)\u001b[0m\n\u001b[1;32m    438\u001b[0m     grouped \u001b[39m=\u001b[39m sub_data\u001b[39m.\u001b[39mgroupby(orient, sort\u001b[39m=\u001b[39m\u001b[39mself\u001b[39m\u001b[39m.\u001b[39msort)\n\u001b[1;32m    439\u001b[0m     \u001b[39m# Could pass as_index=False instead of reset_index,\u001b[39;00m\n\u001b[1;32m    440\u001b[0m     \u001b[39m# but that fails on a corner case with older pandas.\u001b[39;00m\n\u001b[0;32m--> 441\u001b[0m     sub_data \u001b[39m=\u001b[39m grouped\u001b[39m.\u001b[39;49mapply(agg, other)\u001b[39m.\u001b[39mreset_index()\n\u001b[1;32m    442\u001b[0m \u001b[39melse\u001b[39;00m:\n\u001b[1;32m    443\u001b[0m     sub_data[\u001b[39mf\u001b[39m\u001b[39m\"\u001b[39m\u001b[39m{\u001b[39;00mother\u001b[39m}\u001b[39;00m\u001b[39mmin\u001b[39m\u001b[39m\"\u001b[39m] \u001b[39m=\u001b[39m np\u001b[39m.\u001b[39mnan\n",
      "File \u001b[0;32m/Library/Frameworks/Python.framework/Versions/3.9/lib/python3.9/site-packages/pandas/core/groupby/groupby.py:1567\u001b[0m, in \u001b[0;36mGroupBy.apply\u001b[0;34m(self, func, *args, **kwargs)\u001b[0m\n\u001b[1;32m   1559\u001b[0m     new_msg \u001b[39m=\u001b[39m (\n\u001b[1;32m   1560\u001b[0m         \u001b[39mf\u001b[39m\u001b[39m\"\u001b[39m\u001b[39mThe operation \u001b[39m\u001b[39m{\u001b[39;00morig_func\u001b[39m}\u001b[39;00m\u001b[39m failed on a column. If any error is \u001b[39m\u001b[39m\"\u001b[39m\n\u001b[1;32m   1561\u001b[0m         \u001b[39mf\u001b[39m\u001b[39m\"\u001b[39m\u001b[39mraised, this will raise an exception in a future version \u001b[39m\u001b[39m\"\u001b[39m\n\u001b[1;32m   1562\u001b[0m         \u001b[39mf\u001b[39m\u001b[39m\"\u001b[39m\u001b[39mof pandas. Drop these columns to avoid this warning.\u001b[39m\u001b[39m\"\u001b[39m\n\u001b[1;32m   1563\u001b[0m     )\n\u001b[1;32m   1564\u001b[0m     \u001b[39mwith\u001b[39;00m rewrite_warning(\n\u001b[1;32m   1565\u001b[0m         old_msg, \u001b[39mFutureWarning\u001b[39;00m, new_msg\n\u001b[1;32m   1566\u001b[0m     ) \u001b[39mif\u001b[39;00m is_np_func \u001b[39melse\u001b[39;00m nullcontext():\n\u001b[0;32m-> 1567\u001b[0m         result \u001b[39m=\u001b[39m \u001b[39mself\u001b[39;49m\u001b[39m.\u001b[39;49m_python_apply_general(f, \u001b[39mself\u001b[39;49m\u001b[39m.\u001b[39;49m_selected_obj)\n\u001b[1;32m   1568\u001b[0m \u001b[39mexcept\u001b[39;00m \u001b[39mTypeError\u001b[39;00m:\n\u001b[1;32m   1569\u001b[0m     \u001b[39m# gh-20949\u001b[39;00m\n\u001b[1;32m   1570\u001b[0m     \u001b[39m# try again, with .apply acting as a filtering\u001b[39;00m\n\u001b[0;32m   (...)\u001b[0m\n\u001b[1;32m   1574\u001b[0m     \u001b[39m# fails on *some* columns, e.g. a numeric operation\u001b[39;00m\n\u001b[1;32m   1575\u001b[0m     \u001b[39m# on a string grouper column\u001b[39;00m\n\u001b[1;32m   1577\u001b[0m     \u001b[39mwith\u001b[39;00m \u001b[39mself\u001b[39m\u001b[39m.\u001b[39m_group_selection_context():\n\u001b[1;32m   1578\u001b[0m         \u001b[39m# GH#50538\u001b[39;00m\n",
      "File \u001b[0;32m/Library/Frameworks/Python.framework/Versions/3.9/lib/python3.9/site-packages/pandas/core/groupby/groupby.py:1629\u001b[0m, in \u001b[0;36mGroupBy._python_apply_general\u001b[0;34m(self, f, data, not_indexed_same, is_transform, is_agg)\u001b[0m\n\u001b[1;32m   1592\u001b[0m \u001b[39m@final\u001b[39m\n\u001b[1;32m   1593\u001b[0m \u001b[39mdef\u001b[39;00m \u001b[39m_python_apply_general\u001b[39m(\n\u001b[1;32m   1594\u001b[0m     \u001b[39mself\u001b[39m,\n\u001b[0;32m   (...)\u001b[0m\n\u001b[1;32m   1599\u001b[0m     is_agg: \u001b[39mbool\u001b[39m \u001b[39m=\u001b[39m \u001b[39mFalse\u001b[39;00m,\n\u001b[1;32m   1600\u001b[0m ) \u001b[39m-\u001b[39m\u001b[39m>\u001b[39m NDFrameT:\n\u001b[1;32m   1601\u001b[0m \u001b[39m    \u001b[39m\u001b[39m\"\"\"\u001b[39;00m\n\u001b[1;32m   1602\u001b[0m \u001b[39m    Apply function f in python space\u001b[39;00m\n\u001b[1;32m   1603\u001b[0m \n\u001b[0;32m   (...)\u001b[0m\n\u001b[1;32m   1627\u001b[0m \u001b[39m        data after applying f\u001b[39;00m\n\u001b[1;32m   1628\u001b[0m \u001b[39m    \"\"\"\u001b[39;00m\n\u001b[0;32m-> 1629\u001b[0m     values, mutated \u001b[39m=\u001b[39m \u001b[39mself\u001b[39;49m\u001b[39m.\u001b[39;49mgrouper\u001b[39m.\u001b[39;49mapply(f, data, \u001b[39mself\u001b[39;49m\u001b[39m.\u001b[39;49maxis)\n\u001b[1;32m   1630\u001b[0m     \u001b[39mif\u001b[39;00m not_indexed_same \u001b[39mis\u001b[39;00m \u001b[39mNone\u001b[39;00m:\n\u001b[1;32m   1631\u001b[0m         not_indexed_same \u001b[39m=\u001b[39m mutated \u001b[39mor\u001b[39;00m \u001b[39mself\u001b[39m\u001b[39m.\u001b[39mmutated\n",
      "File \u001b[0;32m/Library/Frameworks/Python.framework/Versions/3.9/lib/python3.9/site-packages/pandas/core/groupby/ops.py:839\u001b[0m, in \u001b[0;36mBaseGrouper.apply\u001b[0;34m(self, f, data, axis)\u001b[0m\n\u001b[1;32m    837\u001b[0m \u001b[39m# group might be modified\u001b[39;00m\n\u001b[1;32m    838\u001b[0m group_axes \u001b[39m=\u001b[39m group\u001b[39m.\u001b[39maxes\n\u001b[0;32m--> 839\u001b[0m res \u001b[39m=\u001b[39m f(group)\n\u001b[1;32m    840\u001b[0m \u001b[39mif\u001b[39;00m \u001b[39mnot\u001b[39;00m mutated \u001b[39mand\u001b[39;00m \u001b[39mnot\u001b[39;00m _is_indexed_like(res, group_axes, axis):\n\u001b[1;32m    841\u001b[0m     mutated \u001b[39m=\u001b[39m \u001b[39mTrue\u001b[39;00m\n",
      "File \u001b[0;32m/Library/Frameworks/Python.framework/Versions/3.9/lib/python3.9/site-packages/pandas/core/groupby/groupby.py:1540\u001b[0m, in \u001b[0;36mGroupBy.apply.<locals>.f\u001b[0;34m(g)\u001b[0m\n\u001b[1;32m   1537\u001b[0m \u001b[39m@wraps\u001b[39m(func)\n\u001b[1;32m   1538\u001b[0m \u001b[39mdef\u001b[39;00m \u001b[39mf\u001b[39m(g):\n\u001b[1;32m   1539\u001b[0m     \u001b[39mwith\u001b[39;00m np\u001b[39m.\u001b[39merrstate(\u001b[39mall\u001b[39m\u001b[39m=\u001b[39m\u001b[39m\"\u001b[39m\u001b[39mignore\u001b[39m\u001b[39m\"\u001b[39m):\n\u001b[0;32m-> 1540\u001b[0m         \u001b[39mreturn\u001b[39;00m func(g, \u001b[39m*\u001b[39;49margs, \u001b[39m*\u001b[39;49m\u001b[39m*\u001b[39;49mkwargs)\n",
      "File \u001b[0;32m/Library/Frameworks/Python.framework/Versions/3.9/lib/python3.9/site-packages/seaborn/_statistics.py:516\u001b[0m, in \u001b[0;36mEstimateAggregator.__call__\u001b[0;34m(self, data, var)\u001b[0m\n\u001b[1;32m    513\u001b[0m     boots \u001b[39m=\u001b[39m bootstrap(vals, units\u001b[39m=\u001b[39munits, func\u001b[39m=\u001b[39m\u001b[39mself\u001b[39m\u001b[39m.\u001b[39mestimator, \u001b[39m*\u001b[39m\u001b[39m*\u001b[39m\u001b[39mself\u001b[39m\u001b[39m.\u001b[39mboot_kws)\n\u001b[1;32m    514\u001b[0m     err_min, err_max \u001b[39m=\u001b[39m _percentile_interval(boots, \u001b[39mself\u001b[39m\u001b[39m.\u001b[39merror_level)\n\u001b[0;32m--> 516\u001b[0m \u001b[39mreturn\u001b[39;00m pd\u001b[39m.\u001b[39;49mSeries({var: estimate, \u001b[39mf\u001b[39;49m\u001b[39m\"\u001b[39;49m\u001b[39m{\u001b[39;49;00mvar\u001b[39m}\u001b[39;49;00m\u001b[39mmin\u001b[39;49m\u001b[39m\"\u001b[39;49m: err_min, \u001b[39mf\u001b[39;49m\u001b[39m\"\u001b[39;49m\u001b[39m{\u001b[39;49;00mvar\u001b[39m}\u001b[39;49;00m\u001b[39mmax\u001b[39;49m\u001b[39m\"\u001b[39;49m: err_max})\n",
      "File \u001b[0;32m/Library/Frameworks/Python.framework/Versions/3.9/lib/python3.9/site-packages/pandas/core/series.py:436\u001b[0m, in \u001b[0;36mSeries.__init__\u001b[0;34m(self, data, index, dtype, name, copy, fastpath)\u001b[0m\n\u001b[1;32m    434\u001b[0m     data \u001b[39m=\u001b[39m data\u001b[39m.\u001b[39m_mgr\n\u001b[1;32m    435\u001b[0m \u001b[39melif\u001b[39;00m is_dict_like(data):\n\u001b[0;32m--> 436\u001b[0m     data, index \u001b[39m=\u001b[39m \u001b[39mself\u001b[39;49m\u001b[39m.\u001b[39;49m_init_dict(data, index, dtype)\n\u001b[1;32m    437\u001b[0m     dtype \u001b[39m=\u001b[39m \u001b[39mNone\u001b[39;00m\n\u001b[1;32m    438\u001b[0m     copy \u001b[39m=\u001b[39m \u001b[39mFalse\u001b[39;00m\n",
      "File \u001b[0;32m/Library/Frameworks/Python.framework/Versions/3.9/lib/python3.9/site-packages/pandas/core/series.py:529\u001b[0m, in \u001b[0;36mSeries._init_dict\u001b[0;34m(self, data, index, dtype)\u001b[0m\n\u001b[1;32m    524\u001b[0m     keys, values \u001b[39m=\u001b[39m (), []\n\u001b[1;32m    526\u001b[0m \u001b[39m# Input is now list-like, so rely on \"standard\" construction:\u001b[39;00m\n\u001b[1;32m    527\u001b[0m \n\u001b[1;32m    528\u001b[0m \u001b[39m# TODO: passing np.float64 to not break anything yet. See GH-17261\u001b[39;00m\n\u001b[0;32m--> 529\u001b[0m s \u001b[39m=\u001b[39m create_series_with_explicit_dtype(\n\u001b[1;32m    530\u001b[0m     \u001b[39m# error: Argument \"index\" to \"create_series_with_explicit_dtype\" has\u001b[39;49;00m\n\u001b[1;32m    531\u001b[0m     \u001b[39m# incompatible type \"Tuple[Any, ...]\"; expected \"Union[ExtensionArray,\u001b[39;49;00m\n\u001b[1;32m    532\u001b[0m     \u001b[39m# ndarray, Index, None]\"\u001b[39;49;00m\n\u001b[1;32m    533\u001b[0m     values,\n\u001b[1;32m    534\u001b[0m     index\u001b[39m=\u001b[39;49mkeys,  \u001b[39m# type: ignore[arg-type]\u001b[39;49;00m\n\u001b[1;32m    535\u001b[0m     dtype\u001b[39m=\u001b[39;49mdtype,\n\u001b[1;32m    536\u001b[0m     dtype_if_empty\u001b[39m=\u001b[39;49mnp\u001b[39m.\u001b[39;49mfloat64,\n\u001b[1;32m    537\u001b[0m )\n\u001b[1;32m    539\u001b[0m \u001b[39m# Now we just make sure the order is respected, if any\u001b[39;00m\n\u001b[1;32m    540\u001b[0m \u001b[39mif\u001b[39;00m data \u001b[39mand\u001b[39;00m index \u001b[39mis\u001b[39;00m \u001b[39mnot\u001b[39;00m \u001b[39mNone\u001b[39;00m:\n",
      "File \u001b[0;32m/Library/Frameworks/Python.framework/Versions/3.9/lib/python3.9/site-packages/pandas/core/construction.py:915\u001b[0m, in \u001b[0;36mcreate_series_with_explicit_dtype\u001b[0;34m(data, index, dtype, name, copy, fastpath, dtype_if_empty)\u001b[0m\n\u001b[1;32m    913\u001b[0m \u001b[39mif\u001b[39;00m is_empty_data(data) \u001b[39mand\u001b[39;00m dtype \u001b[39mis\u001b[39;00m \u001b[39mNone\u001b[39;00m:\n\u001b[1;32m    914\u001b[0m     dtype \u001b[39m=\u001b[39m dtype_if_empty\n\u001b[0;32m--> 915\u001b[0m \u001b[39mreturn\u001b[39;00m Series(\n\u001b[1;32m    916\u001b[0m     data\u001b[39m=\u001b[39;49mdata, index\u001b[39m=\u001b[39;49mindex, dtype\u001b[39m=\u001b[39;49mdtype, name\u001b[39m=\u001b[39;49mname, copy\u001b[39m=\u001b[39;49mcopy, fastpath\u001b[39m=\u001b[39;49mfastpath\n\u001b[1;32m    917\u001b[0m )\n",
      "File \u001b[0;32m/Library/Frameworks/Python.framework/Versions/3.9/lib/python3.9/site-packages/pandas/core/series.py:470\u001b[0m, in \u001b[0;36mSeries.__init__\u001b[0;34m(self, data, index, dtype, name, copy, fastpath)\u001b[0m\n\u001b[1;32m    468\u001b[0m         data \u001b[39m=\u001b[39m data\u001b[39m.\u001b[39mcopy()\n\u001b[1;32m    469\u001b[0m \u001b[39melse\u001b[39;00m:\n\u001b[0;32m--> 470\u001b[0m     data \u001b[39m=\u001b[39m sanitize_array(data, index, dtype, copy)\n\u001b[1;32m    472\u001b[0m     manager \u001b[39m=\u001b[39m get_option(\u001b[39m\"\u001b[39m\u001b[39mmode.data_manager\u001b[39m\u001b[39m\"\u001b[39m)\n\u001b[1;32m    473\u001b[0m     \u001b[39mif\u001b[39;00m manager \u001b[39m==\u001b[39m \u001b[39m\"\u001b[39m\u001b[39mblock\u001b[39m\u001b[39m\"\u001b[39m:\n",
      "File \u001b[0;32m/Library/Frameworks/Python.framework/Versions/3.9/lib/python3.9/site-packages/pandas/core/construction.py:642\u001b[0m, in \u001b[0;36msanitize_array\u001b[0;34m(data, index, dtype, copy, raise_cast_failure, allow_2d)\u001b[0m\n\u001b[1;32m    640\u001b[0m             \u001b[39mraise\u001b[39;00m\n\u001b[1;32m    641\u001b[0m \u001b[39melse\u001b[39;00m:\n\u001b[0;32m--> 642\u001b[0m     subarr \u001b[39m=\u001b[39m maybe_convert_platform(data)\n\u001b[1;32m    643\u001b[0m     \u001b[39mif\u001b[39;00m subarr\u001b[39m.\u001b[39mdtype \u001b[39m==\u001b[39m \u001b[39mobject\u001b[39m:\n\u001b[1;32m    644\u001b[0m         subarr \u001b[39m=\u001b[39m cast(np\u001b[39m.\u001b[39mndarray, subarr)\n",
      "File \u001b[0;32m/Library/Frameworks/Python.framework/Versions/3.9/lib/python3.9/site-packages/pandas/core/dtypes/cast.py:135\u001b[0m, in \u001b[0;36mmaybe_convert_platform\u001b[0;34m(values)\u001b[0m\n\u001b[1;32m    133\u001b[0m \u001b[39mif\u001b[39;00m arr\u001b[39m.\u001b[39mdtype \u001b[39m==\u001b[39m _dtype_obj:\n\u001b[1;32m    134\u001b[0m     arr \u001b[39m=\u001b[39m cast(np\u001b[39m.\u001b[39mndarray, arr)\n\u001b[0;32m--> 135\u001b[0m     arr \u001b[39m=\u001b[39m lib\u001b[39m.\u001b[39;49mmaybe_convert_objects(arr)\n\u001b[1;32m    137\u001b[0m \u001b[39mreturn\u001b[39;00m arr\n",
      "\u001b[0;31mKeyboardInterrupt\u001b[0m: "
     ]
    },
    {
     "data": {
      "image/png": "[encoded data removed]",
      "text/plain": [
       "<Figure size 500x500 with 1 Axes>"
      ]
     },
     "metadata": {},
     "output_type": "display_data"
    }
   ],
   "source": []
  },
  {
   "cell_type": "code",
   "execution_count": null,
   "metadata": {},
   "outputs": [],
   "source": []
  }
 ],
 "metadata": {
  "kernelspec": {
   "display_name": "Python 3",
   "language": "python",
   "name": "python3"
  },
  "language_info": {
   "codemirror_mode": {
    "name": "ipython",
    "version": 3
   },
   "file_extension": ".py",
   "mimetype": "text/x-python",
   "name": "python",
   "nbconvert_exporter": "python",
   "pygments_lexer": "ipython3",
   "version": "3.9.5"
  },
  "orig_nbformat": 4,
  "vscode": {
   "interpreter": {
    "hash": "aee8b7b246df8f9039afb4144a1f6fd8d2ca17a180786b69acc140d282b71a49"
   }
  }
 },
 "nbformat": 4,
 "nbformat_minor": 2
}
