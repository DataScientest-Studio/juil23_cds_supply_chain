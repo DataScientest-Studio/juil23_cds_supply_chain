{
 "cells": [
  {
   "cell_type": "code",
   "execution_count": 4,
   "metadata": {},
   "outputs": [
    {
     "ename": "NameError",
     "evalue": "name 'key_path' is not defined",
     "output_type": "error",
     "traceback": [
      "\u001b[0;31m---------------------------------------------------------------------------\u001b[0m",
      "\u001b[0;31mNameError\u001b[0m                                 Traceback (most recent call last)",
      "Cell \u001b[0;32mIn[4], line 4\u001b[0m\n\u001b[1;32m      1\u001b[0m \u001b[38;5;28;01mfrom\u001b[39;00m \u001b[38;5;21;01mos\u001b[39;00m \u001b[38;5;28;01mimport\u001b[39;00m listdir\n\u001b[1;32m      2\u001b[0m \u001b[38;5;28;01mimport\u001b[39;00m \u001b[38;5;21;01mpandas\u001b[39;00m \u001b[38;5;28;01mas\u001b[39;00m \u001b[38;5;21;01mpd\u001b[39;00m\n\u001b[0;32m----> 4\u001b[0m bench_list \u001b[38;5;241m=\u001b[39m listdir(\u001b[38;5;124mf\u001b[39m\u001b[38;5;124m\"\u001b[39m\u001b[38;5;132;01m{\u001b[39;00m\u001b[43mkey_path\u001b[49m\u001b[38;5;132;01m}\u001b[39;00m\u001b[38;5;124m/reports/benchmark\u001b[39m\u001b[38;5;124m\"\u001b[39m)\n\u001b[1;32m      5\u001b[0m     \u001b[38;5;66;03m# bench_list.remove(\".DS_Store\")\u001b[39;00m\n\u001b[1;32m      7\u001b[0m benchmark \u001b[38;5;241m=\u001b[39m pd\u001b[38;5;241m.\u001b[39mDataFrame()\n",
      "\u001b[0;31mNameError\u001b[0m: name 'key_path' is not defined"
     ]
    }
   ],
   "source": [
    "from os import listdir\n",
    "import pandas as pd\n",
    "\n",
    "bench_list = listdir(f\"../reports/benchmark\")\n",
    "    # bench_list.remove(\".DS_Store\")\n",
    "\n",
    "benchmark = pd.DataFrame()\n",
    "\n",
    "for file in bench_list:\n",
    "    df = pd.read_csv(f'{key_path}/reports/benchmark/{file}', index_col=0)\n",
    "    benchmark = pd.concat([benchmark, df])\n",
    "\n",
    "new_cols = ['model', 'grid search', 'score', 'precision', 'recall', 'f1', 'time_taken_mns', 'run_date', 'used/best params']\n",
    "benchmark = benchmark.reindex(columns=new_cols)\n",
    "benchmark = benchmark.sort_values(\"f1\", ascending = False)\n",
    "benchmark= benchmark[benchmark.score!='na']\n",
    "benchmark"
   ]
  }
 ],
 "metadata": {
  "kernelspec": {
   "display_name": "Python 3",
   "language": "python",
   "name": "python3"
  },
  "language_info": {
   "codemirror_mode": {
    "name": "ipython",
    "version": 3
   },
   "file_extension": ".py",
   "mimetype": "text/x-python",
   "name": "python",
   "nbconvert_exporter": "python",
   "pygments_lexer": "ipython3",
   "version": "3.12.3"
  }
 },
 "nbformat": 4,
 "nbformat_minor": 2
}
